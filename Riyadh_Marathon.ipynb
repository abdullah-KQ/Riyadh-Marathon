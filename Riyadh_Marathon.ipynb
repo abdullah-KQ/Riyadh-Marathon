{
  "cells": [
    {
      "cell_type": "code",
      "execution_count": 205,
      "id": "e69c4ba1-85f3-4a02-ae37-c64347a01803",
      "metadata": {
        "id": "e69c4ba1-85f3-4a02-ae37-c64347a01803"
      },
      "outputs": [],
      "source": [
        "#Import all relevant libraries\n",
        "import numpy as np\n",
        "import pandas as pd\n",
        "import matplotlib.pyplot as plt\n",
        "import seaborn as sns\n",
        "from scipy.stats import zscore\n",
        "\n",
        "## This statement allows the visuals to render within your Jupyter Notebook.\n",
        "%matplotlib inline"
      ]
    },
    {
      "cell_type": "markdown",
      "id": "e395e8bf-b530-4720-8d0f-26811e927d6e",
      "metadata": {
        "id": "e395e8bf-b530-4720-8d0f-26811e927d6e"
      },
      "source": [
        "## Loading the data\n",
        "We can now load the dataset into pandas using the read_csv() function. This converts the CSV file into a Pandas dataframe."
      ]
    },
    {
      "cell_type": "code",
      "source": [
        "from google.colab import drive\n",
        "drive.mount('/content/drive')"
      ],
      "metadata": {
        "colab": {
          "base_uri": "https://localhost:8080/"
        },
        "id": "m--ENIetfh_3",
        "outputId": "729b9f6e-b6b0-4cf0-920b-2be26d13a9e8"
      },
      "id": "m--ENIetfh_3",
      "execution_count": 206,
      "outputs": [
        {
          "output_type": "stream",
          "name": "stdout",
          "text": [
            "Drive already mounted at /content/drive; to attempt to forcibly remount, call drive.mount(\"/content/drive\", force_remount=True).\n"
          ]
        }
      ]
    },
    {
      "cell_type": "code",
      "execution_count": 207,
      "id": "cf4030b0-aa7f-4bd7-8e9c-c1b7f4d202d0",
      "metadata": {
        "id": "cf4030b0-aa7f-4bd7-8e9c-c1b7f4d202d0"
      },
      "outputs": [],
      "source": [
        "#Read in the csv file and convert to a Pandas dataframe\n",
        "Marathon_df = pd.read_csv('/content/drive/MyDrive/projects/Riyadh Marathon/Riyadh Marathon Results.csv')"
      ]
    },
    {
      "cell_type": "markdown",
      "id": "ca5ed983-0f72-43eb-8168-6fafd48c562e",
      "metadata": {
        "id": "ca5ed983-0f72-43eb-8168-6fafd48c562e"
      },
      "source": [
        "### Viewing the dataframe\n",
        "We can get a quick sense of the size of our dataset by using the shape method. This returns a tuple with the number of rows and columns in the dataset."
      ]
    },
    {
      "cell_type": "code",
      "source": [
        "Marathon_df.shape"
      ],
      "metadata": {
        "colab": {
          "base_uri": "https://localhost:8080/"
        },
        "id": "iVikdZhSkNxH",
        "outputId": "1ed7319d-e8b2-4689-e959-b069c148d2b0"
      },
      "id": "iVikdZhSkNxH",
      "execution_count": 208,
      "outputs": [
        {
          "output_type": "execute_result",
          "data": {
            "text/plain": [
              "(6397, 12)"
            ]
          },
          "metadata": {},
          "execution_count": 208
        }
      ]
    },
    {
      "cell_type": "code",
      "execution_count": 209,
      "id": "bfde0b69-613c-4dd1-8ebf-e4d2e570e653",
      "metadata": {
        "colab": {
          "base_uri": "https://localhost:8080/",
          "height": 310
        },
        "id": "bfde0b69-613c-4dd1-8ebf-e4d2e570e653",
        "outputId": "897b7f59-e1cf-4f10-a95a-fe2c00065d42"
      },
      "outputs": [
        {
          "output_type": "execute_result",
          "data": {
            "text/plain": [
              "   Unnamed: 0       Rank Gender Rank                                  Name  \\\n",
              "0           0  46 / 2285     1 / 761  6b848725-e44d-42d8-a278-ae67faa9cb80   \n",
              "1           1  53 / 2285     2 / 761  6b848725-e44d-42d8-a278-ae67faa9cb80   \n",
              "2           2  55 / 2285     3 / 761  6b848725-e44d-42d8-a278-ae67faa9cb80   \n",
              "3           3  88 / 2285     4 / 761  6b848725-e44d-42d8-a278-ae67faa9cb80   \n",
              "4           4  93 / 2285     5 / 761  6b848725-e44d-42d8-a278-ae67faa9cb80   \n",
              "\n",
              "   Gender  Category         Nationality      Gun Time     Chip Time  \\\n",
              "0  Female  10KM RUN  [img:flags/SA.gif]  00:42:59.556  00:42:57.505   \n",
              "1  Female  10KM RUN  [img:flags/CZ.gif]  00:43:28.175  00:43:24.774   \n",
              "2  Female  10KM RUN  [img:flags/SA.gif]  00:44:00.251  00:43:56.317   \n",
              "3  Female  10KM RUN  [img:flags/MA.gif]  00:48:28.115  00:48:22.908   \n",
              "4  Female  10KM RUN  [img:flags/SA.gif]  00:58:37.753  00:48:27.714   \n",
              "\n",
              "        Speed         Pace Distance  \n",
              "0  13.9 Km/Hr  4:17 min/km    10 KM  \n",
              "1  13.8 Km/Hr  4:20 min/km    10 KM  \n",
              "2  13.6 Km/Hr  4:23 min/km    10 KM  \n",
              "3  12.4 Km/Hr  4:50 min/km    10 KM  \n",
              "4  12.3 Km/Hr  4:50 min/km    10 KM  "
            ],
            "text/html": [
              "\n",
              "  <div id=\"df-9bae65c5-a84a-489f-a04f-e0f2e55ca8e9\" class=\"colab-df-container\">\n",
              "    <div>\n",
              "<style scoped>\n",
              "    .dataframe tbody tr th:only-of-type {\n",
              "        vertical-align: middle;\n",
              "    }\n",
              "\n",
              "    .dataframe tbody tr th {\n",
              "        vertical-align: top;\n",
              "    }\n",
              "\n",
              "    .dataframe thead th {\n",
              "        text-align: right;\n",
              "    }\n",
              "</style>\n",
              "<table border=\"1\" class=\"dataframe\">\n",
              "  <thead>\n",
              "    <tr style=\"text-align: right;\">\n",
              "      <th></th>\n",
              "      <th>Unnamed: 0</th>\n",
              "      <th>Rank</th>\n",
              "      <th>Gender Rank</th>\n",
              "      <th>Name</th>\n",
              "      <th>Gender</th>\n",
              "      <th>Category</th>\n",
              "      <th>Nationality</th>\n",
              "      <th>Gun Time</th>\n",
              "      <th>Chip Time</th>\n",
              "      <th>Speed</th>\n",
              "      <th>Pace</th>\n",
              "      <th>Distance</th>\n",
              "    </tr>\n",
              "  </thead>\n",
              "  <tbody>\n",
              "    <tr>\n",
              "      <th>0</th>\n",
              "      <td>0</td>\n",
              "      <td>46 / 2285</td>\n",
              "      <td>1 / 761</td>\n",
              "      <td>6b848725-e44d-42d8-a278-ae67faa9cb80</td>\n",
              "      <td>Female</td>\n",
              "      <td>10KM RUN</td>\n",
              "      <td>[img:flags/SA.gif]</td>\n",
              "      <td>00:42:59.556</td>\n",
              "      <td>00:42:57.505</td>\n",
              "      <td>13.9 Km/Hr</td>\n",
              "      <td>4:17 min/km</td>\n",
              "      <td>10 KM</td>\n",
              "    </tr>\n",
              "    <tr>\n",
              "      <th>1</th>\n",
              "      <td>1</td>\n",
              "      <td>53 / 2285</td>\n",
              "      <td>2 / 761</td>\n",
              "      <td>6b848725-e44d-42d8-a278-ae67faa9cb80</td>\n",
              "      <td>Female</td>\n",
              "      <td>10KM RUN</td>\n",
              "      <td>[img:flags/CZ.gif]</td>\n",
              "      <td>00:43:28.175</td>\n",
              "      <td>00:43:24.774</td>\n",
              "      <td>13.8 Km/Hr</td>\n",
              "      <td>4:20 min/km</td>\n",
              "      <td>10 KM</td>\n",
              "    </tr>\n",
              "    <tr>\n",
              "      <th>2</th>\n",
              "      <td>2</td>\n",
              "      <td>55 / 2285</td>\n",
              "      <td>3 / 761</td>\n",
              "      <td>6b848725-e44d-42d8-a278-ae67faa9cb80</td>\n",
              "      <td>Female</td>\n",
              "      <td>10KM RUN</td>\n",
              "      <td>[img:flags/SA.gif]</td>\n",
              "      <td>00:44:00.251</td>\n",
              "      <td>00:43:56.317</td>\n",
              "      <td>13.6 Km/Hr</td>\n",
              "      <td>4:23 min/km</td>\n",
              "      <td>10 KM</td>\n",
              "    </tr>\n",
              "    <tr>\n",
              "      <th>3</th>\n",
              "      <td>3</td>\n",
              "      <td>88 / 2285</td>\n",
              "      <td>4 / 761</td>\n",
              "      <td>6b848725-e44d-42d8-a278-ae67faa9cb80</td>\n",
              "      <td>Female</td>\n",
              "      <td>10KM RUN</td>\n",
              "      <td>[img:flags/MA.gif]</td>\n",
              "      <td>00:48:28.115</td>\n",
              "      <td>00:48:22.908</td>\n",
              "      <td>12.4 Km/Hr</td>\n",
              "      <td>4:50 min/km</td>\n",
              "      <td>10 KM</td>\n",
              "    </tr>\n",
              "    <tr>\n",
              "      <th>4</th>\n",
              "      <td>4</td>\n",
              "      <td>93 / 2285</td>\n",
              "      <td>5 / 761</td>\n",
              "      <td>6b848725-e44d-42d8-a278-ae67faa9cb80</td>\n",
              "      <td>Female</td>\n",
              "      <td>10KM RUN</td>\n",
              "      <td>[img:flags/SA.gif]</td>\n",
              "      <td>00:58:37.753</td>\n",
              "      <td>00:48:27.714</td>\n",
              "      <td>12.3 Km/Hr</td>\n",
              "      <td>4:50 min/km</td>\n",
              "      <td>10 KM</td>\n",
              "    </tr>\n",
              "  </tbody>\n",
              "</table>\n",
              "</div>\n",
              "    <div class=\"colab-df-buttons\">\n",
              "\n",
              "  <div class=\"colab-df-container\">\n",
              "    <button class=\"colab-df-convert\" onclick=\"convertToInteractive('df-9bae65c5-a84a-489f-a04f-e0f2e55ca8e9')\"\n",
              "            title=\"Convert this dataframe to an interactive table.\"\n",
              "            style=\"display:none;\">\n",
              "\n",
              "  <svg xmlns=\"http://www.w3.org/2000/svg\" height=\"24px\" viewBox=\"0 -960 960 960\">\n",
              "    <path d=\"M120-120v-720h720v720H120Zm60-500h600v-160H180v160Zm220 220h160v-160H400v160Zm0 220h160v-160H400v160ZM180-400h160v-160H180v160Zm440 0h160v-160H620v160ZM180-180h160v-160H180v160Zm440 0h160v-160H620v160Z\"/>\n",
              "  </svg>\n",
              "    </button>\n",
              "\n",
              "  <style>\n",
              "    .colab-df-container {\n",
              "      display:flex;\n",
              "      gap: 12px;\n",
              "    }\n",
              "\n",
              "    .colab-df-convert {\n",
              "      background-color: #E8F0FE;\n",
              "      border: none;\n",
              "      border-radius: 50%;\n",
              "      cursor: pointer;\n",
              "      display: none;\n",
              "      fill: #1967D2;\n",
              "      height: 32px;\n",
              "      padding: 0 0 0 0;\n",
              "      width: 32px;\n",
              "    }\n",
              "\n",
              "    .colab-df-convert:hover {\n",
              "      background-color: #E2EBFA;\n",
              "      box-shadow: 0px 1px 2px rgba(60, 64, 67, 0.3), 0px 1px 3px 1px rgba(60, 64, 67, 0.15);\n",
              "      fill: #174EA6;\n",
              "    }\n",
              "\n",
              "    .colab-df-buttons div {\n",
              "      margin-bottom: 4px;\n",
              "    }\n",
              "\n",
              "    [theme=dark] .colab-df-convert {\n",
              "      background-color: #3B4455;\n",
              "      fill: #D2E3FC;\n",
              "    }\n",
              "\n",
              "    [theme=dark] .colab-df-convert:hover {\n",
              "      background-color: #434B5C;\n",
              "      box-shadow: 0px 1px 3px 1px rgba(0, 0, 0, 0.15);\n",
              "      filter: drop-shadow(0px 1px 2px rgba(0, 0, 0, 0.3));\n",
              "      fill: #FFFFFF;\n",
              "    }\n",
              "  </style>\n",
              "\n",
              "    <script>\n",
              "      const buttonEl =\n",
              "        document.querySelector('#df-9bae65c5-a84a-489f-a04f-e0f2e55ca8e9 button.colab-df-convert');\n",
              "      buttonEl.style.display =\n",
              "        google.colab.kernel.accessAllowed ? 'block' : 'none';\n",
              "\n",
              "      async function convertToInteractive(key) {\n",
              "        const element = document.querySelector('#df-9bae65c5-a84a-489f-a04f-e0f2e55ca8e9');\n",
              "        const dataTable =\n",
              "          await google.colab.kernel.invokeFunction('convertToInteractive',\n",
              "                                                    [key], {});\n",
              "        if (!dataTable) return;\n",
              "\n",
              "        const docLinkHtml = 'Like what you see? Visit the ' +\n",
              "          '<a target=\"_blank\" href=https://colab.research.google.com/notebooks/data_table.ipynb>data table notebook</a>'\n",
              "          + ' to learn more about interactive tables.';\n",
              "        element.innerHTML = '';\n",
              "        dataTable['output_type'] = 'display_data';\n",
              "        await google.colab.output.renderOutput(dataTable, element);\n",
              "        const docLink = document.createElement('div');\n",
              "        docLink.innerHTML = docLinkHtml;\n",
              "        element.appendChild(docLink);\n",
              "      }\n",
              "    </script>\n",
              "  </div>\n",
              "\n",
              "\n",
              "<div id=\"df-2f4f500f-ddff-4d9c-9719-680b5508d0d0\">\n",
              "  <button class=\"colab-df-quickchart\" onclick=\"quickchart('df-2f4f500f-ddff-4d9c-9719-680b5508d0d0')\"\n",
              "            title=\"Suggest charts\"\n",
              "            style=\"display:none;\">\n",
              "\n",
              "<svg xmlns=\"http://www.w3.org/2000/svg\" height=\"24px\"viewBox=\"0 0 24 24\"\n",
              "     width=\"24px\">\n",
              "    <g>\n",
              "        <path d=\"M19 3H5c-1.1 0-2 .9-2 2v14c0 1.1.9 2 2 2h14c1.1 0 2-.9 2-2V5c0-1.1-.9-2-2-2zM9 17H7v-7h2v7zm4 0h-2V7h2v10zm4 0h-2v-4h2v4z\"/>\n",
              "    </g>\n",
              "</svg>\n",
              "  </button>\n",
              "\n",
              "<style>\n",
              "  .colab-df-quickchart {\n",
              "      --bg-color: #E8F0FE;\n",
              "      --fill-color: #1967D2;\n",
              "      --hover-bg-color: #E2EBFA;\n",
              "      --hover-fill-color: #174EA6;\n",
              "      --disabled-fill-color: #AAA;\n",
              "      --disabled-bg-color: #DDD;\n",
              "  }\n",
              "\n",
              "  [theme=dark] .colab-df-quickchart {\n",
              "      --bg-color: #3B4455;\n",
              "      --fill-color: #D2E3FC;\n",
              "      --hover-bg-color: #434B5C;\n",
              "      --hover-fill-color: #FFFFFF;\n",
              "      --disabled-bg-color: #3B4455;\n",
              "      --disabled-fill-color: #666;\n",
              "  }\n",
              "\n",
              "  .colab-df-quickchart {\n",
              "    background-color: var(--bg-color);\n",
              "    border: none;\n",
              "    border-radius: 50%;\n",
              "    cursor: pointer;\n",
              "    display: none;\n",
              "    fill: var(--fill-color);\n",
              "    height: 32px;\n",
              "    padding: 0;\n",
              "    width: 32px;\n",
              "  }\n",
              "\n",
              "  .colab-df-quickchart:hover {\n",
              "    background-color: var(--hover-bg-color);\n",
              "    box-shadow: 0 1px 2px rgba(60, 64, 67, 0.3), 0 1px 3px 1px rgba(60, 64, 67, 0.15);\n",
              "    fill: var(--button-hover-fill-color);\n",
              "  }\n",
              "\n",
              "  .colab-df-quickchart-complete:disabled,\n",
              "  .colab-df-quickchart-complete:disabled:hover {\n",
              "    background-color: var(--disabled-bg-color);\n",
              "    fill: var(--disabled-fill-color);\n",
              "    box-shadow: none;\n",
              "  }\n",
              "\n",
              "  .colab-df-spinner {\n",
              "    border: 2px solid var(--fill-color);\n",
              "    border-color: transparent;\n",
              "    border-bottom-color: var(--fill-color);\n",
              "    animation:\n",
              "      spin 1s steps(1) infinite;\n",
              "  }\n",
              "\n",
              "  @keyframes spin {\n",
              "    0% {\n",
              "      border-color: transparent;\n",
              "      border-bottom-color: var(--fill-color);\n",
              "      border-left-color: var(--fill-color);\n",
              "    }\n",
              "    20% {\n",
              "      border-color: transparent;\n",
              "      border-left-color: var(--fill-color);\n",
              "      border-top-color: var(--fill-color);\n",
              "    }\n",
              "    30% {\n",
              "      border-color: transparent;\n",
              "      border-left-color: var(--fill-color);\n",
              "      border-top-color: var(--fill-color);\n",
              "      border-right-color: var(--fill-color);\n",
              "    }\n",
              "    40% {\n",
              "      border-color: transparent;\n",
              "      border-right-color: var(--fill-color);\n",
              "      border-top-color: var(--fill-color);\n",
              "    }\n",
              "    60% {\n",
              "      border-color: transparent;\n",
              "      border-right-color: var(--fill-color);\n",
              "    }\n",
              "    80% {\n",
              "      border-color: transparent;\n",
              "      border-right-color: var(--fill-color);\n",
              "      border-bottom-color: var(--fill-color);\n",
              "    }\n",
              "    90% {\n",
              "      border-color: transparent;\n",
              "      border-bottom-color: var(--fill-color);\n",
              "    }\n",
              "  }\n",
              "</style>\n",
              "\n",
              "  <script>\n",
              "    async function quickchart(key) {\n",
              "      const quickchartButtonEl =\n",
              "        document.querySelector('#' + key + ' button');\n",
              "      quickchartButtonEl.disabled = true;  // To prevent multiple clicks.\n",
              "      quickchartButtonEl.classList.add('colab-df-spinner');\n",
              "      try {\n",
              "        const charts = await google.colab.kernel.invokeFunction(\n",
              "            'suggestCharts', [key], {});\n",
              "      } catch (error) {\n",
              "        console.error('Error during call to suggestCharts:', error);\n",
              "      }\n",
              "      quickchartButtonEl.classList.remove('colab-df-spinner');\n",
              "      quickchartButtonEl.classList.add('colab-df-quickchart-complete');\n",
              "    }\n",
              "    (() => {\n",
              "      let quickchartButtonEl =\n",
              "        document.querySelector('#df-2f4f500f-ddff-4d9c-9719-680b5508d0d0 button');\n",
              "      quickchartButtonEl.style.display =\n",
              "        google.colab.kernel.accessAllowed ? 'block' : 'none';\n",
              "    })();\n",
              "  </script>\n",
              "</div>\n",
              "\n",
              "    </div>\n",
              "  </div>\n"
            ],
            "application/vnd.google.colaboratory.intrinsic+json": {
              "type": "dataframe",
              "variable_name": "Marathon_df",
              "summary": "{\n  \"name\": \"Marathon_df\",\n  \"rows\": 6397,\n  \"fields\": [\n    {\n      \"column\": \"Unnamed: 0\",\n      \"properties\": {\n        \"dtype\": \"number\",\n        \"std\": 381,\n        \"min\": 0,\n        \"max\": 1578,\n        \"num_unique_values\": 1579,\n        \"samples\": [\n          1239,\n          813,\n          1174\n        ],\n        \"semantic_type\": \"\",\n        \"description\": \"\"\n      }\n    },\n    {\n      \"column\": \"Rank\",\n      \"properties\": {\n        \"dtype\": \"string\",\n        \"num_unique_values\": 6031,\n        \"samples\": [\n          \"1430 / 2285\",\n          \"1010 / 2220\",\n          \"648 / 2285\"\n        ],\n        \"semantic_type\": \"\",\n        \"description\": \"\"\n      }\n    },\n    {\n      \"column\": \"Gender Rank\",\n      \"properties\": {\n        \"dtype\": \"string\",\n        \"num_unique_values\": 6028,\n        \"samples\": [\n          \"623 / 1182\",\n          \"358 / 1524\",\n          \"526 / 1182\"\n        ],\n        \"semantic_type\": \"\",\n        \"description\": \"\"\n      }\n    },\n    {\n      \"column\": \"Name\",\n      \"properties\": {\n        \"dtype\": \"category\",\n        \"num_unique_values\": 12,\n        \"samples\": [\n          \"cde359f8-5d73-4426-8ba6-cf021cfddbfc\",\n          \"ee5b6325-c4f3-4122-8247-1818e59912c2\",\n          \"6b848725-e44d-42d8-a278-ae67faa9cb80\"\n        ],\n        \"semantic_type\": \"\",\n        \"description\": \"\"\n      }\n    },\n    {\n      \"column\": \"Gender\",\n      \"properties\": {\n        \"dtype\": \"category\",\n        \"num_unique_values\": 2,\n        \"samples\": [\n          \"Male\",\n          \"Female\"\n        ],\n        \"semantic_type\": \"\",\n        \"description\": \"\"\n      }\n    },\n    {\n      \"column\": \"Category\",\n      \"properties\": {\n        \"dtype\": \"category\",\n        \"num_unique_values\": 6,\n        \"samples\": [\n          \"10KM RUN\",\n          \"4KM FUN RUN\"\n        ],\n        \"semantic_type\": \"\",\n        \"description\": \"\"\n      }\n    },\n    {\n      \"column\": \"Nationality\",\n      \"properties\": {\n        \"dtype\": \"category\",\n        \"num_unique_values\": 85,\n        \"samples\": [\n          \"[img:flags/GM.gif]\",\n          \"[img:flags/SA.gif]\"\n        ],\n        \"semantic_type\": \"\",\n        \"description\": \"\"\n      }\n    },\n    {\n      \"column\": \"Gun Time\",\n      \"properties\": {\n        \"dtype\": \"string\",\n        \"num_unique_values\": 6216,\n        \"samples\": [\n          \"00:38:58.071\",\n          \"01:25:14.919\"\n        ],\n        \"semantic_type\": \"\",\n        \"description\": \"\"\n      }\n    },\n    {\n      \"column\": \"Chip Time\",\n      \"properties\": {\n        \"dtype\": \"object\",\n        \"num_unique_values\": 6223,\n        \"samples\": [\n          \"01:11:06.122\",\n          \"01:35:33.671\"\n        ],\n        \"semantic_type\": \"\",\n        \"description\": \"\"\n      }\n    },\n    {\n      \"column\": \"Speed\",\n      \"properties\": {\n        \"dtype\": \"category\",\n        \"num_unique_values\": 182,\n        \"samples\": [\n          \"10.0 Km/Hr\",\n          \"7.7 Km/Hr\"\n        ],\n        \"semantic_type\": \"\",\n        \"description\": \"\"\n      }\n    },\n    {\n      \"column\": \"Pace\",\n      \"properties\": {\n        \"dtype\": \"category\",\n        \"num_unique_values\": 817,\n        \"samples\": [\n          \"9:16 min/km\",\n          \"6:19 min/km\"\n        ],\n        \"semantic_type\": \"\",\n        \"description\": \"\"\n      }\n    },\n    {\n      \"column\": \"Distance\",\n      \"properties\": {\n        \"dtype\": \"category\",\n        \"num_unique_values\": 12,\n        \"samples\": [\n          \"40 KM\",\n          \"30 KM\"\n        ],\n        \"semantic_type\": \"\",\n        \"description\": \"\"\n      }\n    }\n  ]\n}"
            }
          },
          "metadata": {},
          "execution_count": 209
        }
      ],
      "source": [
        "Marathon_df.head()"
      ]
    },
    {
      "cell_type": "markdown",
      "id": "bd2b5bc4-db37-4432-b666-0714afd0c4ca",
      "metadata": {
        "id": "bd2b5bc4-db37-4432-b666-0714afd0c4ca"
      },
      "source": [
        "## 1. Data Profiling:\n",
        "Data profiling is a comprehensive process of examining the data available in an existing dataset and collecting statistics and information about that data."
      ]
    },
    {
      "cell_type": "code",
      "source": [
        "Marathon_df.info()"
      ],
      "metadata": {
        "colab": {
          "base_uri": "https://localhost:8080/"
        },
        "id": "47mOGqrohNoj",
        "outputId": "e5730915-97ac-4570-86bc-b605801c2e0e"
      },
      "id": "47mOGqrohNoj",
      "execution_count": 210,
      "outputs": [
        {
          "output_type": "stream",
          "name": "stdout",
          "text": [
            "<class 'pandas.core.frame.DataFrame'>\n",
            "RangeIndex: 6397 entries, 0 to 6396\n",
            "Data columns (total 12 columns):\n",
            " #   Column       Non-Null Count  Dtype \n",
            "---  ------       --------------  ----- \n",
            " 0   Unnamed: 0   6397 non-null   int64 \n",
            " 1   Rank         6397 non-null   object\n",
            " 2   Gender Rank  6397 non-null   object\n",
            " 3   Name         6397 non-null   object\n",
            " 4   Gender       6397 non-null   object\n",
            " 5   Category     6397 non-null   object\n",
            " 6   Nationality  6085 non-null   object\n",
            " 7   Gun Time     6397 non-null   object\n",
            " 8   Chip Time    6227 non-null   object\n",
            " 9   Speed        6227 non-null   object\n",
            " 10  Pace         6227 non-null   object\n",
            " 11  Distance     6397 non-null   object\n",
            "dtypes: int64(1), object(11)\n",
            "memory usage: 599.8+ KB\n"
          ]
        }
      ]
    },
    {
      "cell_type": "markdown",
      "id": "834929aa-fd6a-4ec5-84d4-77c4b3c1a506",
      "metadata": {
        "id": "834929aa-fd6a-4ec5-84d4-77c4b3c1a506"
      },
      "source": [
        "The process of profiling differs slightly for categorical and numerical variables due to their inherent differences.\n",
        "\n",
        "**The two main types of data are:**\n",
        "- Quantitative (numerical) data\n",
        "- Qualitative (categorical) data"
      ]
    },
    {
      "cell_type": "markdown",
      "id": "3a9954f5-6fbc-45b4-ad86-3e21b6e0ca2d",
      "metadata": {
        "id": "3a9954f5-6fbc-45b4-ad86-3e21b6e0ca2d"
      },
      "source": [
        "### Data Quality Checks\n",
        "Data quality checks involve the process of ensuring that the data is accurate, complete, consistent, relevant, and reliable.\n",
        "\n",
        "\n",
        "**Here are typical steps involved in checking data quality:**"
      ]
    },
    {
      "cell_type": "markdown",
      "id": "4818c876-173d-4e56-9e7d-b4334d2def25",
      "metadata": {
        "id": "4818c876-173d-4e56-9e7d-b4334d2def25"
      },
      "source": [
        "#### 1. Reliability:\n",
        "Evaluate the data's source and collection process to determine its trustworthiness."
      ]
    },
    {
      "cell_type": "code",
      "execution_count": 211,
      "id": "9034ae7b-dc1d-4cba-8f9e-bb499d021cde",
      "metadata": {
        "id": "9034ae7b-dc1d-4cba-8f9e-bb499d021cde"
      },
      "outputs": [],
      "source": [
        "# التاكد من البيانات و المصدر الخاص بها"
      ]
    },
    {
      "cell_type": "markdown",
      "id": "2ce0cc59-8c92-4acc-8d07-c40764e1a86b",
      "metadata": {
        "id": "2ce0cc59-8c92-4acc-8d07-c40764e1a86b"
      },
      "source": [
        "#### 2. Timeliness:\n",
        "Ensure the data is up-to-date and reflective of the current situation or the period of interest for the analysis."
      ]
    },
    {
      "cell_type": "code",
      "source": [
        "# التاكد من ان البيانات احدث بيانات موجودة"
      ],
      "metadata": {
        "id": "nD406mcTqhop"
      },
      "id": "nD406mcTqhop",
      "execution_count": 212,
      "outputs": []
    },
    {
      "cell_type": "markdown",
      "id": "7fab0fe2-6624-4615-b9d8-3c3669056bf8",
      "metadata": {
        "id": "7fab0fe2-6624-4615-b9d8-3c3669056bf8"
      },
      "source": [
        "#### 3. Consistency:\n",
        "\n",
        "Confirm that the data is consistent within the dataset and across multiple data sources. For example, the same data point should not have different values in different places.\n"
      ]
    },
    {
      "cell_type": "code",
      "execution_count": 213,
      "id": "7fecc573-959f-4800-8ddd-a67985c68b18",
      "metadata": {
        "id": "7fecc573-959f-4800-8ddd-a67985c68b18"
      },
      "outputs": [],
      "source": [
        "# التاكد من ان البيانت متطابقة من كل مصادر المتوفرة"
      ]
    },
    {
      "cell_type": "markdown",
      "id": "bec3d183-bba0-4b12-b963-487daab1e876",
      "metadata": {
        "id": "bec3d183-bba0-4b12-b963-487daab1e876"
      },
      "source": [
        "#### 4. Relevance:\n",
        "Assess whether the data is appropriate and applicable for the intended analysis. Data that is not relevant can skew results and lead to incorrect conclusions.\n",
        "\n",
        "**Key considerations for relevance include:**\n",
        "\n",
        "> 1. Sample Appropriateness: Confirm that your data sample aligns with your analysis objectives. For instance, utilizing data from the Northern region will not yield accurate insights for the Western region of the Kingdom.\n",
        ">\n",
        "> 2. Variable Selection: Any column will not be relevant for our analysis, we can get rid of these using the drop() method. We will set the “axis” argument to 1 since we’re dealing with columns, and set the “inplace” argument to True to make the change permanent.\n"
      ]
    },
    {
      "cell_type": "code",
      "source": [
        "Marathon_df['Nationality'].value_counts()\n",
        "#يوضح ان اكثر جنسية مشاركة هي السعودية وذالك يواكد انها من مارثون"
      ],
      "metadata": {
        "colab": {
          "base_uri": "https://localhost:8080/"
        },
        "id": "uThlq4qOuIvA",
        "outputId": "8651c665-fd45-4fe2-9ed0-e0665d4fe584"
      },
      "id": "uThlq4qOuIvA",
      "execution_count": 214,
      "outputs": [
        {
          "output_type": "execute_result",
          "data": {
            "text/plain": [
              "Nationality\n",
              "[img:flags/SA.gif]    3442\n",
              "[img:flags/PH.gif]     465\n",
              "[img:flags/IN.gif]     241\n",
              "[img:flags/EG.gif]     214\n",
              "[img:flags/GB.gif]     211\n",
              "                      ... \n",
              "[img:flags/LC.gif]       1\n",
              "[img:flags/EE.gif]       1\n",
              "[img:flags/SL.gif]       1\n",
              "[img:flags/AW.gif]       1\n",
              "[img:flags/KZ.gif]       1\n",
              "Name: count, Length: 85, dtype: int64"
            ]
          },
          "metadata": {},
          "execution_count": 214
        }
      ]
    },
    {
      "cell_type": "code",
      "execution_count": 215,
      "id": "50a934b7-a0cd-443f-8a27-f10e9a6e8647",
      "metadata": {
        "scrolled": true,
        "id": "50a934b7-a0cd-443f-8a27-f10e9a6e8647"
      },
      "outputs": [],
      "source": [
        "Marathon_df.drop(['Unnamed: 0'], axis=1, inplace=True)\n",
        "Marathon_df.drop(['Name'], axis=1, inplace=True)"
      ]
    },
    {
      "cell_type": "markdown",
      "id": "0f5e3a2a-bbb7-4d06-8220-c93277b70146",
      "metadata": {
        "id": "0f5e3a2a-bbb7-4d06-8220-c93277b70146"
      },
      "source": [
        "#### 5. Uniqueness:\n",
        "Check for and remove duplicate records to prevent skewed analysis results.\n"
      ]
    },
    {
      "cell_type": "code",
      "execution_count": 216,
      "id": "a509a7aa-58f4-4d39-8eb8-e8298a21f2a7",
      "metadata": {
        "colab": {
          "base_uri": "https://localhost:8080/"
        },
        "id": "a509a7aa-58f4-4d39-8eb8-e8298a21f2a7",
        "outputId": "4edd710f-d5b9-4947-bce5-b55f77022139"
      },
      "outputs": [
        {
          "output_type": "execute_result",
          "data": {
            "text/plain": [
              "94"
            ]
          },
          "metadata": {},
          "execution_count": 216
        }
      ],
      "source": [
        "Marathon_df.duplicated().sum()"
      ]
    },
    {
      "cell_type": "code",
      "execution_count": 217,
      "id": "04c62559-3b48-48cf-a4e9-857e2e0ff416",
      "metadata": {
        "id": "04c62559-3b48-48cf-a4e9-857e2e0ff416"
      },
      "outputs": [],
      "source": [
        "# go to delete duplicates columns"
      ]
    },
    {
      "cell_type": "markdown",
      "id": "c7724ac2-4ea2-4cf4-a9e0-e64368f87b92",
      "metadata": {
        "id": "c7724ac2-4ea2-4cf4-a9e0-e64368f87b92"
      },
      "source": [
        "#### 6. Completeness:\n",
        "Ensure that no critical data is missing. This might mean checking for null values or required fields that are empty.\n",
        "\n",
        "We will start by checking the dataset for missing or null values. For this, we can use the isna() method which returns a dataframe of boolean values indicating if a field is null or not. To group all missing values by column, we can include the sum() method."
      ]
    },
    {
      "cell_type": "code",
      "execution_count": 218,
      "id": "48a4de54-a344-4b94-9908-9528c15c13f7",
      "metadata": {
        "colab": {
          "base_uri": "https://localhost:8080/"
        },
        "id": "48a4de54-a344-4b94-9908-9528c15c13f7",
        "outputId": "9ac11cab-d097-4b8b-c72d-c2213cb029ef"
      },
      "outputs": [
        {
          "output_type": "execute_result",
          "data": {
            "text/plain": [
              "Rank             0\n",
              "Gender Rank      0\n",
              "Gender           0\n",
              "Category         0\n",
              "Nationality    312\n",
              "Gun Time         0\n",
              "Chip Time      170\n",
              "Speed          170\n",
              "Pace           170\n",
              "Distance         0\n",
              "dtype: int64"
            ]
          },
          "metadata": {},
          "execution_count": 218
        }
      ],
      "source": [
        "#Display number missing values per column\n",
        "Marathon_df.isna().sum()"
      ]
    },
    {
      "cell_type": "code",
      "execution_count": 219,
      "id": "abec31c4-0904-4b73-8cee-b7bc14ab1e67",
      "metadata": {
        "id": "abec31c4-0904-4b73-8cee-b7bc14ab1e67"
      },
      "outputs": [],
      "source": [
        "# go to clean them\n",
        "# Nationality بحط السعودية لانها الاكثر احتمال\n",
        "# Chip Time بحذفها لان القرب احتمالا والمتوسط ما ينفع مها\n",
        "# Speed\n",
        "# Pace"
      ]
    },
    {
      "cell_type": "markdown",
      "id": "b40de63c-5a1d-49ed-a87e-c5229ee08bbe",
      "metadata": {
        "id": "b40de63c-5a1d-49ed-a87e-c5229ee08bbe"
      },
      "source": [
        "#### 7. Check Accuracy:\n",
        "\n",
        "Verify that the data is correct and precise. This could involve comparing data samples with known sources or using validation rules.\n",
        "\n",
        "**The process includes:**\n",
        "1. Validating the appropriateness of data types for the dataset.\n",
        "2. Identifying outliers  using established validation  rule"
      ]
    },
    {
      "cell_type": "code",
      "execution_count": 220,
      "id": "68be5334-ae10-4abd-8097-3259fe5e72c8",
      "metadata": {
        "colab": {
          "base_uri": "https://localhost:8080/"
        },
        "id": "68be5334-ae10-4abd-8097-3259fe5e72c8",
        "outputId": "cf939dd3-9fbb-4e32-a12b-be25c1efcb14"
      },
      "outputs": [
        {
          "output_type": "stream",
          "name": "stdout",
          "text": [
            "<class 'pandas.core.frame.DataFrame'>\n",
            "RangeIndex: 6397 entries, 0 to 6396\n",
            "Data columns (total 10 columns):\n",
            " #   Column       Non-Null Count  Dtype \n",
            "---  ------       --------------  ----- \n",
            " 0   Rank         6397 non-null   object\n",
            " 1   Gender Rank  6397 non-null   object\n",
            " 2   Gender       6397 non-null   object\n",
            " 3   Category     6397 non-null   object\n",
            " 4   Nationality  6085 non-null   object\n",
            " 5   Gun Time     6397 non-null   object\n",
            " 6   Chip Time    6227 non-null   object\n",
            " 7   Speed        6227 non-null   object\n",
            " 8   Pace         6227 non-null   object\n",
            " 9   Distance     6397 non-null   object\n",
            "dtypes: object(10)\n",
            "memory usage: 499.9+ KB\n"
          ]
        }
      ],
      "source": [
        "# check columns types\n",
        "Marathon_df.info()\n",
        "#7,8غير السرعة و  الى ارقام\n",
        "# 5,6غيرالقن و الشب  الى وقت\n",
        "#2,3,9حول الكاتقوري و الديستينت والجندر الى كاتقوري"
      ]
    },
    {
      "cell_type": "code",
      "execution_count": 221,
      "id": "2ee790ba-dcc0-45f1-b6f8-0133e913e149",
      "metadata": {
        "id": "2ee790ba-dcc0-45f1-b6f8-0133e913e149"
      },
      "outputs": [],
      "source": [
        "# go to clean them"
      ]
    },
    {
      "cell_type": "code",
      "execution_count": 222,
      "id": "c69b303a-5459-45f9-a28e-fcee45c21c05",
      "metadata": {
        "id": "c69b303a-5459-45f9-a28e-fcee45c21c05"
      },
      "outputs": [],
      "source": [
        "# check outliers"
      ]
    },
    {
      "cell_type": "markdown",
      "id": "4aca9d42-add6-45db-92cf-1f6dae5f277b",
      "metadata": {
        "id": "4aca9d42-add6-45db-92cf-1f6dae5f277b"
      },
      "source": [
        "**What is an Outlier?**\n",
        "Outlier is an row/observation that appears far away and diverges from an overall pattern in a sample.\n",
        "\n",
        "**What are the types of Outliers?**\n",
        "1. Univariate: These outliers can be found when we look at distribution of a single variable\n",
        "2. Multivariate: are outliers in an n-dimensional space. In order to find them, you have to look at distributions in multi-dimensions. example (hight=100, weight=100) for a person\n",
        "\n",
        "**What causes Outliers?**\n",
        "Whenever we come across outliers, the ideal way to tackle them is to find out the reason of having these outliers. The method to deal with them would then depend on the reason of their occurrence.\n",
        "\n",
        "Let’s understand various types of outliers:\n",
        "\n",
        "1. Data Entry Errors:- Human errors such as errors caused during data collection, recording, or entry can cause outliers in data.\n",
        "2. Measurement Error: It is the most common source of outliers. This is caused when the measurement instrument used turns out to be faulty.\n",
        "3. Data Processing Error: Whenever we perform data mining, we extract data from multiple sources. It is possible that some manipulation or extraction errors may lead to outliers in the dataset.\n",
        "4. Sampling error: For instance, we have to measure the height of athletes. By mistake, we include a few basketball players in the sample. This inclusion is likely to cause outliers in the dataset.\n",
        "5. Natural Outlier: When an outlier is not artificial (due to error), it is a natural outlier. For instance: In my last assignment with one of the renowned insurance company, I noticed that the performance of top 50 financial advisors was far higher than rest of the population. Surprisingly, it was not due to any error. Hence, whenever we perform any data mining activity with advisors, we used to treat this segment separately.\n",
        "\n",
        "\n",
        "**What is the impact of Outliers on a dataset?**\n",
        "\n",
        "\n",
        "![image.png](https://www.analyticsvidhya.com/wp-content/uploads/2015/02/Outlier_31.png)\n",
        "\n",
        "\n",
        "\n",
        "**How to detect Outliers?**\n",
        "\n",
        "1. Most commonly used method to detect outliers is visualization (Univariate Graphical Analysis).\n",
        "\n",
        "We use 3 common visualization methods:\n",
        ">- Box-plot: A box plot is a method for graphically depicting groups of numerical data through their quartiles. The box extends from the Q1 to Q3 quartile values of the data, with a line at the median (Q2). The whiskers extend from the edges of the box to show the range of the data. Outlier points are those past the end of the whiskers. Box plots show robust measures of location and spread as well as providing information about symmetry and outliers.\n",
        ">\n",
        ">  \n",
        ">![image.png](https://miro.medium.com/v2/resize:fit:698/format:webp/1*VK5iHA2AB28HSZwWwUbNYg.png)\n",
        ">\n",
        ">\n",
        ">- Histogram\n",
        ">- Scatter Plot: A scatter plot is a mathematical diagram using Cartesian coordinates to display values for two variables for a set of data. The data are displayed as a collection of points, each having the value of one variable determining the position on the horizontal axis and the value of the other variable determining the position on the vertical axis. The points that are far from the population can be termed as an outlier.\n",
        ">\n",
        ">  \n",
        ">![image.png](https://miro.medium.com/v2/resize:fit:4800/format:webp/1*Ov6aH-8yIwNoUxtMFwgx4g.png)\n",
        ">\n",
        ">\n",
        "\n",
        "2. Using statistical method (Univariate Non-Graphical analysis):\n",
        ">- Any value, which is beyond the range of -1.5 x IQR to 1.5 x IQR\n",
        "\n",
        "![image.png](https://www.whatissixsigma.net/wp-content/uploads/2015/07/Box-Plot-Diagram-to-identify-Outliers-figure-1.png)\n",
        "\n",
        ">- Use capping methods. Any value which out of range of 5th and 95th percentile can be considered as outlier\n",
        ">- Data points, three or more standard deviation away from mean are considered outlier: The Z-score is the signed number of standard deviations by which the value of an observation or data point is above the mean value of what is being observed or measured. While calculating the Z-score we re-scale and center the data and look for data points that are too far from zero. These data points which are way too far from zero will be treated as the outliers. In most of the cases, a threshold of 3 or -3 is used i.e if the Z-score value is greater than or less than 3 or -3 respectively, that data point will be identified as outliers.\n",
        "> - Outlier detection is merely a special case of the examination of data for influential data points and it also depends on the business understanding\n"
      ]
    },
    {
      "cell_type": "code",
      "execution_count": 223,
      "id": "74ea6194-cc01-45d8-be38-c4543eb1714e",
      "metadata": {
        "id": "74ea6194-cc01-45d8-be38-c4543eb1714e"
      },
      "outputs": [],
      "source": [
        "# go to univariate graphical analysis\n",
        "# go to lesson : data visualisation 1 - chart type section\n",
        "# then go to univariate graphical analysis\n",
        "# detect outliers using graphs varbaly"
      ]
    },
    {
      "cell_type": "code",
      "execution_count": 224,
      "id": "48ecf77b-480c-4f64-9485-95be805bc357",
      "metadata": {
        "id": "48ecf77b-480c-4f64-9485-95be805bc357"
      },
      "outputs": [],
      "source": [
        "# go to lesson: statistics 1 then statistics 3\n",
        "# then go to univariate Non graphical analysis\n",
        "# detect outliers using numerical statistics"
      ]
    },
    {
      "cell_type": "code",
      "execution_count": 224,
      "id": "ee200da8-62b0-492d-b118-f4d665a1fb16",
      "metadata": {
        "id": "ee200da8-62b0-492d-b118-f4d665a1fb16"
      },
      "outputs": [],
      "source": []
    },
    {
      "cell_type": "code",
      "execution_count": 225,
      "id": "4e66d611-6958-4860-8522-9ada7fce40b0",
      "metadata": {
        "id": "4e66d611-6958-4860-8522-9ada7fce40b0"
      },
      "outputs": [],
      "source": [
        "# go to delete ouliers"
      ]
    },
    {
      "cell_type": "markdown",
      "id": "4e886ec7-388c-414b-ada7-803c2fb1f2cb",
      "metadata": {
        "id": "4e886ec7-388c-414b-ada7-803c2fb1f2cb"
      },
      "source": [
        "## 2. Data Cleaning:\n",
        "\n",
        "Preliminary findings from data profiling can lead to cleaning the data by:\n",
        "- Handling missing values\n",
        "- Correcting errors.\n",
        "- Dealing with outliers.\n",
        "\n",
        "-------------------\n",
        "\n"
      ]
    },
    {
      "cell_type": "markdown",
      "id": "21876b48-f5ec-4970-85a9-0520d45d8841",
      "metadata": {
        "id": "21876b48-f5ec-4970-85a9-0520d45d8841"
      },
      "source": [
        "### Handling missing values:"
      ]
    },
    {
      "cell_type": "markdown",
      "id": "c890d5a2-2a65-4090-9427-f89c0f011d3f",
      "metadata": {
        "id": "c890d5a2-2a65-4090-9427-f89c0f011d3f"
      },
      "source": [
        "**Why my data has missing values?**\n",
        "They may occur at two stages:\n",
        "1. Data Extraction: It is possible that there are problems with extraction process. Errors at data extraction stage are typically easy to find and can be corrected easily as well.\n",
        "2. Data collection: These errors occur at time of data collection and are harder to correct.\n",
        "\n",
        "**Why do we need to handle the missing data?**\n",
        "To avoid:\n",
        "- Bias the conclusions.\n",
        "- Leading the business to make wrong decisions.\n",
        "\n",
        "**Which are the methods to treat missing values ?**\n",
        "1. Deletion: we delete rows where any of the variable is missing. Simplicity is one of the major advantage of this method, but this method reduces the power of model because it reduces the sample size.\n",
        "\n",
        "2. Imputation: is a method to fill in the missing values with estimated ones. This imputation is one of the most frequently used methods.\n",
        "\n",
        "    2.1. Mean/ Mode/ Median Imputation: It consists of replacing the missing data for a given attribute by the mean or median (quantitative attribute) or mode (qualitative attribute) of all known values of that variable.\n",
        "    > It can be of two types:\n",
        "    > - Generalized Imputation: In this case, we calculate the mean or median for all non missing values of that variable then replace missing value with mean or median.\n",
        "    > - Similar case Imputation: In this case, we calculate average for each group individually of non missing values then replace the missing value based on the group.\n",
        "\n",
        "    2.2. Constant Value\n",
        "   \n",
        "    2.3. Forward Filling\n",
        "   \n",
        "    2.4. Backward Filling\n",
        "\n",
        "6. Prediction Model:  Prediction model is one of the sophisticated method for handling missing data. Here, we create a predictive model to estimate values that will substitute the missing data.  In this case, we divide our data set into two sets: One set with no missing values for the variable and another one with missing values. First data set become training data set of the model while second data set with missing values is test data set and variable with missing values is treated as target variable. Next, we create a model to predict target variable based on other attributes of the training data set and populate missing values of test data set.\n",
        "\n",
        "> There are 2 drawbacks for this approach:\n",
        "> - The model estimated values are usually more well-behaved than the true values\n",
        "> - If there are no relationships with attributes in the data set and the attribute with missing values, then the model will not be precise for estimating missing values.\n",
        "\n",
        "9. KNN Imputation: In this method of imputation, the missing values of an attribute are imputed using the given number of attributes that are most similar to the attribute whose values are missing. The similarity of two attributes is determined using a distance function. It is also known to have certain advantage & disadvantages.\n",
        "\n",
        "   > **Advantages:**\n",
        "   > - k-nearest neighbour can predict both qualitative & quantitative attributes\n",
        "   > - Creation of predictive model for each attribute with missing data is not required\n",
        "   > - Attributes with multiple missing values can be easily treated\n",
        "   > - Correlation structure of the data is taken into consideration\n",
        "\n",
        "   > **Disadvantage:**\n",
        "   > - KNN algorithm is very time-consuming in analyzing large database. It searches through all the dataset looking for the most similar instances.\n",
        "   > - Choice of k-value is very critical. Higher value of k would include attributes which are significantly different from what we need whereas lower value of k implies missing out of significant attributes.\n",
        "\n",
        "--------------------\n"
      ]
    },
    {
      "cell_type": "code",
      "execution_count": 226,
      "id": "57e741fb-71c1-46ad-a526-d8f0b1564dc3",
      "metadata": {
        "id": "57e741fb-71c1-46ad-a526-d8f0b1564dc3"
      },
      "outputs": [],
      "source": [
        "Marathon_df['Nationality'].fillna('unknown', inplace=True)"
      ]
    },
    {
      "cell_type": "code",
      "source": [
        "Marathon_df.dropna(subset=['Chip Time'], inplace=True)"
      ],
      "metadata": {
        "id": "ktnWBiQJ-1eI"
      },
      "id": "ktnWBiQJ-1eI",
      "execution_count": 227,
      "outputs": []
    },
    {
      "cell_type": "code",
      "source": [
        "#Marathon_df['Speed'].dropna(inplace=True)\n",
        "#Marathon_df['Pace'].dropna(inplace=True)"
      ],
      "metadata": {
        "id": "oc2hmk8c_I1d"
      },
      "id": "oc2hmk8c_I1d",
      "execution_count": 228,
      "outputs": []
    },
    {
      "cell_type": "code",
      "execution_count": 229,
      "id": "01287962-8077-4c01-8d1d-5f8aed6cb37a",
      "metadata": {
        "id": "01287962-8077-4c01-8d1d-5f8aed6cb37a"
      },
      "outputs": [],
      "source": [
        "# go back to 6th dimention --> Completeness"
      ]
    },
    {
      "cell_type": "markdown",
      "id": "f7cee10f-0af8-44e5-b595-8e965294daad",
      "metadata": {
        "id": "f7cee10f-0af8-44e5-b595-8e965294daad"
      },
      "source": [
        "### Correcting errors\n",
        "\n",
        "-------------------"
      ]
    },
    {
      "cell_type": "code",
      "execution_count": 230,
      "id": "06273b88-a169-42e8-81f5-5d71cb3f9c21",
      "metadata": {
        "colab": {
          "base_uri": "https://localhost:8080/"
        },
        "id": "06273b88-a169-42e8-81f5-5d71cb3f9c21",
        "outputId": "f5fdcc45-6cec-4354-9c9f-29482be4fd13"
      },
      "outputs": [
        {
          "output_type": "stream",
          "name": "stdout",
          "text": [
            "<class 'pandas.core.frame.DataFrame'>\n",
            "Index: 6227 entries, 0 to 6396\n",
            "Data columns (total 10 columns):\n",
            " #   Column       Non-Null Count  Dtype \n",
            "---  ------       --------------  ----- \n",
            " 0   Rank         6227 non-null   object\n",
            " 1   Gender Rank  6227 non-null   object\n",
            " 2   Gender       6227 non-null   object\n",
            " 3   Category     6227 non-null   object\n",
            " 4   Nationality  6227 non-null   object\n",
            " 5   Gun Time     6227 non-null   object\n",
            " 6   Chip Time    6227 non-null   object\n",
            " 7   Speed        6227 non-null   object\n",
            " 8   Pace         6227 non-null   object\n",
            " 9   Distance     6227 non-null   object\n",
            "dtypes: object(10)\n",
            "memory usage: 535.1+ KB\n"
          ]
        }
      ],
      "source": [
        "# check columns types\n",
        "Marathon_df.info()\n",
        "#7,8غير السرعة و  الى ارقام\n",
        "# 5,6غيرالقن و الشب  الى وقت\n",
        "#2,3,9حول الكاتقوري و الديستينت والجندر الى كاتقوري"
      ]
    },
    {
      "cell_type": "code",
      "source": [
        "Marathon_df['Gender'].unique()"
      ],
      "metadata": {
        "colab": {
          "base_uri": "https://localhost:8080/"
        },
        "id": "MZNpgsxQy9UO",
        "outputId": "29a0c3a1-2147-4405-faa5-e92a85e5d104"
      },
      "id": "MZNpgsxQy9UO",
      "execution_count": 231,
      "outputs": [
        {
          "output_type": "execute_result",
          "data": {
            "text/plain": [
              "array(['Female', 'Male'], dtype=object)"
            ]
          },
          "metadata": {},
          "execution_count": 231
        }
      ]
    },
    {
      "cell_type": "code",
      "source": [
        "Marathon_df['Gender'] = Marathon_df['Gender'].astype('category')"
      ],
      "metadata": {
        "id": "yCc-S1ylyUnj"
      },
      "id": "yCc-S1ylyUnj",
      "execution_count": 232,
      "outputs": []
    },
    {
      "cell_type": "code",
      "source": [
        "Marathon_df['Category'].unique()"
      ],
      "metadata": {
        "colab": {
          "base_uri": "https://localhost:8080/"
        },
        "id": "QdQKz30azi3l",
        "outputId": "12f103c7-ca65-4c1c-b626-d755bc8fead8"
      },
      "id": "QdQKz30azi3l",
      "execution_count": 233,
      "outputs": [
        {
          "output_type": "execute_result",
          "data": {
            "text/plain": [
              "array(['10KM RUN', '4KM FUN RUN', 'HALF MARATHON', 'MARATHON',\n",
              "       'MARATHON ELITE', 'HALF MARATHON ELITE'], dtype=object)"
            ]
          },
          "metadata": {},
          "execution_count": 233
        }
      ]
    },
    {
      "cell_type": "code",
      "source": [
        "Marathon_df['Category'] = Marathon_df['Category'].astype('category')"
      ],
      "metadata": {
        "id": "PCjz2xkoyri1"
      },
      "id": "PCjz2xkoyri1",
      "execution_count": 234,
      "outputs": []
    },
    {
      "cell_type": "code",
      "source": [
        "Marathon_df.rename(columns={'Distance': 'Distance Km'}, inplace=True)"
      ],
      "metadata": {
        "id": "WJeWnDT6yNel"
      },
      "id": "WJeWnDT6yNel",
      "execution_count": 235,
      "outputs": []
    },
    {
      "cell_type": "code",
      "source": [
        "Marathon_df['Distance Km'] = Marathon_df['Distance Km'].apply(lambda x: x.replace('KM', ''))"
      ],
      "metadata": {
        "id": "Q-t0NYCHyTZW"
      },
      "id": "Q-t0NYCHyTZW",
      "execution_count": 236,
      "outputs": []
    },
    {
      "cell_type": "code",
      "source": [
        "Marathon_df['Distance Km'] = Marathon_df['Distance Km'].astype('float')"
      ],
      "metadata": {
        "id": "cBGJy4rs0GuE"
      },
      "id": "cBGJy4rs0GuE",
      "execution_count": 237,
      "outputs": []
    },
    {
      "cell_type": "code",
      "source": [
        "Marathon_df['Distance Km'].unique()"
      ],
      "metadata": {
        "colab": {
          "base_uri": "https://localhost:8080/"
        },
        "id": "ES8293Y1y16t",
        "outputId": "7ff962da-4776-4723-a197-a3f24f734423"
      },
      "id": "ES8293Y1y16t",
      "execution_count": 238,
      "outputs": [
        {
          "output_type": "execute_result",
          "data": {
            "text/plain": [
              "array([10. ,  4. , 21.1, 42.2])"
            ]
          },
          "metadata": {},
          "execution_count": 238
        }
      ]
    },
    {
      "cell_type": "code",
      "source": [
        "Marathon_df['Nationality'] = Marathon_df['Nationality'].apply(lambda x: x.replace('[img:flags/', '').replace('.gif]', '') )"
      ],
      "metadata": {
        "id": "tXlHhJ2r0Y_q"
      },
      "id": "tXlHhJ2r0Y_q",
      "execution_count": 239,
      "outputs": []
    },
    {
      "cell_type": "code",
      "source": [
        "Marathon_df['Nationality'] = Marathon_df['Nationality'].astype('category')"
      ],
      "metadata": {
        "id": "-GAbl9262PqW"
      },
      "id": "-GAbl9262PqW",
      "execution_count": 240,
      "outputs": []
    },
    {
      "cell_type": "code",
      "source": [
        "Marathon_df['Nationality'].unique()"
      ],
      "metadata": {
        "colab": {
          "base_uri": "https://localhost:8080/"
        },
        "id": "N0_2Npyx2Vrf",
        "outputId": "88976812-0890-4596-d965-7703d5ffba94"
      },
      "id": "N0_2Npyx2Vrf",
      "execution_count": 241,
      "outputs": [
        {
          "output_type": "execute_result",
          "data": {
            "text/plain": [
              "['SA', 'CZ', 'MA', 'GB', 'unknown', ..., 'DJ', 'UZ', 'LY', 'BG', 'KZ']\n",
              "Length: 86\n",
              "Categories (86, object): ['AE', 'AF', 'AM', 'AT', ..., 'XK', 'YE', 'ZA', 'unknown']"
            ]
          },
          "metadata": {},
          "execution_count": 241
        }
      ]
    },
    {
      "cell_type": "code",
      "source": [
        "Marathon_df['Gun Time'] = pd.to_timedelta(Marathon_df['Gun Time'])\n",
        "Marathon_df['Chip Time'] = pd.to_timedelta(Marathon_df['Chip Time'])"
      ],
      "metadata": {
        "id": "SR6J6flG2kiX"
      },
      "id": "SR6J6flG2kiX",
      "execution_count": 242,
      "outputs": []
    },
    {
      "cell_type": "code",
      "source": [
        "Marathon_df.rename(columns={'Speed': 'Speed Km/Hr'}, inplace=True)"
      ],
      "metadata": {
        "id": "yLNXdgF152DD"
      },
      "id": "yLNXdgF152DD",
      "execution_count": 243,
      "outputs": []
    },
    {
      "cell_type": "code",
      "source": [
        "Marathon_df['Speed Km/Hr'] = Marathon_df['Speed Km/Hr'].apply(lambda x: x.replace('Km/Hr', ''))"
      ],
      "metadata": {
        "id": "Pd7X42206Lm_"
      },
      "id": "Pd7X42206Lm_",
      "execution_count": 244,
      "outputs": []
    },
    {
      "cell_type": "code",
      "source": [
        "Marathon_df['Speed Km/Hr'] = Marathon_df['Speed Km/Hr'].astype('float')"
      ],
      "metadata": {
        "id": "r4WdPIqT5yIk"
      },
      "id": "r4WdPIqT5yIk",
      "execution_count": 245,
      "outputs": []
    },
    {
      "cell_type": "code",
      "source": [
        "Marathon_df.rename(columns={'Pace': 'Pace min/km'}, inplace=True)"
      ],
      "metadata": {
        "id": "ItOUoocZ4ou-"
      },
      "id": "ItOUoocZ4ou-",
      "execution_count": 246,
      "outputs": []
    },
    {
      "cell_type": "code",
      "source": [
        "Marathon_df['Pace min/km'] = Marathon_df['Pace min/km'].apply(lambda x: x.replace('min/km', '').replace(':', '.'))"
      ],
      "metadata": {
        "id": "dVvkSL4K5MCX"
      },
      "id": "dVvkSL4K5MCX",
      "execution_count": 247,
      "outputs": []
    },
    {
      "cell_type": "code",
      "source": [
        "Marathon_df['Pace min/km'] = Marathon_df['Pace min/km'].astype('float')"
      ],
      "metadata": {
        "id": "erEttKPp4hl3"
      },
      "id": "erEttKPp4hl3",
      "execution_count": 248,
      "outputs": []
    },
    {
      "cell_type": "code",
      "execution_count": 249,
      "id": "f1d95da5-a3ba-473a-8243-aa177cadae20",
      "metadata": {
        "id": "f1d95da5-a3ba-473a-8243-aa177cadae20"
      },
      "outputs": [],
      "source": [
        "# go back to 7th dimension Accuracy\n",
        "# من الحل"
      ]
    },
    {
      "cell_type": "code",
      "source": [
        "Marathon_df[(Marathon_df['Rank']=='-')]"
      ],
      "metadata": {
        "colab": {
          "base_uri": "https://localhost:8080/",
          "height": 423
        },
        "id": "s-5mqLvKBorl",
        "outputId": "5c73ce1f-856e-409a-8c49-660e5a3ea432"
      },
      "id": "s-5mqLvKBorl",
      "execution_count": 250,
      "outputs": [
        {
          "output_type": "execute_result",
          "data": {
            "text/plain": [
              "     Rank Gender Rank  Gender  Category Nationality               Gun Time  \\\n",
              "770     -           -  Female  10KM RUN          SA 0 days 00:42:05.165000   \n",
              "771     -           -  Female  10KM RUN          IN 0 days 01:04:07.034000   \n",
              "772     -           -  Female  10KM RUN          PT 0 days 01:18:07.863000   \n",
              "773     -           -  Female  10KM RUN          PH 0 days 01:18:46.940000   \n",
              "774     -           -  Female  10KM RUN          PH 0 days 01:22:28.217000   \n",
              "...   ...         ...     ...       ...         ...                    ...   \n",
              "6364    -           -    Male  MARATHON          SA 0 days 04:29:23.849000   \n",
              "6365    -           -    Male  MARATHON          AF 0 days 04:42:13.532000   \n",
              "6366    -           -    Male  MARATHON          SA 0 days 04:53:02.507000   \n",
              "6367    -           -    Male  MARATHON     unknown 0 days 04:53:55.101000   \n",
              "6368    -           -    Male  MARATHON          SA 0 days 04:55:15.850000   \n",
              "\n",
              "                  Chip Time  Speed Km/Hr  Pace min/km  Distance Km  \n",
              "770  0 days 00:42:05.165000         14.2         4.12         10.0  \n",
              "771  0 days 01:04:07.034000          9.3         6.24         10.0  \n",
              "772  0 days 01:18:07.863000          7.6         7.48         10.0  \n",
              "773  0 days 01:18:46.940000          7.6         7.52         10.0  \n",
              "774  0 days 01:22:28.217000          7.2         8.14         10.0  \n",
              "...                     ...          ...          ...          ...  \n",
              "6364 0 days 04:17:28.782000          9.8         6.06         42.2  \n",
              "6365 0 days 04:30:08.835000          9.3         6.24         42.2  \n",
              "6366 0 days 04:41:14.383000          9.0         6.39         42.2  \n",
              "6367 0 days 04:53:55.101000          8.6         6.57         42.2  \n",
              "6368 0 days 04:55:15.850000          8.5         6.59         42.2  \n",
              "\n",
              "[197 rows x 10 columns]"
            ],
            "text/html": [
              "\n",
              "  <div id=\"df-b452c2c1-f5f1-4791-98d9-91a87acef029\" class=\"colab-df-container\">\n",
              "    <div>\n",
              "<style scoped>\n",
              "    .dataframe tbody tr th:only-of-type {\n",
              "        vertical-align: middle;\n",
              "    }\n",
              "\n",
              "    .dataframe tbody tr th {\n",
              "        vertical-align: top;\n",
              "    }\n",
              "\n",
              "    .dataframe thead th {\n",
              "        text-align: right;\n",
              "    }\n",
              "</style>\n",
              "<table border=\"1\" class=\"dataframe\">\n",
              "  <thead>\n",
              "    <tr style=\"text-align: right;\">\n",
              "      <th></th>\n",
              "      <th>Rank</th>\n",
              "      <th>Gender Rank</th>\n",
              "      <th>Gender</th>\n",
              "      <th>Category</th>\n",
              "      <th>Nationality</th>\n",
              "      <th>Gun Time</th>\n",
              "      <th>Chip Time</th>\n",
              "      <th>Speed Km/Hr</th>\n",
              "      <th>Pace min/km</th>\n",
              "      <th>Distance Km</th>\n",
              "    </tr>\n",
              "  </thead>\n",
              "  <tbody>\n",
              "    <tr>\n",
              "      <th>770</th>\n",
              "      <td>-</td>\n",
              "      <td>-</td>\n",
              "      <td>Female</td>\n",
              "      <td>10KM RUN</td>\n",
              "      <td>SA</td>\n",
              "      <td>0 days 00:42:05.165000</td>\n",
              "      <td>0 days 00:42:05.165000</td>\n",
              "      <td>14.2</td>\n",
              "      <td>4.12</td>\n",
              "      <td>10.0</td>\n",
              "    </tr>\n",
              "    <tr>\n",
              "      <th>771</th>\n",
              "      <td>-</td>\n",
              "      <td>-</td>\n",
              "      <td>Female</td>\n",
              "      <td>10KM RUN</td>\n",
              "      <td>IN</td>\n",
              "      <td>0 days 01:04:07.034000</td>\n",
              "      <td>0 days 01:04:07.034000</td>\n",
              "      <td>9.3</td>\n",
              "      <td>6.24</td>\n",
              "      <td>10.0</td>\n",
              "    </tr>\n",
              "    <tr>\n",
              "      <th>772</th>\n",
              "      <td>-</td>\n",
              "      <td>-</td>\n",
              "      <td>Female</td>\n",
              "      <td>10KM RUN</td>\n",
              "      <td>PT</td>\n",
              "      <td>0 days 01:18:07.863000</td>\n",
              "      <td>0 days 01:18:07.863000</td>\n",
              "      <td>7.6</td>\n",
              "      <td>7.48</td>\n",
              "      <td>10.0</td>\n",
              "    </tr>\n",
              "    <tr>\n",
              "      <th>773</th>\n",
              "      <td>-</td>\n",
              "      <td>-</td>\n",
              "      <td>Female</td>\n",
              "      <td>10KM RUN</td>\n",
              "      <td>PH</td>\n",
              "      <td>0 days 01:18:46.940000</td>\n",
              "      <td>0 days 01:18:46.940000</td>\n",
              "      <td>7.6</td>\n",
              "      <td>7.52</td>\n",
              "      <td>10.0</td>\n",
              "    </tr>\n",
              "    <tr>\n",
              "      <th>774</th>\n",
              "      <td>-</td>\n",
              "      <td>-</td>\n",
              "      <td>Female</td>\n",
              "      <td>10KM RUN</td>\n",
              "      <td>PH</td>\n",
              "      <td>0 days 01:22:28.217000</td>\n",
              "      <td>0 days 01:22:28.217000</td>\n",
              "      <td>7.2</td>\n",
              "      <td>8.14</td>\n",
              "      <td>10.0</td>\n",
              "    </tr>\n",
              "    <tr>\n",
              "      <th>...</th>\n",
              "      <td>...</td>\n",
              "      <td>...</td>\n",
              "      <td>...</td>\n",
              "      <td>...</td>\n",
              "      <td>...</td>\n",
              "      <td>...</td>\n",
              "      <td>...</td>\n",
              "      <td>...</td>\n",
              "      <td>...</td>\n",
              "      <td>...</td>\n",
              "    </tr>\n",
              "    <tr>\n",
              "      <th>6364</th>\n",
              "      <td>-</td>\n",
              "      <td>-</td>\n",
              "      <td>Male</td>\n",
              "      <td>MARATHON</td>\n",
              "      <td>SA</td>\n",
              "      <td>0 days 04:29:23.849000</td>\n",
              "      <td>0 days 04:17:28.782000</td>\n",
              "      <td>9.8</td>\n",
              "      <td>6.06</td>\n",
              "      <td>42.2</td>\n",
              "    </tr>\n",
              "    <tr>\n",
              "      <th>6365</th>\n",
              "      <td>-</td>\n",
              "      <td>-</td>\n",
              "      <td>Male</td>\n",
              "      <td>MARATHON</td>\n",
              "      <td>AF</td>\n",
              "      <td>0 days 04:42:13.532000</td>\n",
              "      <td>0 days 04:30:08.835000</td>\n",
              "      <td>9.3</td>\n",
              "      <td>6.24</td>\n",
              "      <td>42.2</td>\n",
              "    </tr>\n",
              "    <tr>\n",
              "      <th>6366</th>\n",
              "      <td>-</td>\n",
              "      <td>-</td>\n",
              "      <td>Male</td>\n",
              "      <td>MARATHON</td>\n",
              "      <td>SA</td>\n",
              "      <td>0 days 04:53:02.507000</td>\n",
              "      <td>0 days 04:41:14.383000</td>\n",
              "      <td>9.0</td>\n",
              "      <td>6.39</td>\n",
              "      <td>42.2</td>\n",
              "    </tr>\n",
              "    <tr>\n",
              "      <th>6367</th>\n",
              "      <td>-</td>\n",
              "      <td>-</td>\n",
              "      <td>Male</td>\n",
              "      <td>MARATHON</td>\n",
              "      <td>unknown</td>\n",
              "      <td>0 days 04:53:55.101000</td>\n",
              "      <td>0 days 04:53:55.101000</td>\n",
              "      <td>8.6</td>\n",
              "      <td>6.57</td>\n",
              "      <td>42.2</td>\n",
              "    </tr>\n",
              "    <tr>\n",
              "      <th>6368</th>\n",
              "      <td>-</td>\n",
              "      <td>-</td>\n",
              "      <td>Male</td>\n",
              "      <td>MARATHON</td>\n",
              "      <td>SA</td>\n",
              "      <td>0 days 04:55:15.850000</td>\n",
              "      <td>0 days 04:55:15.850000</td>\n",
              "      <td>8.5</td>\n",
              "      <td>6.59</td>\n",
              "      <td>42.2</td>\n",
              "    </tr>\n",
              "  </tbody>\n",
              "</table>\n",
              "<p>197 rows × 10 columns</p>\n",
              "</div>\n",
              "    <div class=\"colab-df-buttons\">\n",
              "\n",
              "  <div class=\"colab-df-container\">\n",
              "    <button class=\"colab-df-convert\" onclick=\"convertToInteractive('df-b452c2c1-f5f1-4791-98d9-91a87acef029')\"\n",
              "            title=\"Convert this dataframe to an interactive table.\"\n",
              "            style=\"display:none;\">\n",
              "\n",
              "  <svg xmlns=\"http://www.w3.org/2000/svg\" height=\"24px\" viewBox=\"0 -960 960 960\">\n",
              "    <path d=\"M120-120v-720h720v720H120Zm60-500h600v-160H180v160Zm220 220h160v-160H400v160Zm0 220h160v-160H400v160ZM180-400h160v-160H180v160Zm440 0h160v-160H620v160ZM180-180h160v-160H180v160Zm440 0h160v-160H620v160Z\"/>\n",
              "  </svg>\n",
              "    </button>\n",
              "\n",
              "  <style>\n",
              "    .colab-df-container {\n",
              "      display:flex;\n",
              "      gap: 12px;\n",
              "    }\n",
              "\n",
              "    .colab-df-convert {\n",
              "      background-color: #E8F0FE;\n",
              "      border: none;\n",
              "      border-radius: 50%;\n",
              "      cursor: pointer;\n",
              "      display: none;\n",
              "      fill: #1967D2;\n",
              "      height: 32px;\n",
              "      padding: 0 0 0 0;\n",
              "      width: 32px;\n",
              "    }\n",
              "\n",
              "    .colab-df-convert:hover {\n",
              "      background-color: #E2EBFA;\n",
              "      box-shadow: 0px 1px 2px rgba(60, 64, 67, 0.3), 0px 1px 3px 1px rgba(60, 64, 67, 0.15);\n",
              "      fill: #174EA6;\n",
              "    }\n",
              "\n",
              "    .colab-df-buttons div {\n",
              "      margin-bottom: 4px;\n",
              "    }\n",
              "\n",
              "    [theme=dark] .colab-df-convert {\n",
              "      background-color: #3B4455;\n",
              "      fill: #D2E3FC;\n",
              "    }\n",
              "\n",
              "    [theme=dark] .colab-df-convert:hover {\n",
              "      background-color: #434B5C;\n",
              "      box-shadow: 0px 1px 3px 1px rgba(0, 0, 0, 0.15);\n",
              "      filter: drop-shadow(0px 1px 2px rgba(0, 0, 0, 0.3));\n",
              "      fill: #FFFFFF;\n",
              "    }\n",
              "  </style>\n",
              "\n",
              "    <script>\n",
              "      const buttonEl =\n",
              "        document.querySelector('#df-b452c2c1-f5f1-4791-98d9-91a87acef029 button.colab-df-convert');\n",
              "      buttonEl.style.display =\n",
              "        google.colab.kernel.accessAllowed ? 'block' : 'none';\n",
              "\n",
              "      async function convertToInteractive(key) {\n",
              "        const element = document.querySelector('#df-b452c2c1-f5f1-4791-98d9-91a87acef029');\n",
              "        const dataTable =\n",
              "          await google.colab.kernel.invokeFunction('convertToInteractive',\n",
              "                                                    [key], {});\n",
              "        if (!dataTable) return;\n",
              "\n",
              "        const docLinkHtml = 'Like what you see? Visit the ' +\n",
              "          '<a target=\"_blank\" href=https://colab.research.google.com/notebooks/data_table.ipynb>data table notebook</a>'\n",
              "          + ' to learn more about interactive tables.';\n",
              "        element.innerHTML = '';\n",
              "        dataTable['output_type'] = 'display_data';\n",
              "        await google.colab.output.renderOutput(dataTable, element);\n",
              "        const docLink = document.createElement('div');\n",
              "        docLink.innerHTML = docLinkHtml;\n",
              "        element.appendChild(docLink);\n",
              "      }\n",
              "    </script>\n",
              "  </div>\n",
              "\n",
              "\n",
              "<div id=\"df-e9fc5f7d-cc13-4c46-aa9f-a4ae3ce1a890\">\n",
              "  <button class=\"colab-df-quickchart\" onclick=\"quickchart('df-e9fc5f7d-cc13-4c46-aa9f-a4ae3ce1a890')\"\n",
              "            title=\"Suggest charts\"\n",
              "            style=\"display:none;\">\n",
              "\n",
              "<svg xmlns=\"http://www.w3.org/2000/svg\" height=\"24px\"viewBox=\"0 0 24 24\"\n",
              "     width=\"24px\">\n",
              "    <g>\n",
              "        <path d=\"M19 3H5c-1.1 0-2 .9-2 2v14c0 1.1.9 2 2 2h14c1.1 0 2-.9 2-2V5c0-1.1-.9-2-2-2zM9 17H7v-7h2v7zm4 0h-2V7h2v10zm4 0h-2v-4h2v4z\"/>\n",
              "    </g>\n",
              "</svg>\n",
              "  </button>\n",
              "\n",
              "<style>\n",
              "  .colab-df-quickchart {\n",
              "      --bg-color: #E8F0FE;\n",
              "      --fill-color: #1967D2;\n",
              "      --hover-bg-color: #E2EBFA;\n",
              "      --hover-fill-color: #174EA6;\n",
              "      --disabled-fill-color: #AAA;\n",
              "      --disabled-bg-color: #DDD;\n",
              "  }\n",
              "\n",
              "  [theme=dark] .colab-df-quickchart {\n",
              "      --bg-color: #3B4455;\n",
              "      --fill-color: #D2E3FC;\n",
              "      --hover-bg-color: #434B5C;\n",
              "      --hover-fill-color: #FFFFFF;\n",
              "      --disabled-bg-color: #3B4455;\n",
              "      --disabled-fill-color: #666;\n",
              "  }\n",
              "\n",
              "  .colab-df-quickchart {\n",
              "    background-color: var(--bg-color);\n",
              "    border: none;\n",
              "    border-radius: 50%;\n",
              "    cursor: pointer;\n",
              "    display: none;\n",
              "    fill: var(--fill-color);\n",
              "    height: 32px;\n",
              "    padding: 0;\n",
              "    width: 32px;\n",
              "  }\n",
              "\n",
              "  .colab-df-quickchart:hover {\n",
              "    background-color: var(--hover-bg-color);\n",
              "    box-shadow: 0 1px 2px rgba(60, 64, 67, 0.3), 0 1px 3px 1px rgba(60, 64, 67, 0.15);\n",
              "    fill: var(--button-hover-fill-color);\n",
              "  }\n",
              "\n",
              "  .colab-df-quickchart-complete:disabled,\n",
              "  .colab-df-quickchart-complete:disabled:hover {\n",
              "    background-color: var(--disabled-bg-color);\n",
              "    fill: var(--disabled-fill-color);\n",
              "    box-shadow: none;\n",
              "  }\n",
              "\n",
              "  .colab-df-spinner {\n",
              "    border: 2px solid var(--fill-color);\n",
              "    border-color: transparent;\n",
              "    border-bottom-color: var(--fill-color);\n",
              "    animation:\n",
              "      spin 1s steps(1) infinite;\n",
              "  }\n",
              "\n",
              "  @keyframes spin {\n",
              "    0% {\n",
              "      border-color: transparent;\n",
              "      border-bottom-color: var(--fill-color);\n",
              "      border-left-color: var(--fill-color);\n",
              "    }\n",
              "    20% {\n",
              "      border-color: transparent;\n",
              "      border-left-color: var(--fill-color);\n",
              "      border-top-color: var(--fill-color);\n",
              "    }\n",
              "    30% {\n",
              "      border-color: transparent;\n",
              "      border-left-color: var(--fill-color);\n",
              "      border-top-color: var(--fill-color);\n",
              "      border-right-color: var(--fill-color);\n",
              "    }\n",
              "    40% {\n",
              "      border-color: transparent;\n",
              "      border-right-color: var(--fill-color);\n",
              "      border-top-color: var(--fill-color);\n",
              "    }\n",
              "    60% {\n",
              "      border-color: transparent;\n",
              "      border-right-color: var(--fill-color);\n",
              "    }\n",
              "    80% {\n",
              "      border-color: transparent;\n",
              "      border-right-color: var(--fill-color);\n",
              "      border-bottom-color: var(--fill-color);\n",
              "    }\n",
              "    90% {\n",
              "      border-color: transparent;\n",
              "      border-bottom-color: var(--fill-color);\n",
              "    }\n",
              "  }\n",
              "</style>\n",
              "\n",
              "  <script>\n",
              "    async function quickchart(key) {\n",
              "      const quickchartButtonEl =\n",
              "        document.querySelector('#' + key + ' button');\n",
              "      quickchartButtonEl.disabled = true;  // To prevent multiple clicks.\n",
              "      quickchartButtonEl.classList.add('colab-df-spinner');\n",
              "      try {\n",
              "        const charts = await google.colab.kernel.invokeFunction(\n",
              "            'suggestCharts', [key], {});\n",
              "      } catch (error) {\n",
              "        console.error('Error during call to suggestCharts:', error);\n",
              "      }\n",
              "      quickchartButtonEl.classList.remove('colab-df-spinner');\n",
              "      quickchartButtonEl.classList.add('colab-df-quickchart-complete');\n",
              "    }\n",
              "    (() => {\n",
              "      let quickchartButtonEl =\n",
              "        document.querySelector('#df-e9fc5f7d-cc13-4c46-aa9f-a4ae3ce1a890 button');\n",
              "      quickchartButtonEl.style.display =\n",
              "        google.colab.kernel.accessAllowed ? 'block' : 'none';\n",
              "    })();\n",
              "  </script>\n",
              "</div>\n",
              "\n",
              "    </div>\n",
              "  </div>\n"
            ],
            "application/vnd.google.colaboratory.intrinsic+json": {
              "type": "dataframe",
              "summary": "{\n  \"name\": \"Marathon_df[(Marathon_df['Rank']=='-')]\",\n  \"rows\": 197,\n  \"fields\": [\n    {\n      \"column\": \"Rank\",\n      \"properties\": {\n        \"dtype\": \"category\",\n        \"num_unique_values\": 1,\n        \"samples\": [\n          \"-\"\n        ],\n        \"semantic_type\": \"\",\n        \"description\": \"\"\n      }\n    },\n    {\n      \"column\": \"Gender Rank\",\n      \"properties\": {\n        \"dtype\": \"category\",\n        \"num_unique_values\": 1,\n        \"samples\": [\n          \"-\"\n        ],\n        \"semantic_type\": \"\",\n        \"description\": \"\"\n      }\n    },\n    {\n      \"column\": \"Gender\",\n      \"properties\": {\n        \"dtype\": \"category\",\n        \"num_unique_values\": 2,\n        \"samples\": [\n          \"Male\"\n        ],\n        \"semantic_type\": \"\",\n        \"description\": \"\"\n      }\n    },\n    {\n      \"column\": \"Category\",\n      \"properties\": {\n        \"dtype\": \"category\",\n        \"num_unique_values\": 4,\n        \"samples\": [\n          \"4KM FUN RUN\"\n        ],\n        \"semantic_type\": \"\",\n        \"description\": \"\"\n      }\n    },\n    {\n      \"column\": \"Nationality\",\n      \"properties\": {\n        \"dtype\": \"category\",\n        \"num_unique_values\": 27,\n        \"samples\": [\n          \"LK\"\n        ],\n        \"semantic_type\": \"\",\n        \"description\": \"\"\n      }\n    },\n    {\n      \"column\": \"Gun Time\",\n      \"properties\": {\n        \"dtype\": \"timedelta64[ns]\",\n        \"num_unique_values\": 197,\n        \"samples\": [\n          \"0 days 02:58:30.613000\"\n        ],\n        \"semantic_type\": \"\",\n        \"description\": \"\"\n      }\n    },\n    {\n      \"column\": \"Chip Time\",\n      \"properties\": {\n        \"dtype\": \"timedelta64[ns]\",\n        \"num_unique_values\": 197,\n        \"samples\": [\n          \"0 days 02:45:07.012000\"\n        ],\n        \"semantic_type\": \"\",\n        \"description\": \"\"\n      }\n    },\n    {\n      \"column\": \"Speed Km/Hr\",\n      \"properties\": {\n        \"dtype\": \"number\",\n        \"std\": 5.593592422010195,\n        \"min\": 3.2,\n        \"max\": 33.1,\n        \"num_unique_values\": 98,\n        \"samples\": [\n          17.5\n        ],\n        \"semantic_type\": \"\",\n        \"description\": \"\"\n      }\n    },\n    {\n      \"column\": \"Pace min/km\",\n      \"properties\": {\n        \"dtype\": \"number\",\n        \"std\": 4.161744929569853,\n        \"min\": 1.48,\n        \"max\": 18.44,\n        \"num_unique_values\": 160,\n        \"samples\": [\n          3.03\n        ],\n        \"semantic_type\": \"\",\n        \"description\": \"\"\n      }\n    },\n    {\n      \"column\": \"Distance Km\",\n      \"properties\": {\n        \"dtype\": \"number\",\n        \"std\": 15.332963578238154,\n        \"min\": 4.0,\n        \"max\": 42.2,\n        \"num_unique_values\": 4,\n        \"samples\": [\n          4.0\n        ],\n        \"semantic_type\": \"\",\n        \"description\": \"\"\n      }\n    }\n  ]\n}"
            }
          },
          "metadata": {},
          "execution_count": 250
        }
      ]
    },
    {
      "cell_type": "code",
      "source": [
        "Marathon_df['Rank'] = Marathon_df['Rank'].map(lambda x : '0 / 0' if x == '-' else x )"
      ],
      "metadata": {
        "id": "4OoWeZUsBwVJ"
      },
      "id": "4OoWeZUsBwVJ",
      "execution_count": 251,
      "outputs": []
    },
    {
      "cell_type": "code",
      "source": [
        "Marathon_df['Gender Rank'] = Marathon_df['Gender Rank'].map(lambda x : '0 / 0' if x == '-' else x )"
      ],
      "metadata": {
        "id": "tOnNAx4_B3iC"
      },
      "id": "tOnNAx4_B3iC",
      "execution_count": 252,
      "outputs": []
    },
    {
      "cell_type": "code",
      "source": [
        "Marathon_df[(Marathon_df['Rank']=='0 / 0')]"
      ],
      "metadata": {
        "colab": {
          "base_uri": "https://localhost:8080/",
          "height": 423
        },
        "id": "iPDupB6uB6D3",
        "outputId": "715cbea8-589f-4c9a-cbcc-087866679394"
      },
      "id": "iPDupB6uB6D3",
      "execution_count": 253,
      "outputs": [
        {
          "output_type": "execute_result",
          "data": {
            "text/plain": [
              "       Rank Gender Rank  Gender  Category Nationality               Gun Time  \\\n",
              "770   0 / 0       0 / 0  Female  10KM RUN          SA 0 days 00:42:05.165000   \n",
              "771   0 / 0       0 / 0  Female  10KM RUN          IN 0 days 01:04:07.034000   \n",
              "772   0 / 0       0 / 0  Female  10KM RUN          PT 0 days 01:18:07.863000   \n",
              "773   0 / 0       0 / 0  Female  10KM RUN          PH 0 days 01:18:46.940000   \n",
              "774   0 / 0       0 / 0  Female  10KM RUN          PH 0 days 01:22:28.217000   \n",
              "...     ...         ...     ...       ...         ...                    ...   \n",
              "6364  0 / 0       0 / 0    Male  MARATHON          SA 0 days 04:29:23.849000   \n",
              "6365  0 / 0       0 / 0    Male  MARATHON          AF 0 days 04:42:13.532000   \n",
              "6366  0 / 0       0 / 0    Male  MARATHON          SA 0 days 04:53:02.507000   \n",
              "6367  0 / 0       0 / 0    Male  MARATHON     unknown 0 days 04:53:55.101000   \n",
              "6368  0 / 0       0 / 0    Male  MARATHON          SA 0 days 04:55:15.850000   \n",
              "\n",
              "                  Chip Time  Speed Km/Hr  Pace min/km  Distance Km  \n",
              "770  0 days 00:42:05.165000         14.2         4.12         10.0  \n",
              "771  0 days 01:04:07.034000          9.3         6.24         10.0  \n",
              "772  0 days 01:18:07.863000          7.6         7.48         10.0  \n",
              "773  0 days 01:18:46.940000          7.6         7.52         10.0  \n",
              "774  0 days 01:22:28.217000          7.2         8.14         10.0  \n",
              "...                     ...          ...          ...          ...  \n",
              "6364 0 days 04:17:28.782000          9.8         6.06         42.2  \n",
              "6365 0 days 04:30:08.835000          9.3         6.24         42.2  \n",
              "6366 0 days 04:41:14.383000          9.0         6.39         42.2  \n",
              "6367 0 days 04:53:55.101000          8.6         6.57         42.2  \n",
              "6368 0 days 04:55:15.850000          8.5         6.59         42.2  \n",
              "\n",
              "[197 rows x 10 columns]"
            ],
            "text/html": [
              "\n",
              "  <div id=\"df-18985510-253a-4ea2-bbf4-56d56df6a57f\" class=\"colab-df-container\">\n",
              "    <div>\n",
              "<style scoped>\n",
              "    .dataframe tbody tr th:only-of-type {\n",
              "        vertical-align: middle;\n",
              "    }\n",
              "\n",
              "    .dataframe tbody tr th {\n",
              "        vertical-align: top;\n",
              "    }\n",
              "\n",
              "    .dataframe thead th {\n",
              "        text-align: right;\n",
              "    }\n",
              "</style>\n",
              "<table border=\"1\" class=\"dataframe\">\n",
              "  <thead>\n",
              "    <tr style=\"text-align: right;\">\n",
              "      <th></th>\n",
              "      <th>Rank</th>\n",
              "      <th>Gender Rank</th>\n",
              "      <th>Gender</th>\n",
              "      <th>Category</th>\n",
              "      <th>Nationality</th>\n",
              "      <th>Gun Time</th>\n",
              "      <th>Chip Time</th>\n",
              "      <th>Speed Km/Hr</th>\n",
              "      <th>Pace min/km</th>\n",
              "      <th>Distance Km</th>\n",
              "    </tr>\n",
              "  </thead>\n",
              "  <tbody>\n",
              "    <tr>\n",
              "      <th>770</th>\n",
              "      <td>0 / 0</td>\n",
              "      <td>0 / 0</td>\n",
              "      <td>Female</td>\n",
              "      <td>10KM RUN</td>\n",
              "      <td>SA</td>\n",
              "      <td>0 days 00:42:05.165000</td>\n",
              "      <td>0 days 00:42:05.165000</td>\n",
              "      <td>14.2</td>\n",
              "      <td>4.12</td>\n",
              "      <td>10.0</td>\n",
              "    </tr>\n",
              "    <tr>\n",
              "      <th>771</th>\n",
              "      <td>0 / 0</td>\n",
              "      <td>0 / 0</td>\n",
              "      <td>Female</td>\n",
              "      <td>10KM RUN</td>\n",
              "      <td>IN</td>\n",
              "      <td>0 days 01:04:07.034000</td>\n",
              "      <td>0 days 01:04:07.034000</td>\n",
              "      <td>9.3</td>\n",
              "      <td>6.24</td>\n",
              "      <td>10.0</td>\n",
              "    </tr>\n",
              "    <tr>\n",
              "      <th>772</th>\n",
              "      <td>0 / 0</td>\n",
              "      <td>0 / 0</td>\n",
              "      <td>Female</td>\n",
              "      <td>10KM RUN</td>\n",
              "      <td>PT</td>\n",
              "      <td>0 days 01:18:07.863000</td>\n",
              "      <td>0 days 01:18:07.863000</td>\n",
              "      <td>7.6</td>\n",
              "      <td>7.48</td>\n",
              "      <td>10.0</td>\n",
              "    </tr>\n",
              "    <tr>\n",
              "      <th>773</th>\n",
              "      <td>0 / 0</td>\n",
              "      <td>0 / 0</td>\n",
              "      <td>Female</td>\n",
              "      <td>10KM RUN</td>\n",
              "      <td>PH</td>\n",
              "      <td>0 days 01:18:46.940000</td>\n",
              "      <td>0 days 01:18:46.940000</td>\n",
              "      <td>7.6</td>\n",
              "      <td>7.52</td>\n",
              "      <td>10.0</td>\n",
              "    </tr>\n",
              "    <tr>\n",
              "      <th>774</th>\n",
              "      <td>0 / 0</td>\n",
              "      <td>0 / 0</td>\n",
              "      <td>Female</td>\n",
              "      <td>10KM RUN</td>\n",
              "      <td>PH</td>\n",
              "      <td>0 days 01:22:28.217000</td>\n",
              "      <td>0 days 01:22:28.217000</td>\n",
              "      <td>7.2</td>\n",
              "      <td>8.14</td>\n",
              "      <td>10.0</td>\n",
              "    </tr>\n",
              "    <tr>\n",
              "      <th>...</th>\n",
              "      <td>...</td>\n",
              "      <td>...</td>\n",
              "      <td>...</td>\n",
              "      <td>...</td>\n",
              "      <td>...</td>\n",
              "      <td>...</td>\n",
              "      <td>...</td>\n",
              "      <td>...</td>\n",
              "      <td>...</td>\n",
              "      <td>...</td>\n",
              "    </tr>\n",
              "    <tr>\n",
              "      <th>6364</th>\n",
              "      <td>0 / 0</td>\n",
              "      <td>0 / 0</td>\n",
              "      <td>Male</td>\n",
              "      <td>MARATHON</td>\n",
              "      <td>SA</td>\n",
              "      <td>0 days 04:29:23.849000</td>\n",
              "      <td>0 days 04:17:28.782000</td>\n",
              "      <td>9.8</td>\n",
              "      <td>6.06</td>\n",
              "      <td>42.2</td>\n",
              "    </tr>\n",
              "    <tr>\n",
              "      <th>6365</th>\n",
              "      <td>0 / 0</td>\n",
              "      <td>0 / 0</td>\n",
              "      <td>Male</td>\n",
              "      <td>MARATHON</td>\n",
              "      <td>AF</td>\n",
              "      <td>0 days 04:42:13.532000</td>\n",
              "      <td>0 days 04:30:08.835000</td>\n",
              "      <td>9.3</td>\n",
              "      <td>6.24</td>\n",
              "      <td>42.2</td>\n",
              "    </tr>\n",
              "    <tr>\n",
              "      <th>6366</th>\n",
              "      <td>0 / 0</td>\n",
              "      <td>0 / 0</td>\n",
              "      <td>Male</td>\n",
              "      <td>MARATHON</td>\n",
              "      <td>SA</td>\n",
              "      <td>0 days 04:53:02.507000</td>\n",
              "      <td>0 days 04:41:14.383000</td>\n",
              "      <td>9.0</td>\n",
              "      <td>6.39</td>\n",
              "      <td>42.2</td>\n",
              "    </tr>\n",
              "    <tr>\n",
              "      <th>6367</th>\n",
              "      <td>0 / 0</td>\n",
              "      <td>0 / 0</td>\n",
              "      <td>Male</td>\n",
              "      <td>MARATHON</td>\n",
              "      <td>unknown</td>\n",
              "      <td>0 days 04:53:55.101000</td>\n",
              "      <td>0 days 04:53:55.101000</td>\n",
              "      <td>8.6</td>\n",
              "      <td>6.57</td>\n",
              "      <td>42.2</td>\n",
              "    </tr>\n",
              "    <tr>\n",
              "      <th>6368</th>\n",
              "      <td>0 / 0</td>\n",
              "      <td>0 / 0</td>\n",
              "      <td>Male</td>\n",
              "      <td>MARATHON</td>\n",
              "      <td>SA</td>\n",
              "      <td>0 days 04:55:15.850000</td>\n",
              "      <td>0 days 04:55:15.850000</td>\n",
              "      <td>8.5</td>\n",
              "      <td>6.59</td>\n",
              "      <td>42.2</td>\n",
              "    </tr>\n",
              "  </tbody>\n",
              "</table>\n",
              "<p>197 rows × 10 columns</p>\n",
              "</div>\n",
              "    <div class=\"colab-df-buttons\">\n",
              "\n",
              "  <div class=\"colab-df-container\">\n",
              "    <button class=\"colab-df-convert\" onclick=\"convertToInteractive('df-18985510-253a-4ea2-bbf4-56d56df6a57f')\"\n",
              "            title=\"Convert this dataframe to an interactive table.\"\n",
              "            style=\"display:none;\">\n",
              "\n",
              "  <svg xmlns=\"http://www.w3.org/2000/svg\" height=\"24px\" viewBox=\"0 -960 960 960\">\n",
              "    <path d=\"M120-120v-720h720v720H120Zm60-500h600v-160H180v160Zm220 220h160v-160H400v160Zm0 220h160v-160H400v160ZM180-400h160v-160H180v160Zm440 0h160v-160H620v160ZM180-180h160v-160H180v160Zm440 0h160v-160H620v160Z\"/>\n",
              "  </svg>\n",
              "    </button>\n",
              "\n",
              "  <style>\n",
              "    .colab-df-container {\n",
              "      display:flex;\n",
              "      gap: 12px;\n",
              "    }\n",
              "\n",
              "    .colab-df-convert {\n",
              "      background-color: #E8F0FE;\n",
              "      border: none;\n",
              "      border-radius: 50%;\n",
              "      cursor: pointer;\n",
              "      display: none;\n",
              "      fill: #1967D2;\n",
              "      height: 32px;\n",
              "      padding: 0 0 0 0;\n",
              "      width: 32px;\n",
              "    }\n",
              "\n",
              "    .colab-df-convert:hover {\n",
              "      background-color: #E2EBFA;\n",
              "      box-shadow: 0px 1px 2px rgba(60, 64, 67, 0.3), 0px 1px 3px 1px rgba(60, 64, 67, 0.15);\n",
              "      fill: #174EA6;\n",
              "    }\n",
              "\n",
              "    .colab-df-buttons div {\n",
              "      margin-bottom: 4px;\n",
              "    }\n",
              "\n",
              "    [theme=dark] .colab-df-convert {\n",
              "      background-color: #3B4455;\n",
              "      fill: #D2E3FC;\n",
              "    }\n",
              "\n",
              "    [theme=dark] .colab-df-convert:hover {\n",
              "      background-color: #434B5C;\n",
              "      box-shadow: 0px 1px 3px 1px rgba(0, 0, 0, 0.15);\n",
              "      filter: drop-shadow(0px 1px 2px rgba(0, 0, 0, 0.3));\n",
              "      fill: #FFFFFF;\n",
              "    }\n",
              "  </style>\n",
              "\n",
              "    <script>\n",
              "      const buttonEl =\n",
              "        document.querySelector('#df-18985510-253a-4ea2-bbf4-56d56df6a57f button.colab-df-convert');\n",
              "      buttonEl.style.display =\n",
              "        google.colab.kernel.accessAllowed ? 'block' : 'none';\n",
              "\n",
              "      async function convertToInteractive(key) {\n",
              "        const element = document.querySelector('#df-18985510-253a-4ea2-bbf4-56d56df6a57f');\n",
              "        const dataTable =\n",
              "          await google.colab.kernel.invokeFunction('convertToInteractive',\n",
              "                                                    [key], {});\n",
              "        if (!dataTable) return;\n",
              "\n",
              "        const docLinkHtml = 'Like what you see? Visit the ' +\n",
              "          '<a target=\"_blank\" href=https://colab.research.google.com/notebooks/data_table.ipynb>data table notebook</a>'\n",
              "          + ' to learn more about interactive tables.';\n",
              "        element.innerHTML = '';\n",
              "        dataTable['output_type'] = 'display_data';\n",
              "        await google.colab.output.renderOutput(dataTable, element);\n",
              "        const docLink = document.createElement('div');\n",
              "        docLink.innerHTML = docLinkHtml;\n",
              "        element.appendChild(docLink);\n",
              "      }\n",
              "    </script>\n",
              "  </div>\n",
              "\n",
              "\n",
              "<div id=\"df-7d6e9c94-3fdf-4765-b435-b139e8c5d091\">\n",
              "  <button class=\"colab-df-quickchart\" onclick=\"quickchart('df-7d6e9c94-3fdf-4765-b435-b139e8c5d091')\"\n",
              "            title=\"Suggest charts\"\n",
              "            style=\"display:none;\">\n",
              "\n",
              "<svg xmlns=\"http://www.w3.org/2000/svg\" height=\"24px\"viewBox=\"0 0 24 24\"\n",
              "     width=\"24px\">\n",
              "    <g>\n",
              "        <path d=\"M19 3H5c-1.1 0-2 .9-2 2v14c0 1.1.9 2 2 2h14c1.1 0 2-.9 2-2V5c0-1.1-.9-2-2-2zM9 17H7v-7h2v7zm4 0h-2V7h2v10zm4 0h-2v-4h2v4z\"/>\n",
              "    </g>\n",
              "</svg>\n",
              "  </button>\n",
              "\n",
              "<style>\n",
              "  .colab-df-quickchart {\n",
              "      --bg-color: #E8F0FE;\n",
              "      --fill-color: #1967D2;\n",
              "      --hover-bg-color: #E2EBFA;\n",
              "      --hover-fill-color: #174EA6;\n",
              "      --disabled-fill-color: #AAA;\n",
              "      --disabled-bg-color: #DDD;\n",
              "  }\n",
              "\n",
              "  [theme=dark] .colab-df-quickchart {\n",
              "      --bg-color: #3B4455;\n",
              "      --fill-color: #D2E3FC;\n",
              "      --hover-bg-color: #434B5C;\n",
              "      --hover-fill-color: #FFFFFF;\n",
              "      --disabled-bg-color: #3B4455;\n",
              "      --disabled-fill-color: #666;\n",
              "  }\n",
              "\n",
              "  .colab-df-quickchart {\n",
              "    background-color: var(--bg-color);\n",
              "    border: none;\n",
              "    border-radius: 50%;\n",
              "    cursor: pointer;\n",
              "    display: none;\n",
              "    fill: var(--fill-color);\n",
              "    height: 32px;\n",
              "    padding: 0;\n",
              "    width: 32px;\n",
              "  }\n",
              "\n",
              "  .colab-df-quickchart:hover {\n",
              "    background-color: var(--hover-bg-color);\n",
              "    box-shadow: 0 1px 2px rgba(60, 64, 67, 0.3), 0 1px 3px 1px rgba(60, 64, 67, 0.15);\n",
              "    fill: var(--button-hover-fill-color);\n",
              "  }\n",
              "\n",
              "  .colab-df-quickchart-complete:disabled,\n",
              "  .colab-df-quickchart-complete:disabled:hover {\n",
              "    background-color: var(--disabled-bg-color);\n",
              "    fill: var(--disabled-fill-color);\n",
              "    box-shadow: none;\n",
              "  }\n",
              "\n",
              "  .colab-df-spinner {\n",
              "    border: 2px solid var(--fill-color);\n",
              "    border-color: transparent;\n",
              "    border-bottom-color: var(--fill-color);\n",
              "    animation:\n",
              "      spin 1s steps(1) infinite;\n",
              "  }\n",
              "\n",
              "  @keyframes spin {\n",
              "    0% {\n",
              "      border-color: transparent;\n",
              "      border-bottom-color: var(--fill-color);\n",
              "      border-left-color: var(--fill-color);\n",
              "    }\n",
              "    20% {\n",
              "      border-color: transparent;\n",
              "      border-left-color: var(--fill-color);\n",
              "      border-top-color: var(--fill-color);\n",
              "    }\n",
              "    30% {\n",
              "      border-color: transparent;\n",
              "      border-left-color: var(--fill-color);\n",
              "      border-top-color: var(--fill-color);\n",
              "      border-right-color: var(--fill-color);\n",
              "    }\n",
              "    40% {\n",
              "      border-color: transparent;\n",
              "      border-right-color: var(--fill-color);\n",
              "      border-top-color: var(--fill-color);\n",
              "    }\n",
              "    60% {\n",
              "      border-color: transparent;\n",
              "      border-right-color: var(--fill-color);\n",
              "    }\n",
              "    80% {\n",
              "      border-color: transparent;\n",
              "      border-right-color: var(--fill-color);\n",
              "      border-bottom-color: var(--fill-color);\n",
              "    }\n",
              "    90% {\n",
              "      border-color: transparent;\n",
              "      border-bottom-color: var(--fill-color);\n",
              "    }\n",
              "  }\n",
              "</style>\n",
              "\n",
              "  <script>\n",
              "    async function quickchart(key) {\n",
              "      const quickchartButtonEl =\n",
              "        document.querySelector('#' + key + ' button');\n",
              "      quickchartButtonEl.disabled = true;  // To prevent multiple clicks.\n",
              "      quickchartButtonEl.classList.add('colab-df-spinner');\n",
              "      try {\n",
              "        const charts = await google.colab.kernel.invokeFunction(\n",
              "            'suggestCharts', [key], {});\n",
              "      } catch (error) {\n",
              "        console.error('Error during call to suggestCharts:', error);\n",
              "      }\n",
              "      quickchartButtonEl.classList.remove('colab-df-spinner');\n",
              "      quickchartButtonEl.classList.add('colab-df-quickchart-complete');\n",
              "    }\n",
              "    (() => {\n",
              "      let quickchartButtonEl =\n",
              "        document.querySelector('#df-7d6e9c94-3fdf-4765-b435-b139e8c5d091 button');\n",
              "      quickchartButtonEl.style.display =\n",
              "        google.colab.kernel.accessAllowed ? 'block' : 'none';\n",
              "    })();\n",
              "  </script>\n",
              "</div>\n",
              "\n",
              "    </div>\n",
              "  </div>\n"
            ],
            "application/vnd.google.colaboratory.intrinsic+json": {
              "type": "dataframe",
              "summary": "{\n  \"name\": \"Marathon_df[(Marathon_df['Rank']=='0 / 0')]\",\n  \"rows\": 197,\n  \"fields\": [\n    {\n      \"column\": \"Rank\",\n      \"properties\": {\n        \"dtype\": \"category\",\n        \"num_unique_values\": 1,\n        \"samples\": [\n          \"0 / 0\"\n        ],\n        \"semantic_type\": \"\",\n        \"description\": \"\"\n      }\n    },\n    {\n      \"column\": \"Gender Rank\",\n      \"properties\": {\n        \"dtype\": \"category\",\n        \"num_unique_values\": 1,\n        \"samples\": [\n          \"0 / 0\"\n        ],\n        \"semantic_type\": \"\",\n        \"description\": \"\"\n      }\n    },\n    {\n      \"column\": \"Gender\",\n      \"properties\": {\n        \"dtype\": \"category\",\n        \"num_unique_values\": 2,\n        \"samples\": [\n          \"Male\"\n        ],\n        \"semantic_type\": \"\",\n        \"description\": \"\"\n      }\n    },\n    {\n      \"column\": \"Category\",\n      \"properties\": {\n        \"dtype\": \"category\",\n        \"num_unique_values\": 4,\n        \"samples\": [\n          \"4KM FUN RUN\"\n        ],\n        \"semantic_type\": \"\",\n        \"description\": \"\"\n      }\n    },\n    {\n      \"column\": \"Nationality\",\n      \"properties\": {\n        \"dtype\": \"category\",\n        \"num_unique_values\": 27,\n        \"samples\": [\n          \"LK\"\n        ],\n        \"semantic_type\": \"\",\n        \"description\": \"\"\n      }\n    },\n    {\n      \"column\": \"Gun Time\",\n      \"properties\": {\n        \"dtype\": \"timedelta64[ns]\",\n        \"num_unique_values\": 197,\n        \"samples\": [\n          \"0 days 02:58:30.613000\"\n        ],\n        \"semantic_type\": \"\",\n        \"description\": \"\"\n      }\n    },\n    {\n      \"column\": \"Chip Time\",\n      \"properties\": {\n        \"dtype\": \"timedelta64[ns]\",\n        \"num_unique_values\": 197,\n        \"samples\": [\n          \"0 days 02:45:07.012000\"\n        ],\n        \"semantic_type\": \"\",\n        \"description\": \"\"\n      }\n    },\n    {\n      \"column\": \"Speed Km/Hr\",\n      \"properties\": {\n        \"dtype\": \"number\",\n        \"std\": 5.593592422010195,\n        \"min\": 3.2,\n        \"max\": 33.1,\n        \"num_unique_values\": 98,\n        \"samples\": [\n          17.5\n        ],\n        \"semantic_type\": \"\",\n        \"description\": \"\"\n      }\n    },\n    {\n      \"column\": \"Pace min/km\",\n      \"properties\": {\n        \"dtype\": \"number\",\n        \"std\": 4.161744929569853,\n        \"min\": 1.48,\n        \"max\": 18.44,\n        \"num_unique_values\": 160,\n        \"samples\": [\n          3.03\n        ],\n        \"semantic_type\": \"\",\n        \"description\": \"\"\n      }\n    },\n    {\n      \"column\": \"Distance Km\",\n      \"properties\": {\n        \"dtype\": \"number\",\n        \"std\": 15.332963578238154,\n        \"min\": 4.0,\n        \"max\": 42.2,\n        \"num_unique_values\": 4,\n        \"samples\": [\n          4.0\n        ],\n        \"semantic_type\": \"\",\n        \"description\": \"\"\n      }\n    }\n  ]\n}"
            }
          },
          "metadata": {},
          "execution_count": 253
        }
      ]
    },
    {
      "cell_type": "code",
      "source": [
        "Marathon_df['Rank_Total'] = Marathon_df['Rank'].map(lambda x: int(x.split('/')[1]))\n",
        "Marathon_df['Rank'] = Marathon_df['Rank'].map(lambda x: int(x.split('/')[0]))"
      ],
      "metadata": {
        "id": "47LNry4NatjJ"
      },
      "id": "47LNry4NatjJ",
      "execution_count": 254,
      "outputs": []
    },
    {
      "cell_type": "code",
      "source": [
        "Marathon_df['Gender_Rank_Total'] = Marathon_df['Gender Rank'].map(lambda x: int(x.split('/')[1]))\n",
        "Marathon_df['Gender Rank'] = Marathon_df['Gender Rank'].map(lambda x: int(x.split('/')[0]))"
      ],
      "metadata": {
        "id": "xBwYJcEFBD8T"
      },
      "id": "xBwYJcEFBD8T",
      "execution_count": 255,
      "outputs": []
    },
    {
      "cell_type": "code",
      "source": [
        "Marathon_df"
      ],
      "metadata": {
        "colab": {
          "base_uri": "https://localhost:8080/",
          "height": 701
        },
        "id": "yeppHFeJCLJP",
        "outputId": "465603fe-a3c1-42bf-9f94-2125367648a2"
      },
      "id": "yeppHFeJCLJP",
      "execution_count": 256,
      "outputs": [
        {
          "output_type": "execute_result",
          "data": {
            "text/plain": [
              "      Rank  Gender Rank  Gender             Category Nationality  \\\n",
              "0       46            1  Female             10KM RUN          SA   \n",
              "1       53            2  Female             10KM RUN          CZ   \n",
              "2       55            3  Female             10KM RUN          SA   \n",
              "3       88            4  Female             10KM RUN          MA   \n",
              "4       93            5  Female             10KM RUN          SA   \n",
              "...    ...          ...     ...                  ...         ...   \n",
              "6392     5            2  Female  HALF MARATHON ELITE          ET   \n",
              "6393     6            3  Female  HALF MARATHON ELITE          UA   \n",
              "6394     1            1    Male  HALF MARATHON ELITE          KE   \n",
              "6395     2            2    Male  HALF MARATHON ELITE          KE   \n",
              "6396     3            3    Male  HALF MARATHON ELITE          KE   \n",
              "\n",
              "                   Gun Time              Chip Time  Speed Km/Hr  Pace min/km  \\\n",
              "0    0 days 00:42:59.556000 0 days 00:42:57.505000         13.9         4.17   \n",
              "1    0 days 00:43:28.175000 0 days 00:43:24.774000         13.8         4.20   \n",
              "2    0 days 00:44:00.251000 0 days 00:43:56.317000         13.6         4.23   \n",
              "3    0 days 00:48:28.115000 0 days 00:48:22.908000         12.4         4.50   \n",
              "4    0 days 00:58:37.753000 0 days 00:48:27.714000         12.3         4.50   \n",
              "...                     ...                    ...          ...          ...   \n",
              "6392 0 days 01:12:12.475000 0 days 01:12:08.442000         17.5         3.25   \n",
              "6393 0 days 01:18:23.645000 0 days 01:18:20.056000         16.1         3.42   \n",
              "6394 0 days 01:04:04.250000 0 days 01:04:00.497000         19.7         3.02   \n",
              "6395 0 days 01:04:06.571000 0 days 01:04:03.202000         19.7         3.02   \n",
              "6396 0 days 01:04:09.986000 0 days 01:04:06.290000         19.7         3.02   \n",
              "\n",
              "      Distance Km  Rank_Total  Gender_Rank_Total  \n",
              "0            10.0        2285                761  \n",
              "1            10.0        2285                761  \n",
              "2            10.0        2285                761  \n",
              "3            10.0        2285                761  \n",
              "4            10.0        2285                761  \n",
              "...           ...         ...                ...  \n",
              "6392         21.1           6                  3  \n",
              "6393         21.1           6                  3  \n",
              "6394         21.1           6                  3  \n",
              "6395         21.1           6                  3  \n",
              "6396         21.1           6                  3  \n",
              "\n",
              "[6227 rows x 12 columns]"
            ],
            "text/html": [
              "\n",
              "  <div id=\"df-a4422c03-caa0-4943-839b-b4eadaedcee0\" class=\"colab-df-container\">\n",
              "    <div>\n",
              "<style scoped>\n",
              "    .dataframe tbody tr th:only-of-type {\n",
              "        vertical-align: middle;\n",
              "    }\n",
              "\n",
              "    .dataframe tbody tr th {\n",
              "        vertical-align: top;\n",
              "    }\n",
              "\n",
              "    .dataframe thead th {\n",
              "        text-align: right;\n",
              "    }\n",
              "</style>\n",
              "<table border=\"1\" class=\"dataframe\">\n",
              "  <thead>\n",
              "    <tr style=\"text-align: right;\">\n",
              "      <th></th>\n",
              "      <th>Rank</th>\n",
              "      <th>Gender Rank</th>\n",
              "      <th>Gender</th>\n",
              "      <th>Category</th>\n",
              "      <th>Nationality</th>\n",
              "      <th>Gun Time</th>\n",
              "      <th>Chip Time</th>\n",
              "      <th>Speed Km/Hr</th>\n",
              "      <th>Pace min/km</th>\n",
              "      <th>Distance Km</th>\n",
              "      <th>Rank_Total</th>\n",
              "      <th>Gender_Rank_Total</th>\n",
              "    </tr>\n",
              "  </thead>\n",
              "  <tbody>\n",
              "    <tr>\n",
              "      <th>0</th>\n",
              "      <td>46</td>\n",
              "      <td>1</td>\n",
              "      <td>Female</td>\n",
              "      <td>10KM RUN</td>\n",
              "      <td>SA</td>\n",
              "      <td>0 days 00:42:59.556000</td>\n",
              "      <td>0 days 00:42:57.505000</td>\n",
              "      <td>13.9</td>\n",
              "      <td>4.17</td>\n",
              "      <td>10.0</td>\n",
              "      <td>2285</td>\n",
              "      <td>761</td>\n",
              "    </tr>\n",
              "    <tr>\n",
              "      <th>1</th>\n",
              "      <td>53</td>\n",
              "      <td>2</td>\n",
              "      <td>Female</td>\n",
              "      <td>10KM RUN</td>\n",
              "      <td>CZ</td>\n",
              "      <td>0 days 00:43:28.175000</td>\n",
              "      <td>0 days 00:43:24.774000</td>\n",
              "      <td>13.8</td>\n",
              "      <td>4.20</td>\n",
              "      <td>10.0</td>\n",
              "      <td>2285</td>\n",
              "      <td>761</td>\n",
              "    </tr>\n",
              "    <tr>\n",
              "      <th>2</th>\n",
              "      <td>55</td>\n",
              "      <td>3</td>\n",
              "      <td>Female</td>\n",
              "      <td>10KM RUN</td>\n",
              "      <td>SA</td>\n",
              "      <td>0 days 00:44:00.251000</td>\n",
              "      <td>0 days 00:43:56.317000</td>\n",
              "      <td>13.6</td>\n",
              "      <td>4.23</td>\n",
              "      <td>10.0</td>\n",
              "      <td>2285</td>\n",
              "      <td>761</td>\n",
              "    </tr>\n",
              "    <tr>\n",
              "      <th>3</th>\n",
              "      <td>88</td>\n",
              "      <td>4</td>\n",
              "      <td>Female</td>\n",
              "      <td>10KM RUN</td>\n",
              "      <td>MA</td>\n",
              "      <td>0 days 00:48:28.115000</td>\n",
              "      <td>0 days 00:48:22.908000</td>\n",
              "      <td>12.4</td>\n",
              "      <td>4.50</td>\n",
              "      <td>10.0</td>\n",
              "      <td>2285</td>\n",
              "      <td>761</td>\n",
              "    </tr>\n",
              "    <tr>\n",
              "      <th>4</th>\n",
              "      <td>93</td>\n",
              "      <td>5</td>\n",
              "      <td>Female</td>\n",
              "      <td>10KM RUN</td>\n",
              "      <td>SA</td>\n",
              "      <td>0 days 00:58:37.753000</td>\n",
              "      <td>0 days 00:48:27.714000</td>\n",
              "      <td>12.3</td>\n",
              "      <td>4.50</td>\n",
              "      <td>10.0</td>\n",
              "      <td>2285</td>\n",
              "      <td>761</td>\n",
              "    </tr>\n",
              "    <tr>\n",
              "      <th>...</th>\n",
              "      <td>...</td>\n",
              "      <td>...</td>\n",
              "      <td>...</td>\n",
              "      <td>...</td>\n",
              "      <td>...</td>\n",
              "      <td>...</td>\n",
              "      <td>...</td>\n",
              "      <td>...</td>\n",
              "      <td>...</td>\n",
              "      <td>...</td>\n",
              "      <td>...</td>\n",
              "      <td>...</td>\n",
              "    </tr>\n",
              "    <tr>\n",
              "      <th>6392</th>\n",
              "      <td>5</td>\n",
              "      <td>2</td>\n",
              "      <td>Female</td>\n",
              "      <td>HALF MARATHON ELITE</td>\n",
              "      <td>ET</td>\n",
              "      <td>0 days 01:12:12.475000</td>\n",
              "      <td>0 days 01:12:08.442000</td>\n",
              "      <td>17.5</td>\n",
              "      <td>3.25</td>\n",
              "      <td>21.1</td>\n",
              "      <td>6</td>\n",
              "      <td>3</td>\n",
              "    </tr>\n",
              "    <tr>\n",
              "      <th>6393</th>\n",
              "      <td>6</td>\n",
              "      <td>3</td>\n",
              "      <td>Female</td>\n",
              "      <td>HALF MARATHON ELITE</td>\n",
              "      <td>UA</td>\n",
              "      <td>0 days 01:18:23.645000</td>\n",
              "      <td>0 days 01:18:20.056000</td>\n",
              "      <td>16.1</td>\n",
              "      <td>3.42</td>\n",
              "      <td>21.1</td>\n",
              "      <td>6</td>\n",
              "      <td>3</td>\n",
              "    </tr>\n",
              "    <tr>\n",
              "      <th>6394</th>\n",
              "      <td>1</td>\n",
              "      <td>1</td>\n",
              "      <td>Male</td>\n",
              "      <td>HALF MARATHON ELITE</td>\n",
              "      <td>KE</td>\n",
              "      <td>0 days 01:04:04.250000</td>\n",
              "      <td>0 days 01:04:00.497000</td>\n",
              "      <td>19.7</td>\n",
              "      <td>3.02</td>\n",
              "      <td>21.1</td>\n",
              "      <td>6</td>\n",
              "      <td>3</td>\n",
              "    </tr>\n",
              "    <tr>\n",
              "      <th>6395</th>\n",
              "      <td>2</td>\n",
              "      <td>2</td>\n",
              "      <td>Male</td>\n",
              "      <td>HALF MARATHON ELITE</td>\n",
              "      <td>KE</td>\n",
              "      <td>0 days 01:04:06.571000</td>\n",
              "      <td>0 days 01:04:03.202000</td>\n",
              "      <td>19.7</td>\n",
              "      <td>3.02</td>\n",
              "      <td>21.1</td>\n",
              "      <td>6</td>\n",
              "      <td>3</td>\n",
              "    </tr>\n",
              "    <tr>\n",
              "      <th>6396</th>\n",
              "      <td>3</td>\n",
              "      <td>3</td>\n",
              "      <td>Male</td>\n",
              "      <td>HALF MARATHON ELITE</td>\n",
              "      <td>KE</td>\n",
              "      <td>0 days 01:04:09.986000</td>\n",
              "      <td>0 days 01:04:06.290000</td>\n",
              "      <td>19.7</td>\n",
              "      <td>3.02</td>\n",
              "      <td>21.1</td>\n",
              "      <td>6</td>\n",
              "      <td>3</td>\n",
              "    </tr>\n",
              "  </tbody>\n",
              "</table>\n",
              "<p>6227 rows × 12 columns</p>\n",
              "</div>\n",
              "    <div class=\"colab-df-buttons\">\n",
              "\n",
              "  <div class=\"colab-df-container\">\n",
              "    <button class=\"colab-df-convert\" onclick=\"convertToInteractive('df-a4422c03-caa0-4943-839b-b4eadaedcee0')\"\n",
              "            title=\"Convert this dataframe to an interactive table.\"\n",
              "            style=\"display:none;\">\n",
              "\n",
              "  <svg xmlns=\"http://www.w3.org/2000/svg\" height=\"24px\" viewBox=\"0 -960 960 960\">\n",
              "    <path d=\"M120-120v-720h720v720H120Zm60-500h600v-160H180v160Zm220 220h160v-160H400v160Zm0 220h160v-160H400v160ZM180-400h160v-160H180v160Zm440 0h160v-160H620v160ZM180-180h160v-160H180v160Zm440 0h160v-160H620v160Z\"/>\n",
              "  </svg>\n",
              "    </button>\n",
              "\n",
              "  <style>\n",
              "    .colab-df-container {\n",
              "      display:flex;\n",
              "      gap: 12px;\n",
              "    }\n",
              "\n",
              "    .colab-df-convert {\n",
              "      background-color: #E8F0FE;\n",
              "      border: none;\n",
              "      border-radius: 50%;\n",
              "      cursor: pointer;\n",
              "      display: none;\n",
              "      fill: #1967D2;\n",
              "      height: 32px;\n",
              "      padding: 0 0 0 0;\n",
              "      width: 32px;\n",
              "    }\n",
              "\n",
              "    .colab-df-convert:hover {\n",
              "      background-color: #E2EBFA;\n",
              "      box-shadow: 0px 1px 2px rgba(60, 64, 67, 0.3), 0px 1px 3px 1px rgba(60, 64, 67, 0.15);\n",
              "      fill: #174EA6;\n",
              "    }\n",
              "\n",
              "    .colab-df-buttons div {\n",
              "      margin-bottom: 4px;\n",
              "    }\n",
              "\n",
              "    [theme=dark] .colab-df-convert {\n",
              "      background-color: #3B4455;\n",
              "      fill: #D2E3FC;\n",
              "    }\n",
              "\n",
              "    [theme=dark] .colab-df-convert:hover {\n",
              "      background-color: #434B5C;\n",
              "      box-shadow: 0px 1px 3px 1px rgba(0, 0, 0, 0.15);\n",
              "      filter: drop-shadow(0px 1px 2px rgba(0, 0, 0, 0.3));\n",
              "      fill: #FFFFFF;\n",
              "    }\n",
              "  </style>\n",
              "\n",
              "    <script>\n",
              "      const buttonEl =\n",
              "        document.querySelector('#df-a4422c03-caa0-4943-839b-b4eadaedcee0 button.colab-df-convert');\n",
              "      buttonEl.style.display =\n",
              "        google.colab.kernel.accessAllowed ? 'block' : 'none';\n",
              "\n",
              "      async function convertToInteractive(key) {\n",
              "        const element = document.querySelector('#df-a4422c03-caa0-4943-839b-b4eadaedcee0');\n",
              "        const dataTable =\n",
              "          await google.colab.kernel.invokeFunction('convertToInteractive',\n",
              "                                                    [key], {});\n",
              "        if (!dataTable) return;\n",
              "\n",
              "        const docLinkHtml = 'Like what you see? Visit the ' +\n",
              "          '<a target=\"_blank\" href=https://colab.research.google.com/notebooks/data_table.ipynb>data table notebook</a>'\n",
              "          + ' to learn more about interactive tables.';\n",
              "        element.innerHTML = '';\n",
              "        dataTable['output_type'] = 'display_data';\n",
              "        await google.colab.output.renderOutput(dataTable, element);\n",
              "        const docLink = document.createElement('div');\n",
              "        docLink.innerHTML = docLinkHtml;\n",
              "        element.appendChild(docLink);\n",
              "      }\n",
              "    </script>\n",
              "  </div>\n",
              "\n",
              "\n",
              "<div id=\"df-c4e4af90-e4dc-4d20-b5e6-fd4ebd102c5c\">\n",
              "  <button class=\"colab-df-quickchart\" onclick=\"quickchart('df-c4e4af90-e4dc-4d20-b5e6-fd4ebd102c5c')\"\n",
              "            title=\"Suggest charts\"\n",
              "            style=\"display:none;\">\n",
              "\n",
              "<svg xmlns=\"http://www.w3.org/2000/svg\" height=\"24px\"viewBox=\"0 0 24 24\"\n",
              "     width=\"24px\">\n",
              "    <g>\n",
              "        <path d=\"M19 3H5c-1.1 0-2 .9-2 2v14c0 1.1.9 2 2 2h14c1.1 0 2-.9 2-2V5c0-1.1-.9-2-2-2zM9 17H7v-7h2v7zm4 0h-2V7h2v10zm4 0h-2v-4h2v4z\"/>\n",
              "    </g>\n",
              "</svg>\n",
              "  </button>\n",
              "\n",
              "<style>\n",
              "  .colab-df-quickchart {\n",
              "      --bg-color: #E8F0FE;\n",
              "      --fill-color: #1967D2;\n",
              "      --hover-bg-color: #E2EBFA;\n",
              "      --hover-fill-color: #174EA6;\n",
              "      --disabled-fill-color: #AAA;\n",
              "      --disabled-bg-color: #DDD;\n",
              "  }\n",
              "\n",
              "  [theme=dark] .colab-df-quickchart {\n",
              "      --bg-color: #3B4455;\n",
              "      --fill-color: #D2E3FC;\n",
              "      --hover-bg-color: #434B5C;\n",
              "      --hover-fill-color: #FFFFFF;\n",
              "      --disabled-bg-color: #3B4455;\n",
              "      --disabled-fill-color: #666;\n",
              "  }\n",
              "\n",
              "  .colab-df-quickchart {\n",
              "    background-color: var(--bg-color);\n",
              "    border: none;\n",
              "    border-radius: 50%;\n",
              "    cursor: pointer;\n",
              "    display: none;\n",
              "    fill: var(--fill-color);\n",
              "    height: 32px;\n",
              "    padding: 0;\n",
              "    width: 32px;\n",
              "  }\n",
              "\n",
              "  .colab-df-quickchart:hover {\n",
              "    background-color: var(--hover-bg-color);\n",
              "    box-shadow: 0 1px 2px rgba(60, 64, 67, 0.3), 0 1px 3px 1px rgba(60, 64, 67, 0.15);\n",
              "    fill: var(--button-hover-fill-color);\n",
              "  }\n",
              "\n",
              "  .colab-df-quickchart-complete:disabled,\n",
              "  .colab-df-quickchart-complete:disabled:hover {\n",
              "    background-color: var(--disabled-bg-color);\n",
              "    fill: var(--disabled-fill-color);\n",
              "    box-shadow: none;\n",
              "  }\n",
              "\n",
              "  .colab-df-spinner {\n",
              "    border: 2px solid var(--fill-color);\n",
              "    border-color: transparent;\n",
              "    border-bottom-color: var(--fill-color);\n",
              "    animation:\n",
              "      spin 1s steps(1) infinite;\n",
              "  }\n",
              "\n",
              "  @keyframes spin {\n",
              "    0% {\n",
              "      border-color: transparent;\n",
              "      border-bottom-color: var(--fill-color);\n",
              "      border-left-color: var(--fill-color);\n",
              "    }\n",
              "    20% {\n",
              "      border-color: transparent;\n",
              "      border-left-color: var(--fill-color);\n",
              "      border-top-color: var(--fill-color);\n",
              "    }\n",
              "    30% {\n",
              "      border-color: transparent;\n",
              "      border-left-color: var(--fill-color);\n",
              "      border-top-color: var(--fill-color);\n",
              "      border-right-color: var(--fill-color);\n",
              "    }\n",
              "    40% {\n",
              "      border-color: transparent;\n",
              "      border-right-color: var(--fill-color);\n",
              "      border-top-color: var(--fill-color);\n",
              "    }\n",
              "    60% {\n",
              "      border-color: transparent;\n",
              "      border-right-color: var(--fill-color);\n",
              "    }\n",
              "    80% {\n",
              "      border-color: transparent;\n",
              "      border-right-color: var(--fill-color);\n",
              "      border-bottom-color: var(--fill-color);\n",
              "    }\n",
              "    90% {\n",
              "      border-color: transparent;\n",
              "      border-bottom-color: var(--fill-color);\n",
              "    }\n",
              "  }\n",
              "</style>\n",
              "\n",
              "  <script>\n",
              "    async function quickchart(key) {\n",
              "      const quickchartButtonEl =\n",
              "        document.querySelector('#' + key + ' button');\n",
              "      quickchartButtonEl.disabled = true;  // To prevent multiple clicks.\n",
              "      quickchartButtonEl.classList.add('colab-df-spinner');\n",
              "      try {\n",
              "        const charts = await google.colab.kernel.invokeFunction(\n",
              "            'suggestCharts', [key], {});\n",
              "      } catch (error) {\n",
              "        console.error('Error during call to suggestCharts:', error);\n",
              "      }\n",
              "      quickchartButtonEl.classList.remove('colab-df-spinner');\n",
              "      quickchartButtonEl.classList.add('colab-df-quickchart-complete');\n",
              "    }\n",
              "    (() => {\n",
              "      let quickchartButtonEl =\n",
              "        document.querySelector('#df-c4e4af90-e4dc-4d20-b5e6-fd4ebd102c5c button');\n",
              "      quickchartButtonEl.style.display =\n",
              "        google.colab.kernel.accessAllowed ? 'block' : 'none';\n",
              "    })();\n",
              "  </script>\n",
              "</div>\n",
              "\n",
              "  <div id=\"id_a74b8b88-79d9-4968-8748-6c9724dddd7c\">\n",
              "    <style>\n",
              "      .colab-df-generate {\n",
              "        background-color: #E8F0FE;\n",
              "        border: none;\n",
              "        border-radius: 50%;\n",
              "        cursor: pointer;\n",
              "        display: none;\n",
              "        fill: #1967D2;\n",
              "        height: 32px;\n",
              "        padding: 0 0 0 0;\n",
              "        width: 32px;\n",
              "      }\n",
              "\n",
              "      .colab-df-generate:hover {\n",
              "        background-color: #E2EBFA;\n",
              "        box-shadow: 0px 1px 2px rgba(60, 64, 67, 0.3), 0px 1px 3px 1px rgba(60, 64, 67, 0.15);\n",
              "        fill: #174EA6;\n",
              "      }\n",
              "\n",
              "      [theme=dark] .colab-df-generate {\n",
              "        background-color: #3B4455;\n",
              "        fill: #D2E3FC;\n",
              "      }\n",
              "\n",
              "      [theme=dark] .colab-df-generate:hover {\n",
              "        background-color: #434B5C;\n",
              "        box-shadow: 0px 1px 3px 1px rgba(0, 0, 0, 0.15);\n",
              "        filter: drop-shadow(0px 1px 2px rgba(0, 0, 0, 0.3));\n",
              "        fill: #FFFFFF;\n",
              "      }\n",
              "    </style>\n",
              "    <button class=\"colab-df-generate\" onclick=\"generateWithVariable('Marathon_df')\"\n",
              "            title=\"Generate code using this dataframe.\"\n",
              "            style=\"display:none;\">\n",
              "\n",
              "  <svg xmlns=\"http://www.w3.org/2000/svg\" height=\"24px\"viewBox=\"0 0 24 24\"\n",
              "       width=\"24px\">\n",
              "    <path d=\"M7,19H8.4L18.45,9,17,7.55,7,17.6ZM5,21V16.75L18.45,3.32a2,2,0,0,1,2.83,0l1.4,1.43a1.91,1.91,0,0,1,.58,1.4,1.91,1.91,0,0,1-.58,1.4L9.25,21ZM18.45,9,17,7.55Zm-12,3A5.31,5.31,0,0,0,4.9,8.1,5.31,5.31,0,0,0,1,6.5,5.31,5.31,0,0,0,4.9,4.9,5.31,5.31,0,0,0,6.5,1,5.31,5.31,0,0,0,8.1,4.9,5.31,5.31,0,0,0,12,6.5,5.46,5.46,0,0,0,6.5,12Z\"/>\n",
              "  </svg>\n",
              "    </button>\n",
              "    <script>\n",
              "      (() => {\n",
              "      const buttonEl =\n",
              "        document.querySelector('#id_a74b8b88-79d9-4968-8748-6c9724dddd7c button.colab-df-generate');\n",
              "      buttonEl.style.display =\n",
              "        google.colab.kernel.accessAllowed ? 'block' : 'none';\n",
              "\n",
              "      buttonEl.onclick = () => {\n",
              "        google.colab.notebook.generateWithVariable('Marathon_df');\n",
              "      }\n",
              "      })();\n",
              "    </script>\n",
              "  </div>\n",
              "\n",
              "    </div>\n",
              "  </div>\n"
            ],
            "application/vnd.google.colaboratory.intrinsic+json": {
              "type": "dataframe",
              "variable_name": "Marathon_df",
              "summary": "{\n  \"name\": \"Marathon_df\",\n  \"rows\": 6227,\n  \"fields\": [\n    {\n      \"column\": \"Rank\",\n      \"properties\": {\n        \"dtype\": \"number\",\n        \"std\": 664,\n        \"min\": 0,\n        \"max\": 2285,\n        \"num_unique_values\": 2286,\n        \"samples\": [\n          898,\n          511,\n          909\n        ],\n        \"semantic_type\": \"\",\n        \"description\": \"\"\n      }\n    },\n    {\n      \"column\": \"Gender Rank\",\n      \"properties\": {\n        \"dtype\": \"number\",\n        \"std\": 378,\n        \"min\": 0,\n        \"max\": 1524,\n        \"num_unique_values\": 1525,\n        \"samples\": [\n          782,\n          77,\n          1009\n        ],\n        \"semantic_type\": \"\",\n        \"description\": \"\"\n      }\n    },\n    {\n      \"column\": \"Gender\",\n      \"properties\": {\n        \"dtype\": \"category\",\n        \"num_unique_values\": 2,\n        \"samples\": [\n          \"Male\",\n          \"Female\"\n        ],\n        \"semantic_type\": \"\",\n        \"description\": \"\"\n      }\n    },\n    {\n      \"column\": \"Category\",\n      \"properties\": {\n        \"dtype\": \"category\",\n        \"num_unique_values\": 6,\n        \"samples\": [\n          \"10KM RUN\",\n          \"4KM FUN RUN\"\n        ],\n        \"semantic_type\": \"\",\n        \"description\": \"\"\n      }\n    },\n    {\n      \"column\": \"Nationality\",\n      \"properties\": {\n        \"dtype\": \"category\",\n        \"num_unique_values\": 86,\n        \"samples\": [\n          \"XK\",\n          \"SA\"\n        ],\n        \"semantic_type\": \"\",\n        \"description\": \"\"\n      }\n    },\n    {\n      \"column\": \"Gun Time\",\n      \"properties\": {\n        \"dtype\": \"timedelta64[ns]\",\n        \"num_unique_values\": 6213,\n        \"samples\": [\n          \"0 days 01:59:33.785000\",\n          \"0 days 01:57:29.899000\"\n        ],\n        \"semantic_type\": \"\",\n        \"description\": \"\"\n      }\n    },\n    {\n      \"column\": \"Chip Time\",\n      \"properties\": {\n        \"dtype\": \"timedelta64[ns]\",\n        \"num_unique_values\": 6223,\n        \"samples\": [\n          \"0 days 01:11:06.122000\",\n          \"0 days 01:35:33.671000\"\n        ],\n        \"semantic_type\": \"\",\n        \"description\": \"\"\n      }\n    },\n    {\n      \"column\": \"Speed Km/Hr\",\n      \"properties\": {\n        \"dtype\": \"number\",\n        \"std\": 2.738633008294815,\n        \"min\": 2.1,\n        \"max\": 33.1,\n        \"num_unique_values\": 182,\n        \"samples\": [\n          10.0,\n          7.7\n        ],\n        \"semantic_type\": \"\",\n        \"description\": \"\"\n      }\n    },\n    {\n      \"column\": \"Pace min/km\",\n      \"properties\": {\n        \"dtype\": \"number\",\n        \"std\": 2.9799046036197145,\n        \"min\": 1.48,\n        \"max\": 27.56,\n        \"num_unique_values\": 817,\n        \"samples\": [\n          9.16,\n          6.19\n        ],\n        \"semantic_type\": \"\",\n        \"description\": \"\"\n      }\n    },\n    {\n      \"column\": \"Distance Km\",\n      \"properties\": {\n        \"dtype\": \"number\",\n        \"std\": 10.566072120812937,\n        \"min\": 4.0,\n        \"max\": 42.2,\n        \"num_unique_values\": 4,\n        \"samples\": [\n          4.0,\n          42.2\n        ],\n        \"semantic_type\": \"\",\n        \"description\": \"\"\n      }\n    },\n    {\n      \"column\": \"Rank_Total\",\n      \"properties\": {\n        \"dtype\": \"number\",\n        \"std\": 681,\n        \"min\": 0,\n        \"max\": 2285,\n        \"num_unique_values\": 7,\n        \"samples\": [\n          2285,\n          0\n        ],\n        \"semantic_type\": \"\",\n        \"description\": \"\"\n      }\n    },\n    {\n      \"column\": \"Gender_Rank_Total\",\n      \"properties\": {\n        \"dtype\": \"number\",\n        \"std\": 411,\n        \"min\": 0,\n        \"max\": 1524,\n        \"num_unique_values\": 12,\n        \"samples\": [\n          10,\n          8\n        ],\n        \"semantic_type\": \"\",\n        \"description\": \"\"\n      }\n    }\n  ]\n}"
            }
          },
          "metadata": {},
          "execution_count": 256
        }
      ]
    },
    {
      "cell_type": "markdown",
      "id": "5ecc7dbb-6867-44cf-8f99-1b969a80be40",
      "metadata": {
        "id": "5ecc7dbb-6867-44cf-8f99-1b969a80be40"
      },
      "source": [
        "### Dealing with outliers:"
      ]
    },
    {
      "cell_type": "markdown",
      "id": "88347887-4bdf-48af-9486-cb8fe80c97af",
      "metadata": {
        "id": "88347887-4bdf-48af-9486-cb8fe80c97af"
      },
      "source": [
        "**How to remove Outliers?**\n",
        "Most of the ways to deal with outliers are similar to the methods of missing values like deleting rows, transforming them, binning them, treat them as a separate group, imputing values and other statistical methods. Here, we will discuss the common techniques used to deal with outliers:\n",
        "\n",
        "1. Deleting rows: We delete outlier values if it is due to data entry error, data processing error or outlier rows are very small in numbers. We can also use trimming at both ends to remove outliers.\n",
        "\n",
        "2. Imputing: Like imputation of missing values, we can also impute outliers. We can use mean, median, mode imputation methods. Before imputing values, we should analyse if it is natural outlier or artificial. If it is artificial, we can go with imputing values. We can also use statistical model to predict values of outlier rows and after that we can impute it with predicted values.\n",
        "\n",
        "3. Treat separately: If there are significant number of outliers, we should treat them separately in the statistical model. One of the approach is to treat both groups as two different groups and build individual model for both groups and then combine the output.\n"
      ]
    },
    {
      "cell_type": "code",
      "source": [
        "Marathon_df.describe()"
      ],
      "metadata": {
        "colab": {
          "base_uri": "https://localhost:8080/",
          "height": 439
        },
        "id": "66NCgyLOC2dm",
        "outputId": "bb1d00af-f02f-43c3-95cc-ddfd5948dfd7"
      },
      "id": "66NCgyLOC2dm",
      "execution_count": 257,
      "outputs": [
        {
          "output_type": "execute_result",
          "data": {
            "text/plain": [
              "              Rank  Gender Rank                   Gun Time  \\\n",
              "count  6227.000000  6227.000000                       6227   \n",
              "mean    928.820299   510.986510  0 days 01:40:26.067858679   \n",
              "std     664.997260   378.504283  0 days 01:13:11.546034299   \n",
              "min       0.000000     0.000000     0 days 00:12:52.781000   \n",
              "25%     334.500000   185.000000     0 days 00:48:06.457500   \n",
              "50%     840.000000   460.000000     0 days 01:16:01.507000   \n",
              "75%    1474.500000   774.000000     0 days 02:09:54.523000   \n",
              "max    2285.000000  1524.000000     0 days 06:20:21.380000   \n",
              "\n",
              "                       Chip Time  Speed Km/Hr  Pace min/km  Distance Km  \\\n",
              "count                       6227  6227.000000  6227.000000  6227.000000   \n",
              "mean   0 days 01:34:00.664645254     7.809571     8.340540    12.464461   \n",
              "std    0 days 01:08:47.363020329     2.738633     2.979905    10.566072   \n",
              "min       0 days 00:12:52.781000     2.100000     1.480000     4.000000   \n",
              "25%       0 days 00:45:33.614000     5.800000     6.260000     4.000000   \n",
              "50%       0 days 01:12:38.800000     7.400000     8.000000    10.000000   \n",
              "75%       0 days 01:57:57.833000     9.300000    10.120000    21.100000   \n",
              "max       0 days 06:14:05.366000    33.100000    27.560000    42.200000   \n",
              "\n",
              "        Rank_Total  Gender_Rank_Total  \n",
              "count  6227.000000        6227.000000  \n",
              "mean   1856.672234        1021.004657  \n",
              "std     681.637586         411.210106  \n",
              "min       0.000000           0.000000  \n",
              "25%    1128.000000         761.000000  \n",
              "50%    2220.000000        1038.000000  \n",
              "75%    2285.000000        1182.000000  \n",
              "max    2285.000000        1524.000000  "
            ],
            "text/html": [
              "\n",
              "  <div id=\"df-4aaeff35-71a8-4904-9c79-35f78d015473\" class=\"colab-df-container\">\n",
              "    <div>\n",
              "<style scoped>\n",
              "    .dataframe tbody tr th:only-of-type {\n",
              "        vertical-align: middle;\n",
              "    }\n",
              "\n",
              "    .dataframe tbody tr th {\n",
              "        vertical-align: top;\n",
              "    }\n",
              "\n",
              "    .dataframe thead th {\n",
              "        text-align: right;\n",
              "    }\n",
              "</style>\n",
              "<table border=\"1\" class=\"dataframe\">\n",
              "  <thead>\n",
              "    <tr style=\"text-align: right;\">\n",
              "      <th></th>\n",
              "      <th>Rank</th>\n",
              "      <th>Gender Rank</th>\n",
              "      <th>Gun Time</th>\n",
              "      <th>Chip Time</th>\n",
              "      <th>Speed Km/Hr</th>\n",
              "      <th>Pace min/km</th>\n",
              "      <th>Distance Km</th>\n",
              "      <th>Rank_Total</th>\n",
              "      <th>Gender_Rank_Total</th>\n",
              "    </tr>\n",
              "  </thead>\n",
              "  <tbody>\n",
              "    <tr>\n",
              "      <th>count</th>\n",
              "      <td>6227.000000</td>\n",
              "      <td>6227.000000</td>\n",
              "      <td>6227</td>\n",
              "      <td>6227</td>\n",
              "      <td>6227.000000</td>\n",
              "      <td>6227.000000</td>\n",
              "      <td>6227.000000</td>\n",
              "      <td>6227.000000</td>\n",
              "      <td>6227.000000</td>\n",
              "    </tr>\n",
              "    <tr>\n",
              "      <th>mean</th>\n",
              "      <td>928.820299</td>\n",
              "      <td>510.986510</td>\n",
              "      <td>0 days 01:40:26.067858679</td>\n",
              "      <td>0 days 01:34:00.664645254</td>\n",
              "      <td>7.809571</td>\n",
              "      <td>8.340540</td>\n",
              "      <td>12.464461</td>\n",
              "      <td>1856.672234</td>\n",
              "      <td>1021.004657</td>\n",
              "    </tr>\n",
              "    <tr>\n",
              "      <th>std</th>\n",
              "      <td>664.997260</td>\n",
              "      <td>378.504283</td>\n",
              "      <td>0 days 01:13:11.546034299</td>\n",
              "      <td>0 days 01:08:47.363020329</td>\n",
              "      <td>2.738633</td>\n",
              "      <td>2.979905</td>\n",
              "      <td>10.566072</td>\n",
              "      <td>681.637586</td>\n",
              "      <td>411.210106</td>\n",
              "    </tr>\n",
              "    <tr>\n",
              "      <th>min</th>\n",
              "      <td>0.000000</td>\n",
              "      <td>0.000000</td>\n",
              "      <td>0 days 00:12:52.781000</td>\n",
              "      <td>0 days 00:12:52.781000</td>\n",
              "      <td>2.100000</td>\n",
              "      <td>1.480000</td>\n",
              "      <td>4.000000</td>\n",
              "      <td>0.000000</td>\n",
              "      <td>0.000000</td>\n",
              "    </tr>\n",
              "    <tr>\n",
              "      <th>25%</th>\n",
              "      <td>334.500000</td>\n",
              "      <td>185.000000</td>\n",
              "      <td>0 days 00:48:06.457500</td>\n",
              "      <td>0 days 00:45:33.614000</td>\n",
              "      <td>5.800000</td>\n",
              "      <td>6.260000</td>\n",
              "      <td>4.000000</td>\n",
              "      <td>1128.000000</td>\n",
              "      <td>761.000000</td>\n",
              "    </tr>\n",
              "    <tr>\n",
              "      <th>50%</th>\n",
              "      <td>840.000000</td>\n",
              "      <td>460.000000</td>\n",
              "      <td>0 days 01:16:01.507000</td>\n",
              "      <td>0 days 01:12:38.800000</td>\n",
              "      <td>7.400000</td>\n",
              "      <td>8.000000</td>\n",
              "      <td>10.000000</td>\n",
              "      <td>2220.000000</td>\n",
              "      <td>1038.000000</td>\n",
              "    </tr>\n",
              "    <tr>\n",
              "      <th>75%</th>\n",
              "      <td>1474.500000</td>\n",
              "      <td>774.000000</td>\n",
              "      <td>0 days 02:09:54.523000</td>\n",
              "      <td>0 days 01:57:57.833000</td>\n",
              "      <td>9.300000</td>\n",
              "      <td>10.120000</td>\n",
              "      <td>21.100000</td>\n",
              "      <td>2285.000000</td>\n",
              "      <td>1182.000000</td>\n",
              "    </tr>\n",
              "    <tr>\n",
              "      <th>max</th>\n",
              "      <td>2285.000000</td>\n",
              "      <td>1524.000000</td>\n",
              "      <td>0 days 06:20:21.380000</td>\n",
              "      <td>0 days 06:14:05.366000</td>\n",
              "      <td>33.100000</td>\n",
              "      <td>27.560000</td>\n",
              "      <td>42.200000</td>\n",
              "      <td>2285.000000</td>\n",
              "      <td>1524.000000</td>\n",
              "    </tr>\n",
              "  </tbody>\n",
              "</table>\n",
              "</div>\n",
              "    <div class=\"colab-df-buttons\">\n",
              "\n",
              "  <div class=\"colab-df-container\">\n",
              "    <button class=\"colab-df-convert\" onclick=\"convertToInteractive('df-4aaeff35-71a8-4904-9c79-35f78d015473')\"\n",
              "            title=\"Convert this dataframe to an interactive table.\"\n",
              "            style=\"display:none;\">\n",
              "\n",
              "  <svg xmlns=\"http://www.w3.org/2000/svg\" height=\"24px\" viewBox=\"0 -960 960 960\">\n",
              "    <path d=\"M120-120v-720h720v720H120Zm60-500h600v-160H180v160Zm220 220h160v-160H400v160Zm0 220h160v-160H400v160ZM180-400h160v-160H180v160Zm440 0h160v-160H620v160ZM180-180h160v-160H180v160Zm440 0h160v-160H620v160Z\"/>\n",
              "  </svg>\n",
              "    </button>\n",
              "\n",
              "  <style>\n",
              "    .colab-df-container {\n",
              "      display:flex;\n",
              "      gap: 12px;\n",
              "    }\n",
              "\n",
              "    .colab-df-convert {\n",
              "      background-color: #E8F0FE;\n",
              "      border: none;\n",
              "      border-radius: 50%;\n",
              "      cursor: pointer;\n",
              "      display: none;\n",
              "      fill: #1967D2;\n",
              "      height: 32px;\n",
              "      padding: 0 0 0 0;\n",
              "      width: 32px;\n",
              "    }\n",
              "\n",
              "    .colab-df-convert:hover {\n",
              "      background-color: #E2EBFA;\n",
              "      box-shadow: 0px 1px 2px rgba(60, 64, 67, 0.3), 0px 1px 3px 1px rgba(60, 64, 67, 0.15);\n",
              "      fill: #174EA6;\n",
              "    }\n",
              "\n",
              "    .colab-df-buttons div {\n",
              "      margin-bottom: 4px;\n",
              "    }\n",
              "\n",
              "    [theme=dark] .colab-df-convert {\n",
              "      background-color: #3B4455;\n",
              "      fill: #D2E3FC;\n",
              "    }\n",
              "\n",
              "    [theme=dark] .colab-df-convert:hover {\n",
              "      background-color: #434B5C;\n",
              "      box-shadow: 0px 1px 3px 1px rgba(0, 0, 0, 0.15);\n",
              "      filter: drop-shadow(0px 1px 2px rgba(0, 0, 0, 0.3));\n",
              "      fill: #FFFFFF;\n",
              "    }\n",
              "  </style>\n",
              "\n",
              "    <script>\n",
              "      const buttonEl =\n",
              "        document.querySelector('#df-4aaeff35-71a8-4904-9c79-35f78d015473 button.colab-df-convert');\n",
              "      buttonEl.style.display =\n",
              "        google.colab.kernel.accessAllowed ? 'block' : 'none';\n",
              "\n",
              "      async function convertToInteractive(key) {\n",
              "        const element = document.querySelector('#df-4aaeff35-71a8-4904-9c79-35f78d015473');\n",
              "        const dataTable =\n",
              "          await google.colab.kernel.invokeFunction('convertToInteractive',\n",
              "                                                    [key], {});\n",
              "        if (!dataTable) return;\n",
              "\n",
              "        const docLinkHtml = 'Like what you see? Visit the ' +\n",
              "          '<a target=\"_blank\" href=https://colab.research.google.com/notebooks/data_table.ipynb>data table notebook</a>'\n",
              "          + ' to learn more about interactive tables.';\n",
              "        element.innerHTML = '';\n",
              "        dataTable['output_type'] = 'display_data';\n",
              "        await google.colab.output.renderOutput(dataTable, element);\n",
              "        const docLink = document.createElement('div');\n",
              "        docLink.innerHTML = docLinkHtml;\n",
              "        element.appendChild(docLink);\n",
              "      }\n",
              "    </script>\n",
              "  </div>\n",
              "\n",
              "\n",
              "<div id=\"df-d54d1787-f32e-48e6-b4e4-1f6fe782b3a4\">\n",
              "  <button class=\"colab-df-quickchart\" onclick=\"quickchart('df-d54d1787-f32e-48e6-b4e4-1f6fe782b3a4')\"\n",
              "            title=\"Suggest charts\"\n",
              "            style=\"display:none;\">\n",
              "\n",
              "<svg xmlns=\"http://www.w3.org/2000/svg\" height=\"24px\"viewBox=\"0 0 24 24\"\n",
              "     width=\"24px\">\n",
              "    <g>\n",
              "        <path d=\"M19 3H5c-1.1 0-2 .9-2 2v14c0 1.1.9 2 2 2h14c1.1 0 2-.9 2-2V5c0-1.1-.9-2-2-2zM9 17H7v-7h2v7zm4 0h-2V7h2v10zm4 0h-2v-4h2v4z\"/>\n",
              "    </g>\n",
              "</svg>\n",
              "  </button>\n",
              "\n",
              "<style>\n",
              "  .colab-df-quickchart {\n",
              "      --bg-color: #E8F0FE;\n",
              "      --fill-color: #1967D2;\n",
              "      --hover-bg-color: #E2EBFA;\n",
              "      --hover-fill-color: #174EA6;\n",
              "      --disabled-fill-color: #AAA;\n",
              "      --disabled-bg-color: #DDD;\n",
              "  }\n",
              "\n",
              "  [theme=dark] .colab-df-quickchart {\n",
              "      --bg-color: #3B4455;\n",
              "      --fill-color: #D2E3FC;\n",
              "      --hover-bg-color: #434B5C;\n",
              "      --hover-fill-color: #FFFFFF;\n",
              "      --disabled-bg-color: #3B4455;\n",
              "      --disabled-fill-color: #666;\n",
              "  }\n",
              "\n",
              "  .colab-df-quickchart {\n",
              "    background-color: var(--bg-color);\n",
              "    border: none;\n",
              "    border-radius: 50%;\n",
              "    cursor: pointer;\n",
              "    display: none;\n",
              "    fill: var(--fill-color);\n",
              "    height: 32px;\n",
              "    padding: 0;\n",
              "    width: 32px;\n",
              "  }\n",
              "\n",
              "  .colab-df-quickchart:hover {\n",
              "    background-color: var(--hover-bg-color);\n",
              "    box-shadow: 0 1px 2px rgba(60, 64, 67, 0.3), 0 1px 3px 1px rgba(60, 64, 67, 0.15);\n",
              "    fill: var(--button-hover-fill-color);\n",
              "  }\n",
              "\n",
              "  .colab-df-quickchart-complete:disabled,\n",
              "  .colab-df-quickchart-complete:disabled:hover {\n",
              "    background-color: var(--disabled-bg-color);\n",
              "    fill: var(--disabled-fill-color);\n",
              "    box-shadow: none;\n",
              "  }\n",
              "\n",
              "  .colab-df-spinner {\n",
              "    border: 2px solid var(--fill-color);\n",
              "    border-color: transparent;\n",
              "    border-bottom-color: var(--fill-color);\n",
              "    animation:\n",
              "      spin 1s steps(1) infinite;\n",
              "  }\n",
              "\n",
              "  @keyframes spin {\n",
              "    0% {\n",
              "      border-color: transparent;\n",
              "      border-bottom-color: var(--fill-color);\n",
              "      border-left-color: var(--fill-color);\n",
              "    }\n",
              "    20% {\n",
              "      border-color: transparent;\n",
              "      border-left-color: var(--fill-color);\n",
              "      border-top-color: var(--fill-color);\n",
              "    }\n",
              "    30% {\n",
              "      border-color: transparent;\n",
              "      border-left-color: var(--fill-color);\n",
              "      border-top-color: var(--fill-color);\n",
              "      border-right-color: var(--fill-color);\n",
              "    }\n",
              "    40% {\n",
              "      border-color: transparent;\n",
              "      border-right-color: var(--fill-color);\n",
              "      border-top-color: var(--fill-color);\n",
              "    }\n",
              "    60% {\n",
              "      border-color: transparent;\n",
              "      border-right-color: var(--fill-color);\n",
              "    }\n",
              "    80% {\n",
              "      border-color: transparent;\n",
              "      border-right-color: var(--fill-color);\n",
              "      border-bottom-color: var(--fill-color);\n",
              "    }\n",
              "    90% {\n",
              "      border-color: transparent;\n",
              "      border-bottom-color: var(--fill-color);\n",
              "    }\n",
              "  }\n",
              "</style>\n",
              "\n",
              "  <script>\n",
              "    async function quickchart(key) {\n",
              "      const quickchartButtonEl =\n",
              "        document.querySelector('#' + key + ' button');\n",
              "      quickchartButtonEl.disabled = true;  // To prevent multiple clicks.\n",
              "      quickchartButtonEl.classList.add('colab-df-spinner');\n",
              "      try {\n",
              "        const charts = await google.colab.kernel.invokeFunction(\n",
              "            'suggestCharts', [key], {});\n",
              "      } catch (error) {\n",
              "        console.error('Error during call to suggestCharts:', error);\n",
              "      }\n",
              "      quickchartButtonEl.classList.remove('colab-df-spinner');\n",
              "      quickchartButtonEl.classList.add('colab-df-quickchart-complete');\n",
              "    }\n",
              "    (() => {\n",
              "      let quickchartButtonEl =\n",
              "        document.querySelector('#df-d54d1787-f32e-48e6-b4e4-1f6fe782b3a4 button');\n",
              "      quickchartButtonEl.style.display =\n",
              "        google.colab.kernel.accessAllowed ? 'block' : 'none';\n",
              "    })();\n",
              "  </script>\n",
              "</div>\n",
              "\n",
              "    </div>\n",
              "  </div>\n"
            ],
            "application/vnd.google.colaboratory.intrinsic+json": {
              "type": "dataframe",
              "summary": "{\n  \"name\": \"Marathon_df\",\n  \"rows\": 8,\n  \"fields\": [\n    {\n      \"column\": \"Rank\",\n      \"properties\": {\n        \"dtype\": \"number\",\n        \"std\": 1998.4869860355097,\n        \"min\": 0.0,\n        \"max\": 6227.0,\n        \"num_unique_values\": 8,\n        \"samples\": [\n          928.8202986992131,\n          840.0,\n          6227.0\n        ],\n        \"semantic_type\": \"\",\n        \"description\": \"\"\n      }\n    },\n    {\n      \"column\": \"Gender Rank\",\n      \"properties\": {\n        \"dtype\": \"number\",\n        \"std\": 2059.7575907136884,\n        \"min\": 0.0,\n        \"max\": 6227.0,\n        \"num_unique_values\": 8,\n        \"samples\": [\n          510.98651035811787,\n          460.0,\n          6227.0\n        ],\n        \"semantic_type\": \"\",\n        \"description\": \"\"\n      }\n    },\n    {\n      \"column\": \"Gun Time\",\n      \"properties\": {\n        \"dtype\": \"string\",\n        \"num_unique_values\": 8,\n        \"samples\": [\n          \"0 days 01:40:26.067858679\",\n          \"0 days 01:16:01.507000\",\n          \"6227\"\n        ],\n        \"semantic_type\": \"\",\n        \"description\": \"\"\n      }\n    },\n    {\n      \"column\": \"Chip Time\",\n      \"properties\": {\n        \"dtype\": \"string\",\n        \"num_unique_values\": 8,\n        \"samples\": [\n          \"0 days 01:34:00.664645254\",\n          \"0 days 01:12:38.800000\",\n          \"6227\"\n        ],\n        \"semantic_type\": \"\",\n        \"description\": \"\"\n      }\n    },\n    {\n      \"column\": \"Speed Km/Hr\",\n      \"properties\": {\n        \"dtype\": \"number\",\n        \"std\": 2198.1519398740775,\n        \"min\": 2.1,\n        \"max\": 6227.0,\n        \"num_unique_values\": 8,\n        \"samples\": [\n          7.8095712220973175,\n          7.4,\n          6227.0\n        ],\n        \"semantic_type\": \"\",\n        \"description\": \"\"\n      }\n    },\n    {\n      \"column\": \"Pace min/km\",\n      \"properties\": {\n        \"dtype\": \"number\",\n        \"std\": 2198.3216020832515,\n        \"min\": 1.48,\n        \"max\": 6227.0,\n        \"num_unique_values\": 8,\n        \"samples\": [\n          8.340539585675286,\n          8.0,\n          6227.0\n        ],\n        \"semantic_type\": \"\",\n        \"description\": \"\"\n      }\n    },\n    {\n      \"column\": \"Distance Km\",\n      \"properties\": {\n        \"dtype\": \"number\",\n        \"std\": 2196.3422763565045,\n        \"min\": 4.0,\n        \"max\": 6227.0,\n        \"num_unique_values\": 7,\n        \"samples\": [\n          6227.0,\n          12.464461217279586,\n          21.1\n        ],\n        \"semantic_type\": \"\",\n        \"description\": \"\"\n      }\n    },\n    {\n      \"column\": \"Rank_Total\",\n      \"properties\": {\n        \"dtype\": \"number\",\n        \"std\": 1872.317939470875,\n        \"min\": 0.0,\n        \"max\": 6227.0,\n        \"num_unique_values\": 7,\n        \"samples\": [\n          6227.0,\n          1856.6722338204593,\n          2220.0\n        ],\n        \"semantic_type\": \"\",\n        \"description\": \"\"\n      }\n    },\n    {\n      \"column\": \"Gender_Rank_Total\",\n      \"properties\": {\n        \"dtype\": \"number\",\n        \"std\": 1959.1296595351284,\n        \"min\": 0.0,\n        \"max\": 6227.0,\n        \"num_unique_values\": 8,\n        \"samples\": [\n          1021.0046571382688,\n          1038.0,\n          6227.0\n        ],\n        \"semantic_type\": \"\",\n        \"description\": \"\"\n      }\n    }\n  ]\n}"
            }
          },
          "metadata": {},
          "execution_count": 257
        }
      ]
    },
    {
      "cell_type": "code",
      "source": [
        "Marathon_df.drop(Marathon_df[Marathon_df['Speed Km/Hr'] > 21].index, inplace=True)"
      ],
      "metadata": {
        "id": "OV1lq9uEFQ_6"
      },
      "id": "OV1lq9uEFQ_6",
      "execution_count": 258,
      "outputs": []
    },
    {
      "cell_type": "code",
      "source": [
        "pace_outliers = Marathon_df['Pace min/km'].quantile(0.95)\n",
        "\n",
        "Marathon_df.drop(Marathon_df[Marathon_df['Pace min/km'] > pace_outliers].index, inplace=True)"
      ],
      "metadata": {
        "id": "DcsjF33BHva0"
      },
      "id": "DcsjF33BHva0",
      "execution_count": 259,
      "outputs": []
    },
    {
      "cell_type": "code",
      "source": [
        "# z score\n",
        "\n",
        "#Marathon_df['speed_z_score'] = zscore(Marathon_df['Speed Km/Hr'])\n",
        "\n",
        "# Filter the DataFrame to remove outliers\n",
        "#Marathon_df[(Marathon_df['speed_z_score'] > 3) | (Marathon_df['speed_z_score'] < -3)].shape\n",
        "#Marathon_df = Marathon_df[(Marathon_df['speed_z_score'] <= 3) & (Marathon_df['speed_z_score'] >= -3)]"
      ],
      "metadata": {
        "id": "g-XgyDeQd8PG"
      },
      "id": "g-XgyDeQd8PG",
      "execution_count": 260,
      "outputs": []
    },
    {
      "cell_type": "code",
      "source": [],
      "metadata": {
        "id": "ClGoHMzDWBF6"
      },
      "id": "ClGoHMzDWBF6",
      "execution_count": 261,
      "outputs": []
    },
    {
      "cell_type": "markdown",
      "source": [
        "###drop duplicate"
      ],
      "metadata": {
        "id": "HN-dB3ZRs9jM"
      },
      "id": "HN-dB3ZRs9jM"
    },
    {
      "cell_type": "code",
      "source": [
        "Marathon_df.drop_duplicates(inplace=True)"
      ],
      "metadata": {
        "id": "usNHnXxSs0os"
      },
      "id": "usNHnXxSs0os",
      "execution_count": 262,
      "outputs": []
    },
    {
      "cell_type": "markdown",
      "id": "98548b66-e309-4eb8-a5dc-65fe0abbf1e8",
      "metadata": {
        "id": "98548b66-e309-4eb8-a5dc-65fe0abbf1e8"
      },
      "source": [
        "## 3. Univariate Analysis:\n",
        "\n",
        "This involves examining single variables to understand their characteristics (distribution, central tendency, dispersion, and shape).\n",
        "\n",
        "We calculate **numerical values** about the data that tells us about the distribution of the data. We also **draw graphs** showing visually how the data is distributed. **To answer the following questions about Features/characteristics of Data:**\n",
        "- Where is the center of the data? (location)\n",
        "- How much does the data vary? (scale)\n",
        "- What is the shape of the data? (shape)\n",
        "\n",
        "**The benefits of this analysis:**\n",
        "Statistics summary gives a high-level idea to identify whether the data has any outliers, data entry error, distribution of data such as the data is normally distributed or left/right skewed\n",
        "\n",
        "**In this step, we will explore variables one by one using following approaches:**"
      ]
    },
    {
      "cell_type": "markdown",
      "id": "d6718111-7ac2-4fff-9851-654655b62e0b",
      "metadata": {
        "id": "d6718111-7ac2-4fff-9851-654655b62e0b"
      },
      "source": [
        "### 1. Univariate Graphical Analysis:\n",
        "Method to perform uni-variate analysis will depend on whether the variable type is categorical or numerical."
      ]
    },
    {
      "cell_type": "code",
      "execution_count": 263,
      "id": "db79d803-b75c-4686-a623-e8420321a90f",
      "metadata": {
        "colab": {
          "base_uri": "https://localhost:8080/"
        },
        "id": "db79d803-b75c-4686-a623-e8420321a90f",
        "outputId": "66169928-f6ad-4e88-f41f-664203de62a9"
      },
      "outputs": [
        {
          "output_type": "stream",
          "name": "stdout",
          "text": [
            "<class 'pandas.core.frame.DataFrame'>\n",
            "Index: 5907 entries, 0 to 6396\n",
            "Data columns (total 12 columns):\n",
            " #   Column             Non-Null Count  Dtype          \n",
            "---  ------             --------------  -----          \n",
            " 0   Rank               5907 non-null   int64          \n",
            " 1   Gender Rank        5907 non-null   int64          \n",
            " 2   Gender             5907 non-null   category       \n",
            " 3   Category           5907 non-null   category       \n",
            " 4   Nationality        5907 non-null   category       \n",
            " 5   Gun Time           5907 non-null   timedelta64[ns]\n",
            " 6   Chip Time          5907 non-null   timedelta64[ns]\n",
            " 7   Speed Km/Hr        5907 non-null   float64        \n",
            " 8   Pace min/km        5907 non-null   float64        \n",
            " 9   Distance Km        5907 non-null   float64        \n",
            " 10  Rank_Total         5907 non-null   int64          \n",
            " 11  Gender_Rank_Total  5907 non-null   int64          \n",
            "dtypes: category(3), float64(3), int64(4), timedelta64[ns](2)\n",
            "memory usage: 481.9 KB\n"
          ]
        }
      ],
      "source": [
        "Marathon_df.info()"
      ]
    },
    {
      "cell_type": "markdown",
      "id": "0d57c4b9-9bb3-494d-85dd-b8d39afda139",
      "metadata": {
        "id": "0d57c4b9-9bb3-494d-85dd-b8d39afda139"
      },
      "source": [
        "#### I. Categorical Variables:\n",
        "\n",
        "we’ll use frequency table to understand distribution of each category\n",
        "- Bar Chart (Ordinal) - Orderd\n",
        "- Pie Chart (Nominal) - non Orderd"
      ]
    },
    {
      "cell_type": "code",
      "source": [
        "plt.figure(figsize=(13,5))\n",
        "plt.bar(Marathon_df['Category'].value_counts().index, Marathon_df['Category'].value_counts());"
      ],
      "metadata": {
        "colab": {
          "base_uri": "https://localhost:8080/",
          "height": 445
        },
        "id": "Pg8jIr8-zHIf",
        "outputId": "d7a6787e-1d0e-4235-d7e7-70510f7023e1"
      },
      "id": "Pg8jIr8-zHIf",
      "execution_count": 264,
      "outputs": [
        {
          "output_type": "display_data",
          "data": {
            "text/plain": [
              "<Figure size 1300x500 with 1 Axes>"
            ],
            "image/png": "[encoded data removed]"
          },
          "metadata": {}
        }
      ]
    },
    {
      "cell_type": "markdown",
      "id": "d2641f0d-80f2-493b-99b7-15476379a1e2",
      "metadata": {
        "id": "d2641f0d-80f2-493b-99b7-15476379a1e2"
      },
      "source": [
        "#### II. Numerical Variables:\n",
        "\n",
        "we need to understand the central tendency and spread of the variable (Descriptive Analysis) using:\n",
        "   - Box plot\n",
        "   - Histogram"
      ]
    },
    {
      "cell_type": "code",
      "source": [
        "Marathon_df.boxplot(column='Speed Km/Hr')"
      ],
      "metadata": {
        "colab": {
          "base_uri": "https://localhost:8080/",
          "height": 447
        },
        "id": "kV2KcHtRC3_3",
        "outputId": "b50c7dbc-ca29-4569-d5c8-76bfb520e6c9"
      },
      "id": "kV2KcHtRC3_3",
      "execution_count": 265,
      "outputs": [
        {
          "output_type": "execute_result",
          "data": {
            "text/plain": [
              "<Axes: >"
            ]
          },
          "metadata": {},
          "execution_count": 265
        },
        {
          "output_type": "display_data",
          "data": {
            "text/plain": [
              "<Figure size 640x480 with 1 Axes>"
            ],
            "image/png": "[encoded data removed]"
          },
          "metadata": {}
        }
      ]
    },
    {
      "cell_type": "code",
      "execution_count": 266,
      "id": "5be16f08-a072-4a02-a3ee-6f9d57786fb4",
      "metadata": {
        "colab": {
          "base_uri": "https://localhost:8080/",
          "height": 452
        },
        "id": "5be16f08-a072-4a02-a3ee-6f9d57786fb4",
        "outputId": "d5812cc4-fc4d-41b7-c80b-66a5b5c239f2"
      },
      "outputs": [
        {
          "output_type": "execute_result",
          "data": {
            "text/plain": [
              "<Axes: >"
            ]
          },
          "metadata": {},
          "execution_count": 266
        },
        {
          "output_type": "display_data",
          "data": {
            "text/plain": [
              "<Figure size 640x480 with 1 Axes>"
            ],
            "image/png": "[encoded data removed]"
          },
          "metadata": {}
        }
      ],
      "source": [
        "Marathon_df.boxplot(column='Pace min/km')"
      ]
    },
    {
      "cell_type": "code",
      "source": [
        "plt.boxplot(Marathon_df['Gun Time'].dt.total_seconds(), vert=False);"
      ],
      "metadata": {
        "colab": {
          "base_uri": "https://localhost:8080/",
          "height": 430
        },
        "id": "ueyw_6dY0MH8",
        "outputId": "13b383fd-ff0a-4154-d2c1-d2c93a97e86f"
      },
      "id": "ueyw_6dY0MH8",
      "execution_count": 267,
      "outputs": [
        {
          "output_type": "display_data",
          "data": {
            "text/plain": [
              "<Figure size 640x480 with 1 Axes>"
            ],
            "image/png": "[encoded data removed]"
          },
          "metadata": {}
        }
      ]
    },
    {
      "cell_type": "code",
      "source": [
        "plt.boxplot(Marathon_df['Chip Time'].dt.total_seconds(), vert=False);"
      ],
      "metadata": {
        "colab": {
          "base_uri": "https://localhost:8080/",
          "height": 430
        },
        "id": "Ud784iP60SPK",
        "outputId": "8a01efc7-aac7-4ffe-a1cf-a31818869c4f"
      },
      "id": "Ud784iP60SPK",
      "execution_count": 268,
      "outputs": [
        {
          "output_type": "display_data",
          "data": {
            "text/plain": [
              "<Figure size 640x480 with 1 Axes>"
            ],
            "image/png": "[encoded data removed]"
          },
          "metadata": {}
        }
      ]
    },
    {
      "cell_type": "code",
      "source": [
        "Marathon_df['Time_Difference'] = Marathon_df['Gun Time'] - Marathon_df['Chip Time']\n",
        "Marathon_df['Time_Difference'].describe()"
      ],
      "metadata": {
        "colab": {
          "base_uri": "https://localhost:8080/"
        },
        "id": "0_PFuqCH0u-r",
        "outputId": "1c173454-92d2-4d02-b1fa-fa81253580cb"
      },
      "id": "0_PFuqCH0u-r",
      "execution_count": 269,
      "outputs": [
        {
          "output_type": "execute_result",
          "data": {
            "text/plain": [
              "count                         5907\n",
              "mean     0 days 00:06:37.641082105\n",
              "std      0 days 00:08:12.835952621\n",
              "min                0 days 00:00:00\n",
              "25%         0 days 00:00:48.027500\n",
              "50%         0 days 00:02:17.734000\n",
              "75%         0 days 00:12:16.946500\n",
              "max         0 days 00:44:08.749000\n",
              "Name: Time_Difference, dtype: object"
            ]
          },
          "metadata": {},
          "execution_count": 269
        }
      ]
    },
    {
      "cell_type": "code",
      "source": [
        "\n",
        "plt.boxplot(Marathon_df['Time_Difference'].dt.total_seconds(), vert=False);"
      ],
      "metadata": {
        "colab": {
          "base_uri": "https://localhost:8080/",
          "height": 430
        },
        "id": "oa2akIdz0gGN",
        "outputId": "a7837465-6c10-4504-e305-6ac9fc3f4cf6"
      },
      "id": "oa2akIdz0gGN",
      "execution_count": 270,
      "outputs": [
        {
          "output_type": "display_data",
          "data": {
            "text/plain": [
              "<Figure size 640x480 with 1 Axes>"
            ],
            "image/png": "[encoded data removed]"
          },
          "metadata": {}
        }
      ]
    },
    {
      "cell_type": "markdown",
      "id": "d66677d3-44ad-414f-9b39-f9c1995ad043",
      "metadata": {
        "id": "d66677d3-44ad-414f-9b39-f9c1995ad043"
      },
      "source": [
        "### 2. Univariate Non-Graphical analysis:\n",
        "\n",
        "- Where is the center of the data? (location) --> **Measures of central tendency**\n",
        "- How much does the data vary? (scale) --> **Measure of variability**\n",
        "- What is the shape of the data? (shape) --> **Measures of variation combined with an average (measure of center) gives a good picture of the distribution of the data.**"
      ]
    },
    {
      "cell_type": "code",
      "execution_count": 270,
      "id": "f1058d84-e61e-4f5b-b66a-29931e77821b",
      "metadata": {
        "id": "f1058d84-e61e-4f5b-b66a-29931e77821b"
      },
      "outputs": [],
      "source": []
    },
    {
      "cell_type": "markdown",
      "id": "f09bb809-0edd-432b-bf23-abd0840b3e16",
      "metadata": {
        "id": "f09bb809-0edd-432b-bf23-abd0840b3e16"
      },
      "source": [
        "## 4. Bivariate/Multivariate Analysis:\n",
        "\n",
        "Here, you look at the relationships between two or more variables. This can involve looking for correlations, patterns, and trends that suggest a relationship or an association.\n",
        "\n",
        "We can perform bi-variate analysis for any combination of categorical and numerical variables. The combination can be:\n",
        "| bi-variate variables   | Plot type |\n",
        "| ------------- | ------------- |\n",
        "| Categorical & Categorical| Stacked Bar Chart |\n",
        "| Categorical & numerical  | scatter plot, histogram, box plot|\n",
        "| numerical  & numerical  | Scatter plot, line chart|\n",
        "\n",
        "\n",
        "Multivariate Analysis:\n",
        "- Heat map\n",
        "- Bar Chart\n",
        "- Scatter Chart\n",
        "- Line Chart"
      ]
    },
    {
      "cell_type": "markdown",
      "id": "838f2864-ce9e-4f15-99c8-052d053154a7",
      "metadata": {
        "id": "838f2864-ce9e-4f15-99c8-052d053154a7"
      },
      "source": [
        "**Categorical & Categorical --> (Stacked Column Chart)**"
      ]
    },
    {
      "cell_type": "code",
      "execution_count": 270,
      "id": "73f9f2ac-8477-49ea-9c68-4fe44d4395b6",
      "metadata": {
        "id": "73f9f2ac-8477-49ea-9c68-4fe44d4395b6"
      },
      "outputs": [],
      "source": []
    },
    {
      "cell_type": "markdown",
      "id": "730e088f-fe13-40da-8fbb-686f5135fa4d",
      "metadata": {
        "id": "730e088f-fe13-40da-8fbb-686f5135fa4d"
      },
      "source": [
        "**Categorical & numerical --> (scatter plot, histogram, box plot)**"
      ]
    },
    {
      "cell_type": "code",
      "execution_count": 270,
      "id": "3590e345-2051-4215-91ac-07d196b510ef",
      "metadata": {
        "id": "3590e345-2051-4215-91ac-07d196b510ef"
      },
      "outputs": [],
      "source": []
    },
    {
      "cell_type": "markdown",
      "id": "20aed48d-b78e-46da-963f-e7f15e2f4dc7",
      "metadata": {
        "id": "20aed48d-b78e-46da-963f-e7f15e2f4dc7"
      },
      "source": [
        "**numerical & numerical --> (Scatter plot, line chart)**"
      ]
    },
    {
      "cell_type": "code",
      "execution_count": 270,
      "id": "41023177-01cb-4f39-a750-12be71b13bda",
      "metadata": {
        "id": "41023177-01cb-4f39-a750-12be71b13bda"
      },
      "outputs": [],
      "source": []
    },
    {
      "cell_type": "code",
      "execution_count": 271,
      "id": "72ece4b7-5508-403a-8fb0-f519fc74272a",
      "metadata": {
        "colab": {
          "base_uri": "https://localhost:8080/",
          "height": 430
        },
        "id": "72ece4b7-5508-403a-8fb0-f519fc74272a",
        "outputId": "7f46452d-3cf0-4e1b-ba63-c5025d880329"
      },
      "outputs": [
        {
          "output_type": "display_data",
          "data": {
            "text/plain": [
              "<Figure size 640x480 with 2 Axes>"
            ],
            "image/png": "[encoded data removed]"
          },
          "metadata": {}
        }
      ],
      "source": [
        "#In the Kingdom, which gender shows more interest in participating in the marathon\n",
        "plt.subplot(1,2,1)\n",
        "plt.bar(Marathon_df['Gender'].value_counts().index, Marathon_df['Gender'].value_counts())\n",
        "plt.subplot(1,2,2)\n",
        "plt.pie(Marathon_df['Gender'].value_counts(), labels=Marathon_df['Gender'].value_counts().index);"
      ]
    },
    {
      "cell_type": "markdown",
      "id": "efb43b30-b1f0-48a4-a19c-195810cc8a0f",
      "metadata": {
        "id": "efb43b30-b1f0-48a4-a19c-195810cc8a0f"
      },
      "source": [
        "We could also use a correlation matrix to get more specific information about the relationship between these two variables."
      ]
    },
    {
      "cell_type": "code",
      "source": [
        "#and which is more likely to secure the top positions?\n",
        "df1 = Marathon_df.sort_values(by=['Category', 'Rank'])\n",
        "df1 = df1[df1['Rank'] != 0]\n",
        "df1 = df1.groupby('Category').head(10).reset_index(drop=True)\n",
        "plt.figure(figsize=(13,5))\n",
        "sns.barplot(x='Category', y='Rank', hue='Gender', data=df1)\n"
      ],
      "metadata": {
        "colab": {
          "base_uri": "https://localhost:8080/",
          "height": 482
        },
        "id": "EoOWRgTOYrUS",
        "outputId": "83c3907f-02e2-4a6c-cc39-3dacdaae73e3"
      },
      "id": "EoOWRgTOYrUS",
      "execution_count": 278,
      "outputs": [
        {
          "output_type": "execute_result",
          "data": {
            "text/plain": [
              "<Axes: xlabel='Category', ylabel='Rank'>"
            ]
          },
          "metadata": {},
          "execution_count": 278
        },
        {
          "output_type": "display_data",
          "data": {
            "text/plain": [
              "<Figure size 1300x500 with 1 Axes>"
            ],
            "image/png": "[encoded data removed]"
          },
          "metadata": {}
        }
      ]
    },
    {
      "cell_type": "code",
      "source": [
        "Marathon_df.nsmallest(5, 'Chip Time')"
      ],
      "metadata": {
        "colab": {
          "base_uri": "https://localhost:8080/",
          "height": 330
        },
        "id": "7FAgria9TJZW",
        "outputId": "1c9899ac-f18e-4b74-b5c9-a00fa60a1b22"
      },
      "id": "7FAgria9TJZW",
      "execution_count": 273,
      "outputs": [
        {
          "output_type": "execute_result",
          "data": {
            "text/plain": [
              "      Rank  Gender Rank  Gender     Category Nationality  \\\n",
              "3438     0            0  Female  4KM FUN RUN          SA   \n",
              "3443     1            1    Male  4KM FUN RUN          JO   \n",
              "3444     2            2    Male  4KM FUN RUN          SA   \n",
              "3445     3            3    Male  4KM FUN RUN          BH   \n",
              "3439     0            0  Female  4KM FUN RUN          SA   \n",
              "\n",
              "                   Gun Time              Chip Time  Speed Km/Hr  Pace min/km  \\\n",
              "3438 0 days 00:12:52.781000 0 days 00:12:52.781000         18.6         3.13   \n",
              "3443 0 days 00:13:18.041000 0 days 00:13:09.399000         18.2         3.17   \n",
              "3444 0 days 00:13:28.502000 0 days 00:13:20.591000         17.9         3.20   \n",
              "3445 0 days 00:13:44.113000 0 days 00:13:32.247000         17.7         3.23   \n",
              "3439 0 days 00:13:33.321000 0 days 00:13:33.321000         17.7         3.23   \n",
              "\n",
              "      Distance Km  Rank_Total  Gender_Rank_Total        Time_Difference  \n",
              "3438          4.0           0                  0        0 days 00:00:00  \n",
              "3443          4.0        2220               1182 0 days 00:00:08.642000  \n",
              "3444          4.0        2220               1182 0 days 00:00:07.911000  \n",
              "3445          4.0        2220               1182 0 days 00:00:11.866000  \n",
              "3439          4.0           0                  0        0 days 00:00:00  "
            ],
            "text/html": [
              "\n",
              "  <div id=\"df-0ea327d1-d4f3-4a65-944b-916f338b928a\" class=\"colab-df-container\">\n",
              "    <div>\n",
              "<style scoped>\n",
              "    .dataframe tbody tr th:only-of-type {\n",
              "        vertical-align: middle;\n",
              "    }\n",
              "\n",
              "    .dataframe tbody tr th {\n",
              "        vertical-align: top;\n",
              "    }\n",
              "\n",
              "    .dataframe thead th {\n",
              "        text-align: right;\n",
              "    }\n",
              "</style>\n",
              "<table border=\"1\" class=\"dataframe\">\n",
              "  <thead>\n",
              "    <tr style=\"text-align: right;\">\n",
              "      <th></th>\n",
              "      <th>Rank</th>\n",
              "      <th>Gender Rank</th>\n",
              "      <th>Gender</th>\n",
              "      <th>Category</th>\n",
              "      <th>Nationality</th>\n",
              "      <th>Gun Time</th>\n",
              "      <th>Chip Time</th>\n",
              "      <th>Speed Km/Hr</th>\n",
              "      <th>Pace min/km</th>\n",
              "      <th>Distance Km</th>\n",
              "      <th>Rank_Total</th>\n",
              "      <th>Gender_Rank_Total</th>\n",
              "      <th>Time_Difference</th>\n",
              "    </tr>\n",
              "  </thead>\n",
              "  <tbody>\n",
              "    <tr>\n",
              "      <th>3438</th>\n",
              "      <td>0</td>\n",
              "      <td>0</td>\n",
              "      <td>Female</td>\n",
              "      <td>4KM FUN RUN</td>\n",
              "      <td>SA</td>\n",
              "      <td>0 days 00:12:52.781000</td>\n",
              "      <td>0 days 00:12:52.781000</td>\n",
              "      <td>18.6</td>\n",
              "      <td>3.13</td>\n",
              "      <td>4.0</td>\n",
              "      <td>0</td>\n",
              "      <td>0</td>\n",
              "      <td>0 days 00:00:00</td>\n",
              "    </tr>\n",
              "    <tr>\n",
              "      <th>3443</th>\n",
              "      <td>1</td>\n",
              "      <td>1</td>\n",
              "      <td>Male</td>\n",
              "      <td>4KM FUN RUN</td>\n",
              "      <td>JO</td>\n",
              "      <td>0 days 00:13:18.041000</td>\n",
              "      <td>0 days 00:13:09.399000</td>\n",
              "      <td>18.2</td>\n",
              "      <td>3.17</td>\n",
              "      <td>4.0</td>\n",
              "      <td>2220</td>\n",
              "      <td>1182</td>\n",
              "      <td>0 days 00:00:08.642000</td>\n",
              "    </tr>\n",
              "    <tr>\n",
              "      <th>3444</th>\n",
              "      <td>2</td>\n",
              "      <td>2</td>\n",
              "      <td>Male</td>\n",
              "      <td>4KM FUN RUN</td>\n",
              "      <td>SA</td>\n",
              "      <td>0 days 00:13:28.502000</td>\n",
              "      <td>0 days 00:13:20.591000</td>\n",
              "      <td>17.9</td>\n",
              "      <td>3.20</td>\n",
              "      <td>4.0</td>\n",
              "      <td>2220</td>\n",
              "      <td>1182</td>\n",
              "      <td>0 days 00:00:07.911000</td>\n",
              "    </tr>\n",
              "    <tr>\n",
              "      <th>3445</th>\n",
              "      <td>3</td>\n",
              "      <td>3</td>\n",
              "      <td>Male</td>\n",
              "      <td>4KM FUN RUN</td>\n",
              "      <td>BH</td>\n",
              "      <td>0 days 00:13:44.113000</td>\n",
              "      <td>0 days 00:13:32.247000</td>\n",
              "      <td>17.7</td>\n",
              "      <td>3.23</td>\n",
              "      <td>4.0</td>\n",
              "      <td>2220</td>\n",
              "      <td>1182</td>\n",
              "      <td>0 days 00:00:11.866000</td>\n",
              "    </tr>\n",
              "    <tr>\n",
              "      <th>3439</th>\n",
              "      <td>0</td>\n",
              "      <td>0</td>\n",
              "      <td>Female</td>\n",
              "      <td>4KM FUN RUN</td>\n",
              "      <td>SA</td>\n",
              "      <td>0 days 00:13:33.321000</td>\n",
              "      <td>0 days 00:13:33.321000</td>\n",
              "      <td>17.7</td>\n",
              "      <td>3.23</td>\n",
              "      <td>4.0</td>\n",
              "      <td>0</td>\n",
              "      <td>0</td>\n",
              "      <td>0 days 00:00:00</td>\n",
              "    </tr>\n",
              "  </tbody>\n",
              "</table>\n",
              "</div>\n",
              "    <div class=\"colab-df-buttons\">\n",
              "\n",
              "  <div class=\"colab-df-container\">\n",
              "    <button class=\"colab-df-convert\" onclick=\"convertToInteractive('df-0ea327d1-d4f3-4a65-944b-916f338b928a')\"\n",
              "            title=\"Convert this dataframe to an interactive table.\"\n",
              "            style=\"display:none;\">\n",
              "\n",
              "  <svg xmlns=\"http://www.w3.org/2000/svg\" height=\"24px\" viewBox=\"0 -960 960 960\">\n",
              "    <path d=\"M120-120v-720h720v720H120Zm60-500h600v-160H180v160Zm220 220h160v-160H400v160Zm0 220h160v-160H400v160ZM180-400h160v-160H180v160Zm440 0h160v-160H620v160ZM180-180h160v-160H180v160Zm440 0h160v-160H620v160Z\"/>\n",
              "  </svg>\n",
              "    </button>\n",
              "\n",
              "  <style>\n",
              "    .colab-df-container {\n",
              "      display:flex;\n",
              "      gap: 12px;\n",
              "    }\n",
              "\n",
              "    .colab-df-convert {\n",
              "      background-color: #E8F0FE;\n",
              "      border: none;\n",
              "      border-radius: 50%;\n",
              "      cursor: pointer;\n",
              "      display: none;\n",
              "      fill: #1967D2;\n",
              "      height: 32px;\n",
              "      padding: 0 0 0 0;\n",
              "      width: 32px;\n",
              "    }\n",
              "\n",
              "    .colab-df-convert:hover {\n",
              "      background-color: #E2EBFA;\n",
              "      box-shadow: 0px 1px 2px rgba(60, 64, 67, 0.3), 0px 1px 3px 1px rgba(60, 64, 67, 0.15);\n",
              "      fill: #174EA6;\n",
              "    }\n",
              "\n",
              "    .colab-df-buttons div {\n",
              "      margin-bottom: 4px;\n",
              "    }\n",
              "\n",
              "    [theme=dark] .colab-df-convert {\n",
              "      background-color: #3B4455;\n",
              "      fill: #D2E3FC;\n",
              "    }\n",
              "\n",
              "    [theme=dark] .colab-df-convert:hover {\n",
              "      background-color: #434B5C;\n",
              "      box-shadow: 0px 1px 3px 1px rgba(0, 0, 0, 0.15);\n",
              "      filter: drop-shadow(0px 1px 2px rgba(0, 0, 0, 0.3));\n",
              "      fill: #FFFFFF;\n",
              "    }\n",
              "  </style>\n",
              "\n",
              "    <script>\n",
              "      const buttonEl =\n",
              "        document.querySelector('#df-0ea327d1-d4f3-4a65-944b-916f338b928a button.colab-df-convert');\n",
              "      buttonEl.style.display =\n",
              "        google.colab.kernel.accessAllowed ? 'block' : 'none';\n",
              "\n",
              "      async function convertToInteractive(key) {\n",
              "        const element = document.querySelector('#df-0ea327d1-d4f3-4a65-944b-916f338b928a');\n",
              "        const dataTable =\n",
              "          await google.colab.kernel.invokeFunction('convertToInteractive',\n",
              "                                                    [key], {});\n",
              "        if (!dataTable) return;\n",
              "\n",
              "        const docLinkHtml = 'Like what you see? Visit the ' +\n",
              "          '<a target=\"_blank\" href=https://colab.research.google.com/notebooks/data_table.ipynb>data table notebook</a>'\n",
              "          + ' to learn more about interactive tables.';\n",
              "        element.innerHTML = '';\n",
              "        dataTable['output_type'] = 'display_data';\n",
              "        await google.colab.output.renderOutput(dataTable, element);\n",
              "        const docLink = document.createElement('div');\n",
              "        docLink.innerHTML = docLinkHtml;\n",
              "        element.appendChild(docLink);\n",
              "      }\n",
              "    </script>\n",
              "  </div>\n",
              "\n",
              "\n",
              "<div id=\"df-e6cd7f05-4ab8-4877-93d7-265177fe55f4\">\n",
              "  <button class=\"colab-df-quickchart\" onclick=\"quickchart('df-e6cd7f05-4ab8-4877-93d7-265177fe55f4')\"\n",
              "            title=\"Suggest charts\"\n",
              "            style=\"display:none;\">\n",
              "\n",
              "<svg xmlns=\"http://www.w3.org/2000/svg\" height=\"24px\"viewBox=\"0 0 24 24\"\n",
              "     width=\"24px\">\n",
              "    <g>\n",
              "        <path d=\"M19 3H5c-1.1 0-2 .9-2 2v14c0 1.1.9 2 2 2h14c1.1 0 2-.9 2-2V5c0-1.1-.9-2-2-2zM9 17H7v-7h2v7zm4 0h-2V7h2v10zm4 0h-2v-4h2v4z\"/>\n",
              "    </g>\n",
              "</svg>\n",
              "  </button>\n",
              "\n",
              "<style>\n",
              "  .colab-df-quickchart {\n",
              "      --bg-color: #E8F0FE;\n",
              "      --fill-color: #1967D2;\n",
              "      --hover-bg-color: #E2EBFA;\n",
              "      --hover-fill-color: #174EA6;\n",
              "      --disabled-fill-color: #AAA;\n",
              "      --disabled-bg-color: #DDD;\n",
              "  }\n",
              "\n",
              "  [theme=dark] .colab-df-quickchart {\n",
              "      --bg-color: #3B4455;\n",
              "      --fill-color: #D2E3FC;\n",
              "      --hover-bg-color: #434B5C;\n",
              "      --hover-fill-color: #FFFFFF;\n",
              "      --disabled-bg-color: #3B4455;\n",
              "      --disabled-fill-color: #666;\n",
              "  }\n",
              "\n",
              "  .colab-df-quickchart {\n",
              "    background-color: var(--bg-color);\n",
              "    border: none;\n",
              "    border-radius: 50%;\n",
              "    cursor: pointer;\n",
              "    display: none;\n",
              "    fill: var(--fill-color);\n",
              "    height: 32px;\n",
              "    padding: 0;\n",
              "    width: 32px;\n",
              "  }\n",
              "\n",
              "  .colab-df-quickchart:hover {\n",
              "    background-color: var(--hover-bg-color);\n",
              "    box-shadow: 0 1px 2px rgba(60, 64, 67, 0.3), 0 1px 3px 1px rgba(60, 64, 67, 0.15);\n",
              "    fill: var(--button-hover-fill-color);\n",
              "  }\n",
              "\n",
              "  .colab-df-quickchart-complete:disabled,\n",
              "  .colab-df-quickchart-complete:disabled:hover {\n",
              "    background-color: var(--disabled-bg-color);\n",
              "    fill: var(--disabled-fill-color);\n",
              "    box-shadow: none;\n",
              "  }\n",
              "\n",
              "  .colab-df-spinner {\n",
              "    border: 2px solid var(--fill-color);\n",
              "    border-color: transparent;\n",
              "    border-bottom-color: var(--fill-color);\n",
              "    animation:\n",
              "      spin 1s steps(1) infinite;\n",
              "  }\n",
              "\n",
              "  @keyframes spin {\n",
              "    0% {\n",
              "      border-color: transparent;\n",
              "      border-bottom-color: var(--fill-color);\n",
              "      border-left-color: var(--fill-color);\n",
              "    }\n",
              "    20% {\n",
              "      border-color: transparent;\n",
              "      border-left-color: var(--fill-color);\n",
              "      border-top-color: var(--fill-color);\n",
              "    }\n",
              "    30% {\n",
              "      border-color: transparent;\n",
              "      border-left-color: var(--fill-color);\n",
              "      border-top-color: var(--fill-color);\n",
              "      border-right-color: var(--fill-color);\n",
              "    }\n",
              "    40% {\n",
              "      border-color: transparent;\n",
              "      border-right-color: var(--fill-color);\n",
              "      border-top-color: var(--fill-color);\n",
              "    }\n",
              "    60% {\n",
              "      border-color: transparent;\n",
              "      border-right-color: var(--fill-color);\n",
              "    }\n",
              "    80% {\n",
              "      border-color: transparent;\n",
              "      border-right-color: var(--fill-color);\n",
              "      border-bottom-color: var(--fill-color);\n",
              "    }\n",
              "    90% {\n",
              "      border-color: transparent;\n",
              "      border-bottom-color: var(--fill-color);\n",
              "    }\n",
              "  }\n",
              "</style>\n",
              "\n",
              "  <script>\n",
              "    async function quickchart(key) {\n",
              "      const quickchartButtonEl =\n",
              "        document.querySelector('#' + key + ' button');\n",
              "      quickchartButtonEl.disabled = true;  // To prevent multiple clicks.\n",
              "      quickchartButtonEl.classList.add('colab-df-spinner');\n",
              "      try {\n",
              "        const charts = await google.colab.kernel.invokeFunction(\n",
              "            'suggestCharts', [key], {});\n",
              "      } catch (error) {\n",
              "        console.error('Error during call to suggestCharts:', error);\n",
              "      }\n",
              "      quickchartButtonEl.classList.remove('colab-df-spinner');\n",
              "      quickchartButtonEl.classList.add('colab-df-quickchart-complete');\n",
              "    }\n",
              "    (() => {\n",
              "      let quickchartButtonEl =\n",
              "        document.querySelector('#df-e6cd7f05-4ab8-4877-93d7-265177fe55f4 button');\n",
              "      quickchartButtonEl.style.display =\n",
              "        google.colab.kernel.accessAllowed ? 'block' : 'none';\n",
              "    })();\n",
              "  </script>\n",
              "</div>\n",
              "\n",
              "    </div>\n",
              "  </div>\n"
            ],
            "application/vnd.google.colaboratory.intrinsic+json": {
              "type": "dataframe",
              "summary": "{\n  \"name\": \"Marathon_df\",\n  \"rows\": 5,\n  \"fields\": [\n    {\n      \"column\": \"Rank\",\n      \"properties\": {\n        \"dtype\": \"number\",\n        \"std\": 1,\n        \"min\": 0,\n        \"max\": 3,\n        \"num_unique_values\": 4,\n        \"samples\": [\n          1,\n          3,\n          0\n        ],\n        \"semantic_type\": \"\",\n        \"description\": \"\"\n      }\n    },\n    {\n      \"column\": \"Gender Rank\",\n      \"properties\": {\n        \"dtype\": \"number\",\n        \"std\": 1,\n        \"min\": 0,\n        \"max\": 3,\n        \"num_unique_values\": 4,\n        \"samples\": [\n          1,\n          3,\n          0\n        ],\n        \"semantic_type\": \"\",\n        \"description\": \"\"\n      }\n    },\n    {\n      \"column\": \"Gender\",\n      \"properties\": {\n        \"dtype\": \"category\",\n        \"num_unique_values\": 2,\n        \"samples\": [\n          \"Male\",\n          \"Female\"\n        ],\n        \"semantic_type\": \"\",\n        \"description\": \"\"\n      }\n    },\n    {\n      \"column\": \"Category\",\n      \"properties\": {\n        \"dtype\": \"category\",\n        \"num_unique_values\": 1,\n        \"samples\": [\n          \"4KM FUN RUN\"\n        ],\n        \"semantic_type\": \"\",\n        \"description\": \"\"\n      }\n    },\n    {\n      \"column\": \"Nationality\",\n      \"properties\": {\n        \"dtype\": \"category\",\n        \"num_unique_values\": 3,\n        \"samples\": [\n          \"SA\"\n        ],\n        \"semantic_type\": \"\",\n        \"description\": \"\"\n      }\n    },\n    {\n      \"column\": \"Gun Time\",\n      \"properties\": {\n        \"dtype\": \"timedelta64[ns]\",\n        \"num_unique_values\": 5,\n        \"samples\": [\n          \"0 days 00:13:18.041000\"\n        ],\n        \"semantic_type\": \"\",\n        \"description\": \"\"\n      }\n    },\n    {\n      \"column\": \"Chip Time\",\n      \"properties\": {\n        \"dtype\": \"timedelta64[ns]\",\n        \"num_unique_values\": 5,\n        \"samples\": [\n          \"0 days 00:13:09.399000\"\n        ],\n        \"semantic_type\": \"\",\n        \"description\": \"\"\n      }\n    },\n    {\n      \"column\": \"Speed Km/Hr\",\n      \"properties\": {\n        \"dtype\": \"number\",\n        \"std\": 0.38340579025361715,\n        \"min\": 17.7,\n        \"max\": 18.6,\n        \"num_unique_values\": 4,\n        \"samples\": [\n          18.2\n        ],\n        \"semantic_type\": \"\",\n        \"description\": \"\"\n      }\n    },\n    {\n      \"column\": \"Pace min/km\",\n      \"properties\": {\n        \"dtype\": \"number\",\n        \"std\": 0.04266145801540313,\n        \"min\": 3.13,\n        \"max\": 3.23,\n        \"num_unique_values\": 4,\n        \"samples\": [\n          3.17\n        ],\n        \"semantic_type\": \"\",\n        \"description\": \"\"\n      }\n    },\n    {\n      \"column\": \"Distance Km\",\n      \"properties\": {\n        \"dtype\": \"number\",\n        \"std\": 0.0,\n        \"min\": 4.0,\n        \"max\": 4.0,\n        \"num_unique_values\": 1,\n        \"samples\": [\n          4.0\n        ],\n        \"semantic_type\": \"\",\n        \"description\": \"\"\n      }\n    },\n    {\n      \"column\": \"Rank_Total\",\n      \"properties\": {\n        \"dtype\": \"number\",\n        \"std\": 1215,\n        \"min\": 0,\n        \"max\": 2220,\n        \"num_unique_values\": 2,\n        \"samples\": [\n          2220\n        ],\n        \"semantic_type\": \"\",\n        \"description\": \"\"\n      }\n    },\n    {\n      \"column\": \"Gender_Rank_Total\",\n      \"properties\": {\n        \"dtype\": \"number\",\n        \"std\": 647,\n        \"min\": 0,\n        \"max\": 1182,\n        \"num_unique_values\": 2,\n        \"samples\": [\n          1182\n        ],\n        \"semantic_type\": \"\",\n        \"description\": \"\"\n      }\n    },\n    {\n      \"column\": \"Time_Difference\",\n      \"properties\": {\n        \"dtype\": \"timedelta64[ns]\",\n        \"num_unique_values\": 4,\n        \"samples\": [\n          \"0 days 00:00:08.642000\"\n        ],\n        \"semantic_type\": \"\",\n        \"description\": \"\"\n      }\n    }\n  ]\n}"
            }
          },
          "metadata": {},
          "execution_count": 273
        }
      ]
    },
    {
      "cell_type": "code",
      "source": [
        "# z score\n",
        "\n",
        "Marathon_df['speed_z_score'] = zscore(Marathon_df['Speed Km/Hr'])\n",
        "\n",
        "# Filter the DataFrame to remove outliers\n",
        "Marathon_df[(Marathon_df['speed_z_score'] > 3) | (Marathon_df['speed_z_score'] < -3)].shape\n",
        "Marathon_df = Marathon_df[(Marathon_df['speed_z_score'] <= 3) & (Marathon_df['speed_z_score'] >= -3)]"
      ],
      "metadata": {
        "id": "-056YgOzzIRK"
      },
      "id": "-056YgOzzIRK",
      "execution_count": 277,
      "outputs": []
    },
    {
      "cell_type": "code",
      "execution_count": 276,
      "id": "8406f58f-b825-4a15-8f6e-c68ca66bd483",
      "metadata": {
        "colab": {
          "base_uri": "https://localhost:8080/",
          "height": 135
        },
        "id": "8406f58f-b825-4a15-8f6e-c68ca66bd483",
        "outputId": "d562f6cc-5a10-4a33-ea6d-691424446652"
      },
      "outputs": [
        {
          "output_type": "execute_result",
          "data": {
            "text/plain": [
              "    Rank  Gender Rank Gender     Category Nationality               Gun Time  \\\n",
              "10     1            1   Male  4KM FUN RUN          JO 0 days 00:13:18.041000   \n",
              "\n",
              "                Chip Time  Speed Km/Hr  Pace min/km  Distance Km  Rank_Total  \\\n",
              "10 0 days 00:13:09.399000         18.2         3.17          4.0        2220   \n",
              "\n",
              "    Gender_Rank_Total        Time_Difference  \n",
              "10               1182 0 days 00:00:08.642000  "
            ],
            "text/html": [
              "\n",
              "  <div id=\"df-faca51b4-0949-4549-9cb6-741ac912bfd3\" class=\"colab-df-container\">\n",
              "    <div>\n",
              "<style scoped>\n",
              "    .dataframe tbody tr th:only-of-type {\n",
              "        vertical-align: middle;\n",
              "    }\n",
              "\n",
              "    .dataframe tbody tr th {\n",
              "        vertical-align: top;\n",
              "    }\n",
              "\n",
              "    .dataframe thead th {\n",
              "        text-align: right;\n",
              "    }\n",
              "</style>\n",
              "<table border=\"1\" class=\"dataframe\">\n",
              "  <thead>\n",
              "    <tr style=\"text-align: right;\">\n",
              "      <th></th>\n",
              "      <th>Rank</th>\n",
              "      <th>Gender Rank</th>\n",
              "      <th>Gender</th>\n",
              "      <th>Category</th>\n",
              "      <th>Nationality</th>\n",
              "      <th>Gun Time</th>\n",
              "      <th>Chip Time</th>\n",
              "      <th>Speed Km/Hr</th>\n",
              "      <th>Pace min/km</th>\n",
              "      <th>Distance Km</th>\n",
              "      <th>Rank_Total</th>\n",
              "      <th>Gender_Rank_Total</th>\n",
              "      <th>Time_Difference</th>\n",
              "    </tr>\n",
              "  </thead>\n",
              "  <tbody>\n",
              "    <tr>\n",
              "      <th>10</th>\n",
              "      <td>1</td>\n",
              "      <td>1</td>\n",
              "      <td>Male</td>\n",
              "      <td>4KM FUN RUN</td>\n",
              "      <td>JO</td>\n",
              "      <td>0 days 00:13:18.041000</td>\n",
              "      <td>0 days 00:13:09.399000</td>\n",
              "      <td>18.2</td>\n",
              "      <td>3.17</td>\n",
              "      <td>4.0</td>\n",
              "      <td>2220</td>\n",
              "      <td>1182</td>\n",
              "      <td>0 days 00:00:08.642000</td>\n",
              "    </tr>\n",
              "  </tbody>\n",
              "</table>\n",
              "</div>\n",
              "    <div class=\"colab-df-buttons\">\n",
              "\n",
              "  <div class=\"colab-df-container\">\n",
              "    <button class=\"colab-df-convert\" onclick=\"convertToInteractive('df-faca51b4-0949-4549-9cb6-741ac912bfd3')\"\n",
              "            title=\"Convert this dataframe to an interactive table.\"\n",
              "            style=\"display:none;\">\n",
              "\n",
              "  <svg xmlns=\"http://www.w3.org/2000/svg\" height=\"24px\" viewBox=\"0 -960 960 960\">\n",
              "    <path d=\"M120-120v-720h720v720H120Zm60-500h600v-160H180v160Zm220 220h160v-160H400v160Zm0 220h160v-160H400v160ZM180-400h160v-160H180v160Zm440 0h160v-160H620v160ZM180-180h160v-160H180v160Zm440 0h160v-160H620v160Z\"/>\n",
              "  </svg>\n",
              "    </button>\n",
              "\n",
              "  <style>\n",
              "    .colab-df-container {\n",
              "      display:flex;\n",
              "      gap: 12px;\n",
              "    }\n",
              "\n",
              "    .colab-df-convert {\n",
              "      background-color: #E8F0FE;\n",
              "      border: none;\n",
              "      border-radius: 50%;\n",
              "      cursor: pointer;\n",
              "      display: none;\n",
              "      fill: #1967D2;\n",
              "      height: 32px;\n",
              "      padding: 0 0 0 0;\n",
              "      width: 32px;\n",
              "    }\n",
              "\n",
              "    .colab-df-convert:hover {\n",
              "      background-color: #E2EBFA;\n",
              "      box-shadow: 0px 1px 2px rgba(60, 64, 67, 0.3), 0px 1px 3px 1px rgba(60, 64, 67, 0.15);\n",
              "      fill: #174EA6;\n",
              "    }\n",
              "\n",
              "    .colab-df-buttons div {\n",
              "      margin-bottom: 4px;\n",
              "    }\n",
              "\n",
              "    [theme=dark] .colab-df-convert {\n",
              "      background-color: #3B4455;\n",
              "      fill: #D2E3FC;\n",
              "    }\n",
              "\n",
              "    [theme=dark] .colab-df-convert:hover {\n",
              "      background-color: #434B5C;\n",
              "      box-shadow: 0px 1px 3px 1px rgba(0, 0, 0, 0.15);\n",
              "      filter: drop-shadow(0px 1px 2px rgba(0, 0, 0, 0.3));\n",
              "      fill: #FFFFFF;\n",
              "    }\n",
              "  </style>\n",
              "\n",
              "    <script>\n",
              "      const buttonEl =\n",
              "        document.querySelector('#df-faca51b4-0949-4549-9cb6-741ac912bfd3 button.colab-df-convert');\n",
              "      buttonEl.style.display =\n",
              "        google.colab.kernel.accessAllowed ? 'block' : 'none';\n",
              "\n",
              "      async function convertToInteractive(key) {\n",
              "        const element = document.querySelector('#df-faca51b4-0949-4549-9cb6-741ac912bfd3');\n",
              "        const dataTable =\n",
              "          await google.colab.kernel.invokeFunction('convertToInteractive',\n",
              "                                                    [key], {});\n",
              "        if (!dataTable) return;\n",
              "\n",
              "        const docLinkHtml = 'Like what you see? Visit the ' +\n",
              "          '<a target=\"_blank\" href=https://colab.research.google.com/notebooks/data_table.ipynb>data table notebook</a>'\n",
              "          + ' to learn more about interactive tables.';\n",
              "        element.innerHTML = '';\n",
              "        dataTable['output_type'] = 'display_data';\n",
              "        await google.colab.output.renderOutput(dataTable, element);\n",
              "        const docLink = document.createElement('div');\n",
              "        docLink.innerHTML = docLinkHtml;\n",
              "        element.appendChild(docLink);\n",
              "      }\n",
              "    </script>\n",
              "  </div>\n",
              "\n",
              "\n",
              "    </div>\n",
              "  </div>\n"
            ],
            "application/vnd.google.colaboratory.intrinsic+json": {
              "type": "dataframe",
              "summary": "{\n  \"name\": \"df1[df1['Chip Time']==df1['Chip Time']\",\n  \"rows\": 1,\n  \"fields\": [\n    {\n      \"column\": \"Rank\",\n      \"properties\": {\n        \"dtype\": \"number\",\n        \"std\": null,\n        \"min\": 1,\n        \"max\": 1,\n        \"num_unique_values\": 1,\n        \"samples\": [\n          1\n        ],\n        \"semantic_type\": \"\",\n        \"description\": \"\"\n      }\n    },\n    {\n      \"column\": \"Gender Rank\",\n      \"properties\": {\n        \"dtype\": \"number\",\n        \"std\": null,\n        \"min\": 1,\n        \"max\": 1,\n        \"num_unique_values\": 1,\n        \"samples\": [\n          1\n        ],\n        \"semantic_type\": \"\",\n        \"description\": \"\"\n      }\n    },\n    {\n      \"column\": \"Gender\",\n      \"properties\": {\n        \"dtype\": \"category\",\n        \"num_unique_values\": 1,\n        \"samples\": [\n          \"Male\"\n        ],\n        \"semantic_type\": \"\",\n        \"description\": \"\"\n      }\n    },\n    {\n      \"column\": \"Category\",\n      \"properties\": {\n        \"dtype\": \"category\",\n        \"num_unique_values\": 1,\n        \"samples\": [\n          \"4KM FUN RUN\"\n        ],\n        \"semantic_type\": \"\",\n        \"description\": \"\"\n      }\n    },\n    {\n      \"column\": \"Nationality\",\n      \"properties\": {\n        \"dtype\": \"category\",\n        \"num_unique_values\": 1,\n        \"samples\": [\n          \"JO\"\n        ],\n        \"semantic_type\": \"\",\n        \"description\": \"\"\n      }\n    },\n    {\n      \"column\": \"Gun Time\",\n      \"properties\": {\n        \"dtype\": \"timedelta64[ns]\",\n        \"num_unique_values\": 1,\n        \"samples\": [\n          \"0 days 00:13:18.041000\"\n        ],\n        \"semantic_type\": \"\",\n        \"description\": \"\"\n      }\n    },\n    {\n      \"column\": \"Chip Time\",\n      \"properties\": {\n        \"dtype\": \"timedelta64[ns]\",\n        \"num_unique_values\": 1,\n        \"samples\": [\n          \"0 days 00:13:09.399000\"\n        ],\n        \"semantic_type\": \"\",\n        \"description\": \"\"\n      }\n    },\n    {\n      \"column\": \"Speed Km/Hr\",\n      \"properties\": {\n        \"dtype\": \"number\",\n        \"std\": null,\n        \"min\": 18.2,\n        \"max\": 18.2,\n        \"num_unique_values\": 1,\n        \"samples\": [\n          18.2\n        ],\n        \"semantic_type\": \"\",\n        \"description\": \"\"\n      }\n    },\n    {\n      \"column\": \"Pace min/km\",\n      \"properties\": {\n        \"dtype\": \"number\",\n        \"std\": null,\n        \"min\": 3.17,\n        \"max\": 3.17,\n        \"num_unique_values\": 1,\n        \"samples\": [\n          3.17\n        ],\n        \"semantic_type\": \"\",\n        \"description\": \"\"\n      }\n    },\n    {\n      \"column\": \"Distance Km\",\n      \"properties\": {\n        \"dtype\": \"number\",\n        \"std\": null,\n        \"min\": 4.0,\n        \"max\": 4.0,\n        \"num_unique_values\": 1,\n        \"samples\": [\n          4.0\n        ],\n        \"semantic_type\": \"\",\n        \"description\": \"\"\n      }\n    },\n    {\n      \"column\": \"Rank_Total\",\n      \"properties\": {\n        \"dtype\": \"number\",\n        \"std\": null,\n        \"min\": 2220,\n        \"max\": 2220,\n        \"num_unique_values\": 1,\n        \"samples\": [\n          2220\n        ],\n        \"semantic_type\": \"\",\n        \"description\": \"\"\n      }\n    },\n    {\n      \"column\": \"Gender_Rank_Total\",\n      \"properties\": {\n        \"dtype\": \"number\",\n        \"std\": null,\n        \"min\": 1182,\n        \"max\": 1182,\n        \"num_unique_values\": 1,\n        \"samples\": [\n          1182\n        ],\n        \"semantic_type\": \"\",\n        \"description\": \"\"\n      }\n    },\n    {\n      \"column\": \"Time_Difference\",\n      \"properties\": {\n        \"dtype\": \"timedelta64[ns]\",\n        \"num_unique_values\": 1,\n        \"samples\": [\n          \"0 days 00:00:08.642000\"\n        ],\n        \"semantic_type\": \"\",\n        \"description\": \"\"\n      }\n    }\n  ]\n}"
            }
          },
          "metadata": {},
          "execution_count": 276
        }
      ],
      "source": [
        "# Q2\n",
        "\n",
        "####\n",
        "\n",
        "df1['Chip Time'].min()\n",
        "df1[df1['Chip Time']==df1['Chip Time'].min()]"
      ]
    },
    {
      "cell_type": "code",
      "source": [
        "# Q2\n",
        "\n",
        "####\n",
        "\n",
        "df1['Chip Time'].min()\n",
        "df1[df1['Chip Time']==df1['Chip Time'].min()]"
      ],
      "metadata": {
        "colab": {
          "base_uri": "https://localhost:8080/",
          "height": 135
        },
        "id": "aWtUV1_-zq_8",
        "outputId": "ea20b85e-e3dd-4336-bfbd-cbfdf8f57459"
      },
      "id": "aWtUV1_-zq_8",
      "execution_count": 279,
      "outputs": [
        {
          "output_type": "execute_result",
          "data": {
            "text/plain": [
              "    Rank  Gender Rank Gender     Category Nationality               Gun Time  \\\n",
              "10    16           16   Male  4KM FUN RUN          BH 0 days 00:15:28.515000   \n",
              "\n",
              "                Chip Time  Speed Km/Hr  Pace min/km  Distance Km  Rank_Total  \\\n",
              "10 0 days 00:15:19.018000         15.6         3.49          4.0        2220   \n",
              "\n",
              "    Gender_Rank_Total        Time_Difference  speed_z_score  \n",
              "10               1182 0 days 00:00:09.497000       2.985425  "
            ],
            "text/html": [
              "\n",
              "  <div id=\"df-da929225-4338-490a-bd6c-09d99d47c85d\" class=\"colab-df-container\">\n",
              "    <div>\n",
              "<style scoped>\n",
              "    .dataframe tbody tr th:only-of-type {\n",
              "        vertical-align: middle;\n",
              "    }\n",
              "\n",
              "    .dataframe tbody tr th {\n",
              "        vertical-align: top;\n",
              "    }\n",
              "\n",
              "    .dataframe thead th {\n",
              "        text-align: right;\n",
              "    }\n",
              "</style>\n",
              "<table border=\"1\" class=\"dataframe\">\n",
              "  <thead>\n",
              "    <tr style=\"text-align: right;\">\n",
              "      <th></th>\n",
              "      <th>Rank</th>\n",
              "      <th>Gender Rank</th>\n",
              "      <th>Gender</th>\n",
              "      <th>Category</th>\n",
              "      <th>Nationality</th>\n",
              "      <th>Gun Time</th>\n",
              "      <th>Chip Time</th>\n",
              "      <th>Speed Km/Hr</th>\n",
              "      <th>Pace min/km</th>\n",
              "      <th>Distance Km</th>\n",
              "      <th>Rank_Total</th>\n",
              "      <th>Gender_Rank_Total</th>\n",
              "      <th>Time_Difference</th>\n",
              "      <th>speed_z_score</th>\n",
              "    </tr>\n",
              "  </thead>\n",
              "  <tbody>\n",
              "    <tr>\n",
              "      <th>10</th>\n",
              "      <td>16</td>\n",
              "      <td>16</td>\n",
              "      <td>Male</td>\n",
              "      <td>4KM FUN RUN</td>\n",
              "      <td>BH</td>\n",
              "      <td>0 days 00:15:28.515000</td>\n",
              "      <td>0 days 00:15:19.018000</td>\n",
              "      <td>15.6</td>\n",
              "      <td>3.49</td>\n",
              "      <td>4.0</td>\n",
              "      <td>2220</td>\n",
              "      <td>1182</td>\n",
              "      <td>0 days 00:00:09.497000</td>\n",
              "      <td>2.985425</td>\n",
              "    </tr>\n",
              "  </tbody>\n",
              "</table>\n",
              "</div>\n",
              "    <div class=\"colab-df-buttons\">\n",
              "\n",
              "  <div class=\"colab-df-container\">\n",
              "    <button class=\"colab-df-convert\" onclick=\"convertToInteractive('df-da929225-4338-490a-bd6c-09d99d47c85d')\"\n",
              "            title=\"Convert this dataframe to an interactive table.\"\n",
              "            style=\"display:none;\">\n",
              "\n",
              "  <svg xmlns=\"http://www.w3.org/2000/svg\" height=\"24px\" viewBox=\"0 -960 960 960\">\n",
              "    <path d=\"M120-120v-720h720v720H120Zm60-500h600v-160H180v160Zm220 220h160v-160H400v160Zm0 220h160v-160H400v160ZM180-400h160v-160H180v160Zm440 0h160v-160H620v160ZM180-180h160v-160H180v160Zm440 0h160v-160H620v160Z\"/>\n",
              "  </svg>\n",
              "    </button>\n",
              "\n",
              "  <style>\n",
              "    .colab-df-container {\n",
              "      display:flex;\n",
              "      gap: 12px;\n",
              "    }\n",
              "\n",
              "    .colab-df-convert {\n",
              "      background-color: #E8F0FE;\n",
              "      border: none;\n",
              "      border-radius: 50%;\n",
              "      cursor: pointer;\n",
              "      display: none;\n",
              "      fill: #1967D2;\n",
              "      height: 32px;\n",
              "      padding: 0 0 0 0;\n",
              "      width: 32px;\n",
              "    }\n",
              "\n",
              "    .colab-df-convert:hover {\n",
              "      background-color: #E2EBFA;\n",
              "      box-shadow: 0px 1px 2px rgba(60, 64, 67, 0.3), 0px 1px 3px 1px rgba(60, 64, 67, 0.15);\n",
              "      fill: #174EA6;\n",
              "    }\n",
              "\n",
              "    .colab-df-buttons div {\n",
              "      margin-bottom: 4px;\n",
              "    }\n",
              "\n",
              "    [theme=dark] .colab-df-convert {\n",
              "      background-color: #3B4455;\n",
              "      fill: #D2E3FC;\n",
              "    }\n",
              "\n",
              "    [theme=dark] .colab-df-convert:hover {\n",
              "      background-color: #434B5C;\n",
              "      box-shadow: 0px 1px 3px 1px rgba(0, 0, 0, 0.15);\n",
              "      filter: drop-shadow(0px 1px 2px rgba(0, 0, 0, 0.3));\n",
              "      fill: #FFFFFF;\n",
              "    }\n",
              "  </style>\n",
              "\n",
              "    <script>\n",
              "      const buttonEl =\n",
              "        document.querySelector('#df-da929225-4338-490a-bd6c-09d99d47c85d button.colab-df-convert');\n",
              "      buttonEl.style.display =\n",
              "        google.colab.kernel.accessAllowed ? 'block' : 'none';\n",
              "\n",
              "      async function convertToInteractive(key) {\n",
              "        const element = document.querySelector('#df-da929225-4338-490a-bd6c-09d99d47c85d');\n",
              "        const dataTable =\n",
              "          await google.colab.kernel.invokeFunction('convertToInteractive',\n",
              "                                                    [key], {});\n",
              "        if (!dataTable) return;\n",
              "\n",
              "        const docLinkHtml = 'Like what you see? Visit the ' +\n",
              "          '<a target=\"_blank\" href=https://colab.research.google.com/notebooks/data_table.ipynb>data table notebook</a>'\n",
              "          + ' to learn more about interactive tables.';\n",
              "        element.innerHTML = '';\n",
              "        dataTable['output_type'] = 'display_data';\n",
              "        await google.colab.output.renderOutput(dataTable, element);\n",
              "        const docLink = document.createElement('div');\n",
              "        docLink.innerHTML = docLinkHtml;\n",
              "        element.appendChild(docLink);\n",
              "      }\n",
              "    </script>\n",
              "  </div>\n",
              "\n",
              "\n",
              "    </div>\n",
              "  </div>\n"
            ],
            "application/vnd.google.colaboratory.intrinsic+json": {
              "type": "dataframe",
              "summary": "{\n  \"name\": \"df1[df1['Chip Time']==df1['Chip Time']\",\n  \"rows\": 1,\n  \"fields\": [\n    {\n      \"column\": \"Rank\",\n      \"properties\": {\n        \"dtype\": \"number\",\n        \"std\": null,\n        \"min\": 16,\n        \"max\": 16,\n        \"num_unique_values\": 1,\n        \"samples\": [\n          16\n        ],\n        \"semantic_type\": \"\",\n        \"description\": \"\"\n      }\n    },\n    {\n      \"column\": \"Gender Rank\",\n      \"properties\": {\n        \"dtype\": \"number\",\n        \"std\": null,\n        \"min\": 16,\n        \"max\": 16,\n        \"num_unique_values\": 1,\n        \"samples\": [\n          16\n        ],\n        \"semantic_type\": \"\",\n        \"description\": \"\"\n      }\n    },\n    {\n      \"column\": \"Gender\",\n      \"properties\": {\n        \"dtype\": \"category\",\n        \"num_unique_values\": 1,\n        \"samples\": [\n          \"Male\"\n        ],\n        \"semantic_type\": \"\",\n        \"description\": \"\"\n      }\n    },\n    {\n      \"column\": \"Category\",\n      \"properties\": {\n        \"dtype\": \"category\",\n        \"num_unique_values\": 1,\n        \"samples\": [\n          \"4KM FUN RUN\"\n        ],\n        \"semantic_type\": \"\",\n        \"description\": \"\"\n      }\n    },\n    {\n      \"column\": \"Nationality\",\n      \"properties\": {\n        \"dtype\": \"category\",\n        \"num_unique_values\": 1,\n        \"samples\": [\n          \"BH\"\n        ],\n        \"semantic_type\": \"\",\n        \"description\": \"\"\n      }\n    },\n    {\n      \"column\": \"Gun Time\",\n      \"properties\": {\n        \"dtype\": \"timedelta64[ns]\",\n        \"num_unique_values\": 1,\n        \"samples\": [\n          \"0 days 00:15:28.515000\"\n        ],\n        \"semantic_type\": \"\",\n        \"description\": \"\"\n      }\n    },\n    {\n      \"column\": \"Chip Time\",\n      \"properties\": {\n        \"dtype\": \"timedelta64[ns]\",\n        \"num_unique_values\": 1,\n        \"samples\": [\n          \"0 days 00:15:19.018000\"\n        ],\n        \"semantic_type\": \"\",\n        \"description\": \"\"\n      }\n    },\n    {\n      \"column\": \"Speed Km/Hr\",\n      \"properties\": {\n        \"dtype\": \"number\",\n        \"std\": null,\n        \"min\": 15.6,\n        \"max\": 15.6,\n        \"num_unique_values\": 1,\n        \"samples\": [\n          15.6\n        ],\n        \"semantic_type\": \"\",\n        \"description\": \"\"\n      }\n    },\n    {\n      \"column\": \"Pace min/km\",\n      \"properties\": {\n        \"dtype\": \"number\",\n        \"std\": null,\n        \"min\": 3.49,\n        \"max\": 3.49,\n        \"num_unique_values\": 1,\n        \"samples\": [\n          3.49\n        ],\n        \"semantic_type\": \"\",\n        \"description\": \"\"\n      }\n    },\n    {\n      \"column\": \"Distance Km\",\n      \"properties\": {\n        \"dtype\": \"number\",\n        \"std\": null,\n        \"min\": 4.0,\n        \"max\": 4.0,\n        \"num_unique_values\": 1,\n        \"samples\": [\n          4.0\n        ],\n        \"semantic_type\": \"\",\n        \"description\": \"\"\n      }\n    },\n    {\n      \"column\": \"Rank_Total\",\n      \"properties\": {\n        \"dtype\": \"number\",\n        \"std\": null,\n        \"min\": 2220,\n        \"max\": 2220,\n        \"num_unique_values\": 1,\n        \"samples\": [\n          2220\n        ],\n        \"semantic_type\": \"\",\n        \"description\": \"\"\n      }\n    },\n    {\n      \"column\": \"Gender_Rank_Total\",\n      \"properties\": {\n        \"dtype\": \"number\",\n        \"std\": null,\n        \"min\": 1182,\n        \"max\": 1182,\n        \"num_unique_values\": 1,\n        \"samples\": [\n          1182\n        ],\n        \"semantic_type\": \"\",\n        \"description\": \"\"\n      }\n    },\n    {\n      \"column\": \"Time_Difference\",\n      \"properties\": {\n        \"dtype\": \"timedelta64[ns]\",\n        \"num_unique_values\": 1,\n        \"samples\": [\n          \"0 days 00:00:09.497000\"\n        ],\n        \"semantic_type\": \"\",\n        \"description\": \"\"\n      }\n    },\n    {\n      \"column\": \"speed_z_score\",\n      \"properties\": {\n        \"dtype\": \"number\",\n        \"std\": null,\n        \"min\": 2.9854245373476407,\n        \"max\": 2.9854245373476407,\n        \"num_unique_values\": 1,\n        \"samples\": [\n          2.9854245373476407\n        ],\n        \"semantic_type\": \"\",\n        \"description\": \"\"\n      }\n    }\n  ]\n}"
            }
          },
          "metadata": {},
          "execution_count": 279
        }
      ]
    },
    {
      "cell_type": "code",
      "source": [
        "#Is the event considered international? Can you provide an estimate of the\n",
        "#proportion of participants from other countries?\"\n",
        "\n",
        "Marathon_df['Nationality'].value_counts().head()/len(Marathon_df) * 100"
      ],
      "metadata": {
        "colab": {
          "base_uri": "https://localhost:8080/"
        },
        "id": "6_fN0N5g2OLg",
        "outputId": "4e1f35bc-fb3e-45f6-9b9b-268619c24129"
      },
      "id": "6_fN0N5g2OLg",
      "execution_count": 275,
      "outputs": [
        {
          "output_type": "execute_result",
          "data": {
            "text/plain": [
              "Nationality\n",
              "SA         53.563569\n",
              "PH          7.076350\n",
              "unknown     4.875571\n",
              "IN          3.927544\n",
              "GB          3.368884\n",
              "Name: count, dtype: float64"
            ]
          },
          "metadata": {},
          "execution_count": 275
        }
      ]
    },
    {
      "cell_type": "code",
      "source": [
        "df1['Nationality'].value_counts().head()/len(df1) * 100"
      ],
      "metadata": {
        "colab": {
          "base_uri": "https://localhost:8080/"
        },
        "id": "Y8nwMhjAXK4T",
        "outputId": "e1c32d2b-7c64-49de-d5ea-652b6568b8e6"
      },
      "id": "Y8nwMhjAXK4T",
      "execution_count": 281,
      "outputs": [
        {
          "output_type": "execute_result",
          "data": {
            "text/plain": [
              "Nationality\n",
              "SA    56.097561\n",
              "BH     7.317073\n",
              "YE     7.317073\n",
              "GB     7.317073\n",
              "QA     4.878049\n",
              "Name: count, dtype: float64"
            ]
          },
          "metadata": {},
          "execution_count": 281
        }
      ]
    },
    {
      "cell_type": "code",
      "source": [],
      "metadata": {
        "id": "tun0buTc0yPl"
      },
      "id": "tun0buTc0yPl",
      "execution_count": null,
      "outputs": []
    }
  ],
  "metadata": {
    "kernelspec": {
      "display_name": "DP",
      "language": "python",
      "name": "dp"
    },
    "language_info": {
      "codemirror_mode": {
        "name": "ipython",
        "version": 3
      },
      "file_extension": ".py",
      "mimetype": "text/x-python",
      "name": "python",
      "nbconvert_exporter": "python",
      "pygments_lexer": "ipython3",
      "version": "3.11.7"
    },
    "colab": {
      "provenance": []
    }
  },
  "nbformat": 4,
  "nbformat_minor": 5
}